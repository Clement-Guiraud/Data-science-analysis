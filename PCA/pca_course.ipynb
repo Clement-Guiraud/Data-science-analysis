{
 "cells": [
  {
   "cell_type": "code",
   "execution_count": 1,
   "metadata": {},
   "outputs": [],
   "source": [
    "# import the usual modules\n",
    "import os\n",
    "import numpy as np\n",
    "import pandas as pd \n",
    "import matplotlib.pyplot as plt\n",
    "import seaborn as sns\n",
    "%matplotlib inline"
   ]
  },
  {
   "cell_type": "code",
   "execution_count": 2,
   "metadata": {},
   "outputs": [
    {
     "data": {
      "text/plain": [
       "'/Users/clement.guiraud/Desktop/Data analysis/Data analysis track'"
      ]
     },
     "execution_count": 2,
     "metadata": {},
     "output_type": "execute_result"
    }
   ],
   "source": [
    "# get current working directory\n",
    "os.getcwd()"
   ]
  },
  {
   "cell_type": "code",
   "execution_count": 3,
   "metadata": {},
   "outputs": [
    {
     "data": {
      "text/plain": [
       "'/Users/clement.guiraud/Desktop/Data analysis/Data analysis track'"
      ]
     },
     "execution_count": 3,
     "metadata": {},
     "output_type": "execute_result"
    }
   ],
   "source": [
    "# to be adjusted on your own computer\n",
    "os.chdir('../Data analysis track')\n",
    "os.getcwd()"
   ]
  },
  {
   "cell_type": "code",
   "execution_count": 4,
   "metadata": {},
   "outputs": [
    {
     "name": "stdout",
     "output_type": "stream",
     "text": [
      "<class 'pandas.core.frame.DataFrame'>\n",
      "Index: 18 entries, Alfasud TI to Lada 1300\n",
      "Data columns (total 6 columns):\n",
      " #   Column  Non-Null Count  Dtype\n",
      "---  ------  --------------  -----\n",
      " 0   CYL     18 non-null     int64\n",
      " 1   PUISS   18 non-null     int64\n",
      " 2   LONG    18 non-null     int64\n",
      " 3   LARG    18 non-null     int64\n",
      " 4   POIDS   18 non-null     int64\n",
      " 5   VMAX    18 non-null     int64\n",
      "dtypes: int64(6)\n",
      "memory usage: 1008.0+ bytes\n"
     ]
    }
   ],
   "source": [
    "# import data from Excel file - index_col = 0 indicates that the first column is a label\n",
    "df = pd.read_excel(\"Data_Methodes_Factorielles.xlsx\",sheet_name=\"DATA_ACP_ACTIF\",index_col=0)\n",
    "\n",
    "# print summary\n",
    "df.info()"
   ]
  },
  {
   "cell_type": "code",
   "execution_count": 5,
   "metadata": {},
   "outputs": [
    {
     "data": {
      "text/html": [
       "<div>\n",
       "<style scoped>\n",
       "    .dataframe tbody tr th:only-of-type {\n",
       "        vertical-align: middle;\n",
       "    }\n",
       "\n",
       "    .dataframe tbody tr th {\n",
       "        vertical-align: top;\n",
       "    }\n",
       "\n",
       "    .dataframe thead th {\n",
       "        text-align: right;\n",
       "    }\n",
       "</style>\n",
       "<table border=\"1\" class=\"dataframe\">\n",
       "  <thead>\n",
       "    <tr style=\"text-align: right;\">\n",
       "      <th></th>\n",
       "      <th>CYL</th>\n",
       "      <th>PUISS</th>\n",
       "      <th>LONG</th>\n",
       "      <th>LARG</th>\n",
       "      <th>POIDS</th>\n",
       "      <th>VMAX</th>\n",
       "    </tr>\n",
       "    <tr>\n",
       "      <th>Modele</th>\n",
       "      <th></th>\n",
       "      <th></th>\n",
       "      <th></th>\n",
       "      <th></th>\n",
       "      <th></th>\n",
       "      <th></th>\n",
       "    </tr>\n",
       "  </thead>\n",
       "  <tbody>\n",
       "    <tr>\n",
       "      <th>Alfasud TI</th>\n",
       "      <td>1350</td>\n",
       "      <td>79</td>\n",
       "      <td>393</td>\n",
       "      <td>161</td>\n",
       "      <td>870</td>\n",
       "      <td>165</td>\n",
       "    </tr>\n",
       "    <tr>\n",
       "      <th>Audi 100</th>\n",
       "      <td>1588</td>\n",
       "      <td>85</td>\n",
       "      <td>468</td>\n",
       "      <td>177</td>\n",
       "      <td>1110</td>\n",
       "      <td>160</td>\n",
       "    </tr>\n",
       "    <tr>\n",
       "      <th>Simca 1300</th>\n",
       "      <td>1294</td>\n",
       "      <td>68</td>\n",
       "      <td>424</td>\n",
       "      <td>168</td>\n",
       "      <td>1050</td>\n",
       "      <td>152</td>\n",
       "    </tr>\n",
       "    <tr>\n",
       "      <th>Citroen GS Club</th>\n",
       "      <td>1222</td>\n",
       "      <td>59</td>\n",
       "      <td>412</td>\n",
       "      <td>161</td>\n",
       "      <td>930</td>\n",
       "      <td>151</td>\n",
       "    </tr>\n",
       "    <tr>\n",
       "      <th>Fiat 132</th>\n",
       "      <td>1585</td>\n",
       "      <td>98</td>\n",
       "      <td>439</td>\n",
       "      <td>164</td>\n",
       "      <td>1105</td>\n",
       "      <td>165</td>\n",
       "    </tr>\n",
       "    <tr>\n",
       "      <th>Lancia Beta</th>\n",
       "      <td>1297</td>\n",
       "      <td>82</td>\n",
       "      <td>429</td>\n",
       "      <td>169</td>\n",
       "      <td>1080</td>\n",
       "      <td>160</td>\n",
       "    </tr>\n",
       "    <tr>\n",
       "      <th>Peugeot 504</th>\n",
       "      <td>1796</td>\n",
       "      <td>79</td>\n",
       "      <td>449</td>\n",
       "      <td>169</td>\n",
       "      <td>1160</td>\n",
       "      <td>154</td>\n",
       "    </tr>\n",
       "    <tr>\n",
       "      <th>Renault 16 TL</th>\n",
       "      <td>1565</td>\n",
       "      <td>55</td>\n",
       "      <td>424</td>\n",
       "      <td>163</td>\n",
       "      <td>1010</td>\n",
       "      <td>140</td>\n",
       "    </tr>\n",
       "    <tr>\n",
       "      <th>Renault 30</th>\n",
       "      <td>2664</td>\n",
       "      <td>128</td>\n",
       "      <td>452</td>\n",
       "      <td>173</td>\n",
       "      <td>1320</td>\n",
       "      <td>180</td>\n",
       "    </tr>\n",
       "    <tr>\n",
       "      <th>Toyota Corolla</th>\n",
       "      <td>1166</td>\n",
       "      <td>55</td>\n",
       "      <td>399</td>\n",
       "      <td>157</td>\n",
       "      <td>815</td>\n",
       "      <td>140</td>\n",
       "    </tr>\n",
       "    <tr>\n",
       "      <th>Alfetta 1.66</th>\n",
       "      <td>1570</td>\n",
       "      <td>109</td>\n",
       "      <td>428</td>\n",
       "      <td>162</td>\n",
       "      <td>1060</td>\n",
       "      <td>175</td>\n",
       "    </tr>\n",
       "    <tr>\n",
       "      <th>Princess 1800</th>\n",
       "      <td>1798</td>\n",
       "      <td>82</td>\n",
       "      <td>445</td>\n",
       "      <td>172</td>\n",
       "      <td>1160</td>\n",
       "      <td>158</td>\n",
       "    </tr>\n",
       "    <tr>\n",
       "      <th>Datsun 200L</th>\n",
       "      <td>1998</td>\n",
       "      <td>115</td>\n",
       "      <td>469</td>\n",
       "      <td>169</td>\n",
       "      <td>1370</td>\n",
       "      <td>160</td>\n",
       "    </tr>\n",
       "    <tr>\n",
       "      <th>Taunus 2000</th>\n",
       "      <td>1993</td>\n",
       "      <td>98</td>\n",
       "      <td>438</td>\n",
       "      <td>170</td>\n",
       "      <td>1080</td>\n",
       "      <td>167</td>\n",
       "    </tr>\n",
       "    <tr>\n",
       "      <th>Rancho</th>\n",
       "      <td>1442</td>\n",
       "      <td>80</td>\n",
       "      <td>431</td>\n",
       "      <td>166</td>\n",
       "      <td>1129</td>\n",
       "      <td>144</td>\n",
       "    </tr>\n",
       "    <tr>\n",
       "      <th>Mazda 9295</th>\n",
       "      <td>1769</td>\n",
       "      <td>83</td>\n",
       "      <td>440</td>\n",
       "      <td>165</td>\n",
       "      <td>1095</td>\n",
       "      <td>165</td>\n",
       "    </tr>\n",
       "    <tr>\n",
       "      <th>Opel Rekord</th>\n",
       "      <td>1979</td>\n",
       "      <td>100</td>\n",
       "      <td>459</td>\n",
       "      <td>173</td>\n",
       "      <td>1120</td>\n",
       "      <td>173</td>\n",
       "    </tr>\n",
       "    <tr>\n",
       "      <th>Lada 1300</th>\n",
       "      <td>1294</td>\n",
       "      <td>68</td>\n",
       "      <td>404</td>\n",
       "      <td>161</td>\n",
       "      <td>955</td>\n",
       "      <td>140</td>\n",
       "    </tr>\n",
       "  </tbody>\n",
       "</table>\n",
       "</div>"
      ],
      "text/plain": [
       "                  CYL  PUISS  LONG  LARG  POIDS  VMAX\n",
       "Modele                                               \n",
       "Alfasud TI       1350     79   393   161    870   165\n",
       "Audi 100         1588     85   468   177   1110   160\n",
       "Simca 1300       1294     68   424   168   1050   152\n",
       "Citroen GS Club  1222     59   412   161    930   151\n",
       "Fiat 132         1585     98   439   164   1105   165\n",
       "Lancia Beta      1297     82   429   169   1080   160\n",
       "Peugeot 504      1796     79   449   169   1160   154\n",
       "Renault 16 TL    1565     55   424   163   1010   140\n",
       "Renault 30       2664    128   452   173   1320   180\n",
       "Toyota Corolla   1166     55   399   157    815   140\n",
       "Alfetta 1.66     1570    109   428   162   1060   175\n",
       "Princess 1800    1798     82   445   172   1160   158\n",
       "Datsun 200L      1998    115   469   169   1370   160\n",
       "Taunus 2000      1993     98   438   170   1080   167\n",
       "Rancho           1442     80   431   166   1129   144\n",
       "Mazda 9295       1769     83   440   165   1095   165\n",
       "Opel Rekord      1979    100   459   173   1120   173\n",
       "Lada 1300        1294     68   404   161    955   140"
      ]
     },
     "metadata": {},
     "output_type": "display_data"
    }
   ],
   "source": [
    "# display all the dataframe\n",
    "display(df)"
   ]
  },
  {
   "cell_type": "markdown",
   "metadata": {},
   "source": [
    "## Analyzing distance between individuals"
   ]
  },
  {
   "cell_type": "markdown",
   "metadata": {},
   "source": [
    "### Two features only"
   ]
  },
  {
   "cell_type": "code",
   "execution_count": 6,
   "metadata": {},
   "outputs": [
    {
     "data": {
      "image/png": "[encoded data removed]",
      "text/plain": [
       "<Figure size 1000x1000 with 1 Axes>"
      ]
     },
     "metadata": {},
     "output_type": "display_data"
    }
   ],
   "source": [
    "# preparing the plot\n",
    "fig, ax = plt.subplots(figsize=(10,10))\n",
    "ax.plot(df['CYL'],df['PUISS'],\"ro\")\n",
    "ax.axis([1000,3000,50,140])\n",
    "ax.set_xlabel(\"CYL\")\n",
    "ax.set_ylabel(\"PUISS\")\n",
    "\n",
    "# adding labels to the cars\n",
    "for v in df.index:\n",
    "    ax.text(df.loc[v,\"CYL\"],df.loc[v,'PUISS'],v)\n",
    "    \n",
    "# display plot\n",
    "plt.show()"
   ]
  },
  {
   "cell_type": "code",
   "execution_count": 7,
   "metadata": {
    "scrolled": true
   },
   "outputs": [
    {
     "data": {
      "text/plain": [
       "['_PROPERTIES_EXCLUDED_FROM_SET',\n",
       " '__class__',\n",
       " '__delattr__',\n",
       " '__dict__',\n",
       " '__dir__',\n",
       " '__doc__',\n",
       " '__eq__',\n",
       " '__format__',\n",
       " '__ge__',\n",
       " '__getattribute__',\n",
       " '__getstate__',\n",
       " '__gt__',\n",
       " '__hash__',\n",
       " '__init__',\n",
       " '__init_subclass__',\n",
       " '__le__',\n",
       " '__lt__',\n",
       " '__module__',\n",
       " '__ne__',\n",
       " '__new__',\n",
       " '__reduce__',\n",
       " '__reduce_ex__',\n",
       " '__repr__',\n",
       " '__setattr__',\n",
       " '__setstate__',\n",
       " '__sizeof__',\n",
       " '__str__',\n",
       " '__subclasshook__',\n",
       " '__weakref__',\n",
       " '_add_axes_internal',\n",
       " '_agg_filter',\n",
       " '_align_label_groups',\n",
       " '_alpha',\n",
       " '_animated',\n",
       " '_axobservers',\n",
       " '_axstack',\n",
       " '_button_pick_id',\n",
       " '_cachedRenderer',\n",
       " '_callbacks',\n",
       " '_canvas_callbacks',\n",
       " '_clipon',\n",
       " '_clippath',\n",
       " '_cm_set',\n",
       " '_constrained',\n",
       " '_constrained_layout_pads',\n",
       " '_default_contains',\n",
       " '_dpi',\n",
       " '_gci',\n",
       " '_get_clipping_extent_bbox',\n",
       " '_get_dpi',\n",
       " '_get_draw_artists',\n",
       " '_gid',\n",
       " '_gridspecs',\n",
       " '_in_layout',\n",
       " '_label',\n",
       " '_localaxes',\n",
       " '_mouseover',\n",
       " '_normalize_grid_string',\n",
       " '_original_dpi',\n",
       " '_path_effects',\n",
       " '_picker',\n",
       " '_process_projection_requirements',\n",
       " '_rasterized',\n",
       " '_remove_method',\n",
       " '_repr_html_',\n",
       " '_scroll_pick_id',\n",
       " '_set_alpha_for_array',\n",
       " '_set_artist_props',\n",
       " '_set_dpi',\n",
       " '_set_gc_clip',\n",
       " '_sketch',\n",
       " '_snap',\n",
       " '_stale',\n",
       " '_sticky_edges',\n",
       " '_suplabels',\n",
       " '_suptitle',\n",
       " '_supxlabel',\n",
       " '_supylabel',\n",
       " '_tight',\n",
       " '_tight_parameters',\n",
       " '_transform',\n",
       " '_transformSet',\n",
       " '_update_set_signature_and_docstring',\n",
       " '_url',\n",
       " '_visible',\n",
       " 'add_artist',\n",
       " 'add_axes',\n",
       " 'add_axobserver',\n",
       " 'add_callback',\n",
       " 'add_gridspec',\n",
       " 'add_subfigure',\n",
       " 'add_subplot',\n",
       " 'align_labels',\n",
       " 'align_xlabels',\n",
       " 'align_ylabels',\n",
       " 'artists',\n",
       " 'autofmt_xdate',\n",
       " 'axes',\n",
       " 'bbox',\n",
       " 'bbox_inches',\n",
       " 'callbacks',\n",
       " 'canvas',\n",
       " 'clear',\n",
       " 'clf',\n",
       " 'clipbox',\n",
       " 'colorbar',\n",
       " 'contains',\n",
       " 'convert_xunits',\n",
       " 'convert_yunits',\n",
       " 'delaxes',\n",
       " 'dpi',\n",
       " 'dpi_scale_trans',\n",
       " 'draw',\n",
       " 'draw_artist',\n",
       " 'draw_without_rendering',\n",
       " 'execute_constrained_layout',\n",
       " 'figbbox',\n",
       " 'figimage',\n",
       " 'figure',\n",
       " 'findobj',\n",
       " 'format_cursor_data',\n",
       " 'frameon',\n",
       " 'gca',\n",
       " 'get_agg_filter',\n",
       " 'get_alpha',\n",
       " 'get_animated',\n",
       " 'get_axes',\n",
       " 'get_children',\n",
       " 'get_clip_box',\n",
       " 'get_clip_on',\n",
       " 'get_clip_path',\n",
       " 'get_constrained_layout',\n",
       " 'get_constrained_layout_pads',\n",
       " 'get_cursor_data',\n",
       " 'get_default_bbox_extra_artists',\n",
       " 'get_dpi',\n",
       " 'get_edgecolor',\n",
       " 'get_facecolor',\n",
       " 'get_figheight',\n",
       " 'get_figure',\n",
       " 'get_figwidth',\n",
       " 'get_frameon',\n",
       " 'get_gid',\n",
       " 'get_in_layout',\n",
       " 'get_label',\n",
       " 'get_linewidth',\n",
       " 'get_path_effects',\n",
       " 'get_picker',\n",
       " 'get_rasterized',\n",
       " 'get_size_inches',\n",
       " 'get_sketch_params',\n",
       " 'get_snap',\n",
       " 'get_tight_layout',\n",
       " 'get_tightbbox',\n",
       " 'get_transform',\n",
       " 'get_transformed_clip_path_and_affine',\n",
       " 'get_url',\n",
       " 'get_visible',\n",
       " 'get_window_extent',\n",
       " 'get_zorder',\n",
       " 'ginput',\n",
       " 'have_units',\n",
       " 'images',\n",
       " 'is_transform_set',\n",
       " 'legend',\n",
       " 'legends',\n",
       " 'lines',\n",
       " 'mouseover',\n",
       " 'number',\n",
       " 'patch',\n",
       " 'patches',\n",
       " 'pchanged',\n",
       " 'pick',\n",
       " 'pickable',\n",
       " 'properties',\n",
       " 'remove',\n",
       " 'remove_callback',\n",
       " 'savefig',\n",
       " 'sca',\n",
       " 'set',\n",
       " 'set_agg_filter',\n",
       " 'set_alpha',\n",
       " 'set_animated',\n",
       " 'set_canvas',\n",
       " 'set_clip_box',\n",
       " 'set_clip_on',\n",
       " 'set_clip_path',\n",
       " 'set_constrained_layout',\n",
       " 'set_constrained_layout_pads',\n",
       " 'set_dpi',\n",
       " 'set_edgecolor',\n",
       " 'set_facecolor',\n",
       " 'set_figheight',\n",
       " 'set_figure',\n",
       " 'set_figwidth',\n",
       " 'set_frameon',\n",
       " 'set_gid',\n",
       " 'set_in_layout',\n",
       " 'set_label',\n",
       " 'set_linewidth',\n",
       " 'set_path_effects',\n",
       " 'set_picker',\n",
       " 'set_rasterized',\n",
       " 'set_size_inches',\n",
       " 'set_sketch_params',\n",
       " 'set_snap',\n",
       " 'set_tight_layout',\n",
       " 'set_transform',\n",
       " 'set_url',\n",
       " 'set_visible',\n",
       " 'set_zorder',\n",
       " 'show',\n",
       " 'stale',\n",
       " 'stale_callback',\n",
       " 'sticky_edges',\n",
       " 'subfigs',\n",
       " 'subfigures',\n",
       " 'subplot_mosaic',\n",
       " 'subplotpars',\n",
       " 'subplots',\n",
       " 'subplots_adjust',\n",
       " 'suppressComposite',\n",
       " 'suptitle',\n",
       " 'supxlabel',\n",
       " 'supylabel',\n",
       " 'text',\n",
       " 'texts',\n",
       " 'tight_layout',\n",
       " 'transFigure',\n",
       " 'transSubfigure',\n",
       " 'update',\n",
       " 'update_from',\n",
       " 'waitforbuttonpress',\n",
       " 'zorder']"
      ]
     },
     "execution_count": 7,
     "metadata": {},
     "output_type": "execute_result"
    }
   ],
   "source": [
    "dir(fig)"
   ]
  },
  {
   "cell_type": "code",
   "execution_count": 8,
   "metadata": {},
   "outputs": [
    {
     "data": {
      "text/html": [
       "<div>\n",
       "<style scoped>\n",
       "    .dataframe tbody tr th:only-of-type {\n",
       "        vertical-align: middle;\n",
       "    }\n",
       "\n",
       "    .dataframe tbody tr th {\n",
       "        vertical-align: top;\n",
       "    }\n",
       "\n",
       "    .dataframe thead th {\n",
       "        text-align: right;\n",
       "    }\n",
       "</style>\n",
       "<table border=\"1\" class=\"dataframe\">\n",
       "  <thead>\n",
       "    <tr style=\"text-align: right;\">\n",
       "      <th></th>\n",
       "      <th>CYL</th>\n",
       "      <th>PUISS</th>\n",
       "    </tr>\n",
       "    <tr>\n",
       "      <th>Modele</th>\n",
       "      <th></th>\n",
       "      <th></th>\n",
       "    </tr>\n",
       "  </thead>\n",
       "  <tbody>\n",
       "    <tr>\n",
       "      <th>Toyota Corolla</th>\n",
       "      <td>1166</td>\n",
       "      <td>55</td>\n",
       "    </tr>\n",
       "    <tr>\n",
       "      <th>Citroen GS Club</th>\n",
       "      <td>1222</td>\n",
       "      <td>59</td>\n",
       "    </tr>\n",
       "    <tr>\n",
       "      <th>Lada 1300</th>\n",
       "      <td>1294</td>\n",
       "      <td>68</td>\n",
       "    </tr>\n",
       "    <tr>\n",
       "      <th>Simca 1300</th>\n",
       "      <td>1294</td>\n",
       "      <td>68</td>\n",
       "    </tr>\n",
       "    <tr>\n",
       "      <th>Lancia Beta</th>\n",
       "      <td>1297</td>\n",
       "      <td>82</td>\n",
       "    </tr>\n",
       "    <tr>\n",
       "      <th>Alfasud TI</th>\n",
       "      <td>1350</td>\n",
       "      <td>79</td>\n",
       "    </tr>\n",
       "    <tr>\n",
       "      <th>Rancho</th>\n",
       "      <td>1442</td>\n",
       "      <td>80</td>\n",
       "    </tr>\n",
       "    <tr>\n",
       "      <th>Renault 16 TL</th>\n",
       "      <td>1565</td>\n",
       "      <td>55</td>\n",
       "    </tr>\n",
       "    <tr>\n",
       "      <th>Alfetta 1.66</th>\n",
       "      <td>1570</td>\n",
       "      <td>109</td>\n",
       "    </tr>\n",
       "    <tr>\n",
       "      <th>Fiat 132</th>\n",
       "      <td>1585</td>\n",
       "      <td>98</td>\n",
       "    </tr>\n",
       "    <tr>\n",
       "      <th>Audi 100</th>\n",
       "      <td>1588</td>\n",
       "      <td>85</td>\n",
       "    </tr>\n",
       "    <tr>\n",
       "      <th>Mazda 9295</th>\n",
       "      <td>1769</td>\n",
       "      <td>83</td>\n",
       "    </tr>\n",
       "    <tr>\n",
       "      <th>Peugeot 504</th>\n",
       "      <td>1796</td>\n",
       "      <td>79</td>\n",
       "    </tr>\n",
       "    <tr>\n",
       "      <th>Princess 1800</th>\n",
       "      <td>1798</td>\n",
       "      <td>82</td>\n",
       "    </tr>\n",
       "    <tr>\n",
       "      <th>Opel Rekord</th>\n",
       "      <td>1979</td>\n",
       "      <td>100</td>\n",
       "    </tr>\n",
       "    <tr>\n",
       "      <th>Taunus 2000</th>\n",
       "      <td>1993</td>\n",
       "      <td>98</td>\n",
       "    </tr>\n",
       "    <tr>\n",
       "      <th>Datsun 200L</th>\n",
       "      <td>1998</td>\n",
       "      <td>115</td>\n",
       "    </tr>\n",
       "    <tr>\n",
       "      <th>Renault 30</th>\n",
       "      <td>2664</td>\n",
       "      <td>128</td>\n",
       "    </tr>\n",
       "  </tbody>\n",
       "</table>\n",
       "</div>"
      ],
      "text/plain": [
       "                  CYL  PUISS\n",
       "Modele                      \n",
       "Toyota Corolla   1166     55\n",
       "Citroen GS Club  1222     59\n",
       "Lada 1300        1294     68\n",
       "Simca 1300       1294     68\n",
       "Lancia Beta      1297     82\n",
       "Alfasud TI       1350     79\n",
       "Rancho           1442     80\n",
       "Renault 16 TL    1565     55\n",
       "Alfetta 1.66     1570    109\n",
       "Fiat 132         1585     98\n",
       "Audi 100         1588     85\n",
       "Mazda 9295       1769     83\n",
       "Peugeot 504      1796     79\n",
       "Princess 1800    1798     82\n",
       "Opel Rekord      1979    100\n",
       "Taunus 2000      1993     98\n",
       "Datsun 200L      1998    115\n",
       "Renault 30       2664    128"
      ]
     },
     "metadata": {},
     "output_type": "display_data"
    }
   ],
   "source": [
    "# print the two variables and sort by increasing value of cylinder\n",
    "dfbis = df[['CYL','PUISS']].sort_values(by=\"CYL\",ascending=True)\n",
    "display(dfbis)"
   ]
  },
  {
   "cell_type": "markdown",
   "metadata": {},
   "source": [
    "### Beyond two features"
   ]
  },
  {
   "cell_type": "code",
   "execution_count": 9,
   "metadata": {
    "scrolled": true
   },
   "outputs": [
    {
     "data": {
      "image/png": "[encoded data removed]",
      "text/plain": [
       "<Figure size 1500x1500 with 42 Axes>"
      ]
     },
     "metadata": {},
     "output_type": "display_data"
    }
   ],
   "source": [
    "# pairplot\n",
    "sns.pairplot(df) ;"
   ]
  },
  {
   "cell_type": "code",
   "execution_count": 10,
   "metadata": {},
   "outputs": [
    {
     "data": {
      "text/html": [
       "<div>\n",
       "<style scoped>\n",
       "    .dataframe tbody tr th:only-of-type {\n",
       "        vertical-align: middle;\n",
       "    }\n",
       "\n",
       "    .dataframe tbody tr th {\n",
       "        vertical-align: top;\n",
       "    }\n",
       "\n",
       "    .dataframe thead th {\n",
       "        text-align: right;\n",
       "    }\n",
       "</style>\n",
       "<table border=\"1\" class=\"dataframe\">\n",
       "  <thead>\n",
       "    <tr style=\"text-align: right;\">\n",
       "      <th></th>\n",
       "      <th>CYL</th>\n",
       "      <th>PUISS</th>\n",
       "      <th>LONG</th>\n",
       "      <th>LARG</th>\n",
       "      <th>POIDS</th>\n",
       "      <th>VMAX</th>\n",
       "    </tr>\n",
       "  </thead>\n",
       "  <tbody>\n",
       "    <tr>\n",
       "      <th>CYL</th>\n",
       "      <td>1.000000</td>\n",
       "      <td>0.793998</td>\n",
       "      <td>0.851756</td>\n",
       "      <td>0.756231</td>\n",
       "      <td>0.819638</td>\n",
       "      <td>0.651439</td>\n",
       "    </tr>\n",
       "    <tr>\n",
       "      <th>PUISS</th>\n",
       "      <td>0.793998</td>\n",
       "      <td>1.000000</td>\n",
       "      <td>0.731886</td>\n",
       "      <td>0.614346</td>\n",
       "      <td>0.680477</td>\n",
       "      <td>0.858933</td>\n",
       "    </tr>\n",
       "    <tr>\n",
       "      <th>LONG</th>\n",
       "      <td>0.851756</td>\n",
       "      <td>0.731886</td>\n",
       "      <td>1.000000</td>\n",
       "      <td>0.852704</td>\n",
       "      <td>0.914729</td>\n",
       "      <td>0.466501</td>\n",
       "    </tr>\n",
       "    <tr>\n",
       "      <th>LARG</th>\n",
       "      <td>0.756231</td>\n",
       "      <td>0.614346</td>\n",
       "      <td>0.852704</td>\n",
       "      <td>1.000000</td>\n",
       "      <td>0.784645</td>\n",
       "      <td>0.460094</td>\n",
       "    </tr>\n",
       "    <tr>\n",
       "      <th>POIDS</th>\n",
       "      <td>0.819638</td>\n",
       "      <td>0.680477</td>\n",
       "      <td>0.914729</td>\n",
       "      <td>0.784645</td>\n",
       "      <td>1.000000</td>\n",
       "      <td>0.373186</td>\n",
       "    </tr>\n",
       "    <tr>\n",
       "      <th>VMAX</th>\n",
       "      <td>0.651439</td>\n",
       "      <td>0.858933</td>\n",
       "      <td>0.466501</td>\n",
       "      <td>0.460094</td>\n",
       "      <td>0.373186</td>\n",
       "      <td>1.000000</td>\n",
       "    </tr>\n",
       "  </tbody>\n",
       "</table>\n",
       "</div>"
      ],
      "text/plain": [
       "            CYL     PUISS      LONG      LARG     POIDS      VMAX\n",
       "CYL    1.000000  0.793998  0.851756  0.756231  0.819638  0.651439\n",
       "PUISS  0.793998  1.000000  0.731886  0.614346  0.680477  0.858933\n",
       "LONG   0.851756  0.731886  1.000000  0.852704  0.914729  0.466501\n",
       "LARG   0.756231  0.614346  0.852704  1.000000  0.784645  0.460094\n",
       "POIDS  0.819638  0.680477  0.914729  0.784645  1.000000  0.373186\n",
       "VMAX   0.651439  0.858933  0.466501  0.460094  0.373186  1.000000"
      ]
     },
     "metadata": {},
     "output_type": "display_data"
    },
    {
     "data": {
      "text/html": [
       "<div>\n",
       "<style scoped>\n",
       "    .dataframe tbody tr th:only-of-type {\n",
       "        vertical-align: middle;\n",
       "    }\n",
       "\n",
       "    .dataframe tbody tr th {\n",
       "        vertical-align: top;\n",
       "    }\n",
       "\n",
       "    .dataframe thead th {\n",
       "        text-align: right;\n",
       "    }\n",
       "</style>\n",
       "<table border=\"1\" class=\"dataframe\">\n",
       "  <thead>\n",
       "    <tr style=\"text-align: right;\">\n",
       "      <th></th>\n",
       "      <th>CYL</th>\n",
       "      <th>PUISS</th>\n",
       "      <th>LONG</th>\n",
       "      <th>LARG</th>\n",
       "      <th>POIDS</th>\n",
       "      <th>VMAX</th>\n",
       "    </tr>\n",
       "  </thead>\n",
       "  <tbody>\n",
       "    <tr>\n",
       "      <th>CYL</th>\n",
       "      <td>1.000000</td>\n",
       "      <td>0.796628</td>\n",
       "      <td>0.701462</td>\n",
       "      <td>0.629757</td>\n",
       "      <td>0.788952</td>\n",
       "      <td>0.664934</td>\n",
       "    </tr>\n",
       "    <tr>\n",
       "      <th>PUISS</th>\n",
       "      <td>0.796628</td>\n",
       "      <td>1.000000</td>\n",
       "      <td>0.641362</td>\n",
       "      <td>0.520832</td>\n",
       "      <td>0.765293</td>\n",
       "      <td>0.844379</td>\n",
       "    </tr>\n",
       "    <tr>\n",
       "      <th>LONG</th>\n",
       "      <td>0.701462</td>\n",
       "      <td>0.641362</td>\n",
       "      <td>1.000000</td>\n",
       "      <td>0.849266</td>\n",
       "      <td>0.868090</td>\n",
       "      <td>0.475928</td>\n",
       "    </tr>\n",
       "    <tr>\n",
       "      <th>LARG</th>\n",
       "      <td>0.629757</td>\n",
       "      <td>0.520832</td>\n",
       "      <td>0.849266</td>\n",
       "      <td>1.000000</td>\n",
       "      <td>0.716874</td>\n",
       "      <td>0.472945</td>\n",
       "    </tr>\n",
       "    <tr>\n",
       "      <th>POIDS</th>\n",
       "      <td>0.788952</td>\n",
       "      <td>0.765293</td>\n",
       "      <td>0.868090</td>\n",
       "      <td>0.716874</td>\n",
       "      <td>1.000000</td>\n",
       "      <td>0.477596</td>\n",
       "    </tr>\n",
       "    <tr>\n",
       "      <th>VMAX</th>\n",
       "      <td>0.664934</td>\n",
       "      <td>0.844379</td>\n",
       "      <td>0.475928</td>\n",
       "      <td>0.472945</td>\n",
       "      <td>0.477596</td>\n",
       "      <td>1.000000</td>\n",
       "    </tr>\n",
       "  </tbody>\n",
       "</table>\n",
       "</div>"
      ],
      "text/plain": [
       "            CYL     PUISS      LONG      LARG     POIDS      VMAX\n",
       "CYL    1.000000  0.796628  0.701462  0.629757  0.788952  0.664934\n",
       "PUISS  0.796628  1.000000  0.641362  0.520832  0.765293  0.844379\n",
       "LONG   0.701462  0.641362  1.000000  0.849266  0.868090  0.475928\n",
       "LARG   0.629757  0.520832  0.849266  1.000000  0.716874  0.472945\n",
       "POIDS  0.788952  0.765293  0.868090  0.716874  1.000000  0.477596\n",
       "VMAX   0.664934  0.844379  0.475928  0.472945  0.477596  1.000000"
      ]
     },
     "metadata": {},
     "output_type": "display_data"
    }
   ],
   "source": [
    "# Effect size (correlation matrix)\n",
    "display(df.corr(method='spearman'))\n",
    "display(df.corr(method='pearson'))"
   ]
  },
  {
   "cell_type": "code",
   "execution_count": 11,
   "metadata": {},
   "outputs": [
    {
     "data": {
      "image/png": "[encoded data removed]",
      "text/plain": [
       "<Figure size 640x480 with 2 Axes>"
      ]
     },
     "metadata": {},
     "output_type": "display_data"
    }
   ],
   "source": [
    "# heatmap with seaborn\n",
    "sns.heatmap(df.corr(), cmap=\"YlGnBu\", annot=True);"
   ]
  },
  {
   "cell_type": "code",
   "execution_count": 12,
   "metadata": {},
   "outputs": [
    {
     "data": {
      "image/png": "[encoded data removed]",
      "text/plain": [
       "<Figure size 640x480 with 2 Axes>"
      ]
     },
     "metadata": {},
     "output_type": "display_data"
    }
   ],
   "source": [
    "# heatmap with pearson correlation pvalues\n",
    "from scipy.stats import pearsonr\n",
    "\n",
    "def pearsonr_pval(x,y):\n",
    "    return pearsonr(x,y)[1]\n",
    "\n",
    "sns.heatmap(df.corr(), cmap=\"YlGnBu\", annot=df.corr(method=pearsonr_pval))\n",
    "plt.show()"
   ]
  },
  {
   "cell_type": "markdown",
   "metadata": {},
   "source": [
    "### Comparing distance between individuals"
   ]
  },
  {
   "cell_type": "code",
   "execution_count": 13,
   "metadata": {},
   "outputs": [
    {
     "data": {
      "text/plain": [
       "13.341664064126334"
      ]
     },
     "execution_count": 13,
     "metadata": {},
     "output_type": "execute_result"
    }
   ],
   "source": [
    "# distance between Audi and Fiat without normalization\n",
    "np.sqrt(np.sum((dfbis.loc['Audi 100'] - dfbis.loc['Fiat 132'])**2))"
   ]
  },
  {
   "cell_type": "code",
   "execution_count": 14,
   "metadata": {},
   "outputs": [
    {
     "data": {
      "text/plain": [
       "181.01104938649465"
      ]
     },
     "execution_count": 14,
     "metadata": {},
     "output_type": "execute_result"
    }
   ],
   "source": [
    "# distance between Audi and Mazda without normalization\n",
    "np.sqrt(np.sum((dfbis.loc['Audi 100'] - dfbis.loc['Mazda 9295'])**2))"
   ]
  },
  {
   "cell_type": "code",
   "execution_count": 15,
   "metadata": {},
   "outputs": [
    {
     "data": {
      "text/html": [
       "<div>\n",
       "<style scoped>\n",
       "    .dataframe tbody tr th:only-of-type {\n",
       "        vertical-align: middle;\n",
       "    }\n",
       "\n",
       "    .dataframe tbody tr th {\n",
       "        vertical-align: top;\n",
       "    }\n",
       "\n",
       "    .dataframe thead th {\n",
       "        text-align: right;\n",
       "    }\n",
       "</style>\n",
       "<table border=\"1\" class=\"dataframe\">\n",
       "  <thead>\n",
       "    <tr style=\"text-align: right;\">\n",
       "      <th></th>\n",
       "      <th>count</th>\n",
       "      <th>mean</th>\n",
       "      <th>std</th>\n",
       "      <th>min</th>\n",
       "      <th>25%</th>\n",
       "      <th>50%</th>\n",
       "      <th>75%</th>\n",
       "      <th>max</th>\n",
       "    </tr>\n",
       "  </thead>\n",
       "  <tbody>\n",
       "    <tr>\n",
       "      <th>CYL</th>\n",
       "      <td>18.0</td>\n",
       "      <td>1631.666667</td>\n",
       "      <td>373.929846</td>\n",
       "      <td>1166.0</td>\n",
       "      <td>1310.25</td>\n",
       "      <td>1577.5</td>\n",
       "      <td>1797.5</td>\n",
       "      <td>2664.0</td>\n",
       "    </tr>\n",
       "    <tr>\n",
       "      <th>PUISS</th>\n",
       "      <td>18.0</td>\n",
       "      <td>84.611111</td>\n",
       "      <td>20.376281</td>\n",
       "      <td>55.0</td>\n",
       "      <td>70.75</td>\n",
       "      <td>82.0</td>\n",
       "      <td>98.0</td>\n",
       "      <td>128.0</td>\n",
       "    </tr>\n",
       "  </tbody>\n",
       "</table>\n",
       "</div>"
      ],
      "text/plain": [
       "       count         mean         std     min      25%     50%     75%     max\n",
       "CYL     18.0  1631.666667  373.929846  1166.0  1310.25  1577.5  1797.5  2664.0\n",
       "PUISS   18.0    84.611111   20.376281    55.0    70.75    82.0    98.0   128.0"
      ]
     },
     "execution_count": 15,
     "metadata": {},
     "output_type": "execute_result"
    }
   ],
   "source": [
    "dfbis.describe().T"
   ]
  },
  {
   "cell_type": "code",
   "execution_count": 16,
   "metadata": {},
   "outputs": [
    {
     "name": "stdout",
     "output_type": "stream",
     "text": [
      "[363.39449027  19.80218531]\n"
     ]
    }
   ],
   "source": [
    "# define X matrix as an array\n",
    "X = dfbis.values\n",
    "\n",
    "# biased standard deviation\n",
    "sigmas = np.std(X,axis=0,ddof=0)\n",
    "print(sigmas)"
   ]
  },
  {
   "cell_type": "code",
   "execution_count": 17,
   "metadata": {},
   "outputs": [
    {
     "data": {
      "text/plain": [
       "0.6565451047185447"
      ]
     },
     "execution_count": 17,
     "metadata": {},
     "output_type": "execute_result"
    }
   ],
   "source": [
    "# weighted distance between Audi and Fiat\n",
    "np.sqrt(np.sum((1/sigmas**2)*(dfbis.loc['Audi 100'] - dfbis.loc['Fiat 132'])**2))"
   ]
  },
  {
   "cell_type": "code",
   "execution_count": 18,
   "metadata": {},
   "outputs": [
    {
     "data": {
      "text/plain": [
       "0.5082182304292723"
      ]
     },
     "execution_count": 18,
     "metadata": {},
     "output_type": "execute_result"
    }
   ],
   "source": [
    "# weighted distance between Audi and Mazda\n",
    "np.sqrt(np.sum((1/sigmas**2)*(dfbis.loc['Audi 100'] - dfbis.loc['Mazda 9295'])**2))"
   ]
  },
  {
   "cell_type": "markdown",
   "metadata": {},
   "source": [
    "### Computing inertia using the overal distance between two individuals"
   ]
  },
  {
   "cell_type": "code",
   "execution_count": 19,
   "metadata": {},
   "outputs": [
    {
     "name": "stdout",
     "output_type": "stream",
     "text": [
      "n = 18\n",
      "Inertia, Approach 1 = 132447.68\n"
     ]
    }
   ],
   "source": [
    "# sample size (number of instances)\n",
    "n = X.shape[0]\n",
    "print(f\"n = {n}\")\n",
    "\n",
    "# inertia version 1 -- distance between the individuals two by two\n",
    "Ip_v1 = 0\n",
    "\n",
    "for i1 in range(n):\n",
    "    for i2 in range(n):\n",
    "        Ip_v1 += np.sum((X[i1,:]-X[i2,:])**2)\n",
    "        \n",
    "Ip_v1 *= (1/(2*n**2))\n",
    "print(f\"Inertia, Approach 1 = {Ip_v1:.2f}\")"
   ]
  },
  {
   "cell_type": "code",
   "execution_count": 20,
   "metadata": {},
   "outputs": [
    {
     "name": "stdout",
     "output_type": "stream",
     "text": [
      "[1631.66666667   84.61111111]\n"
     ]
    }
   ],
   "source": [
    "# centroids -- Coordinates of G\n",
    "moyennes = np.mean(X,axis=0)\n",
    "print(moyennes)"
   ]
  },
  {
   "cell_type": "code",
   "execution_count": 21,
   "metadata": {},
   "outputs": [
    {
     "data": {
      "image/png": "[encoded data removed]",
      "text/plain": [
       "<Figure size 1000x1000 with 1 Axes>"
      ]
     },
     "metadata": {},
     "output_type": "display_data"
    }
   ],
   "source": [
    "# data points with centroid G\n",
    "fig, ax = plt.subplots(figsize=(10,10))\n",
    "ax.plot(df['CYL'],df['PUISS'],color='xkcd:light blue',marker='o',linestyle='None')\n",
    "ax.axis([1000,3000,50,140])\n",
    "ax.set_xlabel(\"CYL\")\n",
    "ax.set_ylabel(\"PUISS\")\n",
    "# included dashed lines between the data points and the centroid\n",
    "for i in range(df.shape[0]):\n",
    "    ax.plot([moyennes[0],df['CYL'][i]],[moyennes[1],df['PUISS'][i]],color='silver',linestyle='dashed')\n",
    "# label centroid G\n",
    "ax.text(moyennes[0],moyennes[1],\"G\",fontsize=14)\n",
    "# display\n",
    "plt.show()"
   ]
  },
  {
   "cell_type": "markdown",
   "metadata": {},
   "source": [
    "### Computing inertia based on the dispersion from the centroid"
   ]
  },
  {
   "cell_type": "code",
   "execution_count": 22,
   "metadata": {},
   "outputs": [
    {
     "name": "stdout",
     "output_type": "stream",
     "text": [
      "[1631.66666667   84.61111111]\n",
      "Inertia, Approach 2 = 132447.68\n"
     ]
    }
   ],
   "source": [
    "# centroid vector G\n",
    "print(moyennes)\n",
    "\n",
    "# inertia version 2 - dispersion from G\n",
    "Ip_v2 = np.mean(np.apply_along_axis(func1d=lambda x: np.sum((x-moyennes)**2),axis=1,arr=X))\n",
    "print(\"Inertia, Approach 2 = %.2f\" % (Ip_v2))"
   ]
  },
  {
   "cell_type": "markdown",
   "metadata": {},
   "source": [
    "### Inertia as a sum for the variances"
   ]
  },
  {
   "cell_type": "code",
   "execution_count": 23,
   "metadata": {},
   "outputs": [
    {
     "name": "stdout",
     "output_type": "stream",
     "text": [
      "[363.39449027  19.80218531]\n",
      "Sum of variances = 132447.68\n"
     ]
    }
   ],
   "source": [
    "# standard deviation per variable\n",
    "print(sigmas)\n",
    "\n",
    "# verification -- sum of variances\n",
    "print(\"Sum of variances = %.2f\" % (np.sum(sigmas**2)))"
   ]
  },
  {
   "cell_type": "code",
   "execution_count": 24,
   "metadata": {
    "scrolled": false
   },
   "outputs": [
    {
     "data": {
      "text/html": [
       "<div>\n",
       "<style scoped>\n",
       "    .dataframe tbody tr th:only-of-type {\n",
       "        vertical-align: middle;\n",
       "    }\n",
       "\n",
       "    .dataframe tbody tr th {\n",
       "        vertical-align: top;\n",
       "    }\n",
       "\n",
       "    .dataframe thead th {\n",
       "        text-align: right;\n",
       "    }\n",
       "</style>\n",
       "<table border=\"1\" class=\"dataframe\">\n",
       "  <thead>\n",
       "    <tr style=\"text-align: right;\">\n",
       "      <th></th>\n",
       "      <th>PUISS</th>\n",
       "      <th>CYL</th>\n",
       "    </tr>\n",
       "    <tr>\n",
       "      <th>Modele</th>\n",
       "      <th></th>\n",
       "      <th></th>\n",
       "    </tr>\n",
       "  </thead>\n",
       "  <tbody>\n",
       "    <tr>\n",
       "      <th>Toyota Corolla</th>\n",
       "      <td>-1.281436</td>\n",
       "      <td>-1.495346</td>\n",
       "    </tr>\n",
       "    <tr>\n",
       "      <th>Citroen GS Club</th>\n",
       "      <td>-1.127333</td>\n",
       "      <td>-1.293348</td>\n",
       "    </tr>\n",
       "    <tr>\n",
       "      <th>Lada 1300</th>\n",
       "      <td>-0.929201</td>\n",
       "      <td>-0.838852</td>\n",
       "    </tr>\n",
       "    <tr>\n",
       "      <th>Simca 1300</th>\n",
       "      <td>-0.929201</td>\n",
       "      <td>-0.838852</td>\n",
       "    </tr>\n",
       "    <tr>\n",
       "      <th>Lancia Beta</th>\n",
       "      <td>-0.920946</td>\n",
       "      <td>-0.131860</td>\n",
       "    </tr>\n",
       "    <tr>\n",
       "      <th>Alfasud TI</th>\n",
       "      <td>-0.775099</td>\n",
       "      <td>-0.283358</td>\n",
       "    </tr>\n",
       "    <tr>\n",
       "      <th>Rancho</th>\n",
       "      <td>-0.521930</td>\n",
       "      <td>-0.232859</td>\n",
       "    </tr>\n",
       "    <tr>\n",
       "      <th>Renault 16 TL</th>\n",
       "      <td>-0.183455</td>\n",
       "      <td>-1.495346</td>\n",
       "    </tr>\n",
       "    <tr>\n",
       "      <th>Alfetta 1.66</th>\n",
       "      <td>-0.169696</td>\n",
       "      <td>1.231626</td>\n",
       "    </tr>\n",
       "    <tr>\n",
       "      <th>Fiat 132</th>\n",
       "      <td>-0.128419</td>\n",
       "      <td>0.676132</td>\n",
       "    </tr>\n",
       "    <tr>\n",
       "      <th>Audi 100</th>\n",
       "      <td>-0.120163</td>\n",
       "      <td>0.019639</td>\n",
       "    </tr>\n",
       "    <tr>\n",
       "      <th>Mazda 9295</th>\n",
       "      <td>0.377918</td>\n",
       "      <td>-0.081360</td>\n",
       "    </tr>\n",
       "    <tr>\n",
       "      <th>Peugeot 504</th>\n",
       "      <td>0.452217</td>\n",
       "      <td>-0.283358</td>\n",
       "    </tr>\n",
       "    <tr>\n",
       "      <th>Princess 1800</th>\n",
       "      <td>0.457721</td>\n",
       "      <td>-0.131860</td>\n",
       "    </tr>\n",
       "    <tr>\n",
       "      <th>Opel Rekord</th>\n",
       "      <td>0.955802</td>\n",
       "      <td>0.777131</td>\n",
       "    </tr>\n",
       "    <tr>\n",
       "      <th>Taunus 2000</th>\n",
       "      <td>0.994328</td>\n",
       "      <td>0.676132</td>\n",
       "    </tr>\n",
       "    <tr>\n",
       "      <th>Datsun 200L</th>\n",
       "      <td>1.008087</td>\n",
       "      <td>1.534623</td>\n",
       "    </tr>\n",
       "    <tr>\n",
       "      <th>Renault 30</th>\n",
       "      <td>2.840806</td>\n",
       "      <td>2.191116</td>\n",
       "    </tr>\n",
       "  </tbody>\n",
       "</table>\n",
       "</div>"
      ],
      "text/plain": [
       "                    PUISS       CYL\n",
       "Modele                             \n",
       "Toyota Corolla  -1.281436 -1.495346\n",
       "Citroen GS Club -1.127333 -1.293348\n",
       "Lada 1300       -0.929201 -0.838852\n",
       "Simca 1300      -0.929201 -0.838852\n",
       "Lancia Beta     -0.920946 -0.131860\n",
       "Alfasud TI      -0.775099 -0.283358\n",
       "Rancho          -0.521930 -0.232859\n",
       "Renault 16 TL   -0.183455 -1.495346\n",
       "Alfetta 1.66    -0.169696  1.231626\n",
       "Fiat 132        -0.128419  0.676132\n",
       "Audi 100        -0.120163  0.019639\n",
       "Mazda 9295       0.377918 -0.081360\n",
       "Peugeot 504      0.452217 -0.283358\n",
       "Princess 1800    0.457721 -0.131860\n",
       "Opel Rekord      0.955802  0.777131\n",
       "Taunus 2000      0.994328  0.676132\n",
       "Datsun 200L      1.008087  1.534623\n",
       "Renault 30       2.840806  2.191116"
      ]
     },
     "metadata": {},
     "output_type": "display_data"
    },
    {
     "name": "stdout",
     "output_type": "stream",
     "text": [
      "mean of standardized variable :[-1.72701359e-16 -1.48029737e-16]\n",
      "standard deviation of standardized variable : [1. 1.]\n"
     ]
    }
   ],
   "source": [
    "# standardized data\n",
    "Z = (X - moyennes)/sigmas\n",
    "display(pd.DataFrame(Z,index=dfbis.index, columns=['PUISS','CYL']))\n",
    "\n",
    "# check average - should be 0\n",
    "print(f'mean of standardized variable :{np.mean(Z,axis=0)}')\n",
    "\n",
    "# check standard deviation - should be 1\n",
    "print(f'standard deviation of standardized variable : {np.std(Z,axis=0,ddof=0)}')"
   ]
  },
  {
   "cell_type": "code",
   "execution_count": 25,
   "metadata": {
    "scrolled": false
   },
   "outputs": [
    {
     "data": {
      "text/html": [
       "<div>\n",
       "<style scoped>\n",
       "    .dataframe tbody tr th:only-of-type {\n",
       "        vertical-align: middle;\n",
       "    }\n",
       "\n",
       "    .dataframe tbody tr th {\n",
       "        vertical-align: top;\n",
       "    }\n",
       "\n",
       "    .dataframe thead th {\n",
       "        text-align: right;\n",
       "    }\n",
       "</style>\n",
       "<table border=\"1\" class=\"dataframe\">\n",
       "  <thead>\n",
       "    <tr style=\"text-align: right;\">\n",
       "      <th></th>\n",
       "      <th>PUISS</th>\n",
       "      <th>CYL</th>\n",
       "    </tr>\n",
       "    <tr>\n",
       "      <th>Modele</th>\n",
       "      <th></th>\n",
       "      <th></th>\n",
       "    </tr>\n",
       "  </thead>\n",
       "  <tbody>\n",
       "    <tr>\n",
       "      <th>Toyota Corolla</th>\n",
       "      <td>-1.281436</td>\n",
       "      <td>-1.495346</td>\n",
       "    </tr>\n",
       "    <tr>\n",
       "      <th>Citroen GS Club</th>\n",
       "      <td>-1.127333</td>\n",
       "      <td>-1.293348</td>\n",
       "    </tr>\n",
       "    <tr>\n",
       "      <th>Lada 1300</th>\n",
       "      <td>-0.929201</td>\n",
       "      <td>-0.838852</td>\n",
       "    </tr>\n",
       "    <tr>\n",
       "      <th>Simca 1300</th>\n",
       "      <td>-0.929201</td>\n",
       "      <td>-0.838852</td>\n",
       "    </tr>\n",
       "    <tr>\n",
       "      <th>Lancia Beta</th>\n",
       "      <td>-0.920946</td>\n",
       "      <td>-0.131860</td>\n",
       "    </tr>\n",
       "    <tr>\n",
       "      <th>Alfasud TI</th>\n",
       "      <td>-0.775099</td>\n",
       "      <td>-0.283358</td>\n",
       "    </tr>\n",
       "    <tr>\n",
       "      <th>Rancho</th>\n",
       "      <td>-0.521930</td>\n",
       "      <td>-0.232859</td>\n",
       "    </tr>\n",
       "    <tr>\n",
       "      <th>Renault 16 TL</th>\n",
       "      <td>-0.183455</td>\n",
       "      <td>-1.495346</td>\n",
       "    </tr>\n",
       "    <tr>\n",
       "      <th>Alfetta 1.66</th>\n",
       "      <td>-0.169696</td>\n",
       "      <td>1.231626</td>\n",
       "    </tr>\n",
       "    <tr>\n",
       "      <th>Fiat 132</th>\n",
       "      <td>-0.128419</td>\n",
       "      <td>0.676132</td>\n",
       "    </tr>\n",
       "    <tr>\n",
       "      <th>Audi 100</th>\n",
       "      <td>-0.120163</td>\n",
       "      <td>0.019639</td>\n",
       "    </tr>\n",
       "    <tr>\n",
       "      <th>Mazda 9295</th>\n",
       "      <td>0.377918</td>\n",
       "      <td>-0.081360</td>\n",
       "    </tr>\n",
       "    <tr>\n",
       "      <th>Peugeot 504</th>\n",
       "      <td>0.452217</td>\n",
       "      <td>-0.283358</td>\n",
       "    </tr>\n",
       "    <tr>\n",
       "      <th>Princess 1800</th>\n",
       "      <td>0.457721</td>\n",
       "      <td>-0.131860</td>\n",
       "    </tr>\n",
       "    <tr>\n",
       "      <th>Opel Rekord</th>\n",
       "      <td>0.955802</td>\n",
       "      <td>0.777131</td>\n",
       "    </tr>\n",
       "    <tr>\n",
       "      <th>Taunus 2000</th>\n",
       "      <td>0.994328</td>\n",
       "      <td>0.676132</td>\n",
       "    </tr>\n",
       "    <tr>\n",
       "      <th>Datsun 200L</th>\n",
       "      <td>1.008087</td>\n",
       "      <td>1.534623</td>\n",
       "    </tr>\n",
       "    <tr>\n",
       "      <th>Renault 30</th>\n",
       "      <td>2.840806</td>\n",
       "      <td>2.191116</td>\n",
       "    </tr>\n",
       "  </tbody>\n",
       "</table>\n",
       "</div>"
      ],
      "text/plain": [
       "                    PUISS       CYL\n",
       "Modele                             \n",
       "Toyota Corolla  -1.281436 -1.495346\n",
       "Citroen GS Club -1.127333 -1.293348\n",
       "Lada 1300       -0.929201 -0.838852\n",
       "Simca 1300      -0.929201 -0.838852\n",
       "Lancia Beta     -0.920946 -0.131860\n",
       "Alfasud TI      -0.775099 -0.283358\n",
       "Rancho          -0.521930 -0.232859\n",
       "Renault 16 TL   -0.183455 -1.495346\n",
       "Alfetta 1.66    -0.169696  1.231626\n",
       "Fiat 132        -0.128419  0.676132\n",
       "Audi 100        -0.120163  0.019639\n",
       "Mazda 9295       0.377918 -0.081360\n",
       "Peugeot 504      0.452217 -0.283358\n",
       "Princess 1800    0.457721 -0.131860\n",
       "Opel Rekord      0.955802  0.777131\n",
       "Taunus 2000      0.994328  0.676132\n",
       "Datsun 200L      1.008087  1.534623\n",
       "Renault 30       2.840806  2.191116"
      ]
     },
     "metadata": {},
     "output_type": "display_data"
    },
    {
     "name": "stdout",
     "output_type": "stream",
     "text": [
      "mean of standardized variable :[-0.00 -0.00]\n",
      "standard deviation of standardized variable : [1.00 1.00]\n"
     ]
    }
   ],
   "source": [
    "# standardized data\n",
    "Z = (X - moyennes)/sigmas\n",
    "display(pd.DataFrame(Z,index=dfbis.index, columns=['PUISS','CYL']))\n",
    "\n",
    "# check average - should be 0\n",
    "print(f'mean of standardized variable :{np.array2string(np.mean(Z,axis=0), precision=2, floatmode=\"fixed\", suppress_small=True)}') \n",
    "\n",
    "# check standard deviation - should be 1\n",
    "print(f'standard deviation of standardized variable : {np.array2string(np.std(Z,axis=0,ddof=0), precision=2, floatmode=\"fixed\", suppress_small=True)}') "
   ]
  },
  {
   "cell_type": "markdown",
   "metadata": {},
   "source": [
    "### (Standardized) PCA with scikit learn"
   ]
  },
  {
   "cell_type": "code",
   "execution_count": 26,
   "metadata": {},
   "outputs": [
    {
     "data": {
      "text/html": [
       "<div>\n",
       "<style scoped>\n",
       "    .dataframe tbody tr th:only-of-type {\n",
       "        vertical-align: middle;\n",
       "    }\n",
       "\n",
       "    .dataframe tbody tr th {\n",
       "        vertical-align: top;\n",
       "    }\n",
       "\n",
       "    .dataframe thead th {\n",
       "        text-align: right;\n",
       "    }\n",
       "</style>\n",
       "<table border=\"1\" class=\"dataframe\">\n",
       "  <thead>\n",
       "    <tr style=\"text-align: right;\">\n",
       "      <th></th>\n",
       "      <th>F1</th>\n",
       "      <th>F2</th>\n",
       "    </tr>\n",
       "    <tr>\n",
       "      <th>Modele</th>\n",
       "      <th></th>\n",
       "      <th></th>\n",
       "    </tr>\n",
       "  </thead>\n",
       "  <tbody>\n",
       "    <tr>\n",
       "      <th>Toyota Corolla</th>\n",
       "      <td>-1.963481</td>\n",
       "      <td>-0.151257</td>\n",
       "    </tr>\n",
       "    <tr>\n",
       "      <th>Citroen GS Club</th>\n",
       "      <td>-1.711680</td>\n",
       "      <td>-0.117390</td>\n",
       "    </tr>\n",
       "    <tr>\n",
       "      <th>Lada 1300</th>\n",
       "      <td>-1.250203</td>\n",
       "      <td>0.063886</td>\n",
       "    </tr>\n",
       "    <tr>\n",
       "      <th>Simca 1300</th>\n",
       "      <td>-1.250203</td>\n",
       "      <td>0.063886</td>\n",
       "    </tr>\n",
       "    <tr>\n",
       "      <th>Lancia Beta</th>\n",
       "      <td>-0.744446</td>\n",
       "      <td>0.557968</td>\n",
       "    </tr>\n",
       "    <tr>\n",
       "      <th>Alfasud TI</th>\n",
       "      <td>-0.748442</td>\n",
       "      <td>0.347713</td>\n",
       "    </tr>\n",
       "    <tr>\n",
       "      <th>Rancho</th>\n",
       "      <td>-0.533717</td>\n",
       "      <td>0.204405</td>\n",
       "    </tr>\n",
       "    <tr>\n",
       "      <th>Renault 16 TL</th>\n",
       "      <td>-1.187092</td>\n",
       "      <td>-0.927647</td>\n",
       "    </tr>\n",
       "    <tr>\n",
       "      <th>Alfetta 1.66</th>\n",
       "      <td>0.750898</td>\n",
       "      <td>0.990885</td>\n",
       "    </tr>\n",
       "    <tr>\n",
       "      <th>Fiat 132</th>\n",
       "      <td>0.387292</td>\n",
       "      <td>0.568903</td>\n",
       "    </tr>\n",
       "    <tr>\n",
       "      <th>Audi 100</th>\n",
       "      <td>-0.071082</td>\n",
       "      <td>0.098855</td>\n",
       "    </tr>\n",
       "    <tr>\n",
       "      <th>Mazda 9295</th>\n",
       "      <td>0.209698</td>\n",
       "      <td>-0.324759</td>\n",
       "    </tr>\n",
       "    <tr>\n",
       "      <th>Peugeot 504</th>\n",
       "      <td>0.119402</td>\n",
       "      <td>-0.520131</td>\n",
       "    </tr>\n",
       "    <tr>\n",
       "      <th>Princess 1800</th>\n",
       "      <td>0.230419</td>\n",
       "      <td>-0.416897</td>\n",
       "    </tr>\n",
       "    <tr>\n",
       "      <th>Opel Rekord</th>\n",
       "      <td>1.225369</td>\n",
       "      <td>-0.126340</td>\n",
       "    </tr>\n",
       "    <tr>\n",
       "      <th>Taunus 2000</th>\n",
       "      <td>1.181194</td>\n",
       "      <td>-0.224999</td>\n",
       "    </tr>\n",
       "    <tr>\n",
       "      <th>Datsun 200L</th>\n",
       "      <td>1.797968</td>\n",
       "      <td>0.372317</td>\n",
       "    </tr>\n",
       "    <tr>\n",
       "      <th>Renault 30</th>\n",
       "      <td>3.558106</td>\n",
       "      <td>-0.459400</td>\n",
       "    </tr>\n",
       "  </tbody>\n",
       "</table>\n",
       "</div>"
      ],
      "text/plain": [
       "                       F1        F2\n",
       "Modele                             \n",
       "Toyota Corolla  -1.963481 -0.151257\n",
       "Citroen GS Club -1.711680 -0.117390\n",
       "Lada 1300       -1.250203  0.063886\n",
       "Simca 1300      -1.250203  0.063886\n",
       "Lancia Beta     -0.744446  0.557968\n",
       "Alfasud TI      -0.748442  0.347713\n",
       "Rancho          -0.533717  0.204405\n",
       "Renault 16 TL   -1.187092 -0.927647\n",
       "Alfetta 1.66     0.750898  0.990885\n",
       "Fiat 132         0.387292  0.568903\n",
       "Audi 100        -0.071082  0.098855\n",
       "Mazda 9295       0.209698 -0.324759\n",
       "Peugeot 504      0.119402 -0.520131\n",
       "Princess 1800    0.230419 -0.416897\n",
       "Opel Rekord      1.225369 -0.126340\n",
       "Taunus 2000      1.181194 -0.224999\n",
       "Datsun 200L      1.797968  0.372317\n",
       "Renault 30       3.558106 -0.459400"
      ]
     },
     "execution_count": 26,
     "metadata": {},
     "output_type": "execute_result"
    }
   ],
   "source": [
    "# PCA module in scikit learn\n",
    "from sklearn.decomposition import PCA\n",
    "acp = PCA()\n",
    "\n",
    "# factor coordinates\n",
    "coord = acp.fit_transform(Z)\n",
    "\n",
    "# display the new coordinates\n",
    "pd.DataFrame(coord,index=dfbis.index, columns=['F1','F2'])"
   ]
  },
  {
   "cell_type": "code",
   "execution_count": 27,
   "metadata": {
    "scrolled": true
   },
   "outputs": [
    {
     "data": {
      "text/plain": [
       "['__abstractmethods__',\n",
       " '__class__',\n",
       " '__delattr__',\n",
       " '__dict__',\n",
       " '__dir__',\n",
       " '__doc__',\n",
       " '__eq__',\n",
       " '__format__',\n",
       " '__ge__',\n",
       " '__getattribute__',\n",
       " '__getstate__',\n",
       " '__gt__',\n",
       " '__hash__',\n",
       " '__init__',\n",
       " '__init_subclass__',\n",
       " '__le__',\n",
       " '__lt__',\n",
       " '__module__',\n",
       " '__ne__',\n",
       " '__new__',\n",
       " '__reduce__',\n",
       " '__reduce_ex__',\n",
       " '__repr__',\n",
       " '__setattr__',\n",
       " '__setstate__',\n",
       " '__sizeof__',\n",
       " '__str__',\n",
       " '__subclasshook__',\n",
       " '__weakref__',\n",
       " '_abc_impl',\n",
       " '_check_feature_names',\n",
       " '_check_n_features',\n",
       " '_fit',\n",
       " '_fit_full',\n",
       " '_fit_svd_solver',\n",
       " '_fit_truncated',\n",
       " '_get_param_names',\n",
       " '_get_tags',\n",
       " '_more_tags',\n",
       " '_repr_html_',\n",
       " '_repr_html_inner',\n",
       " '_repr_mimebundle_',\n",
       " '_validate_data',\n",
       " 'components_',\n",
       " 'copy',\n",
       " 'explained_variance_',\n",
       " 'explained_variance_ratio_',\n",
       " 'fit',\n",
       " 'fit_transform',\n",
       " 'get_covariance',\n",
       " 'get_params',\n",
       " 'get_precision',\n",
       " 'inverse_transform',\n",
       " 'iterated_power',\n",
       " 'mean_',\n",
       " 'n_components',\n",
       " 'n_components_',\n",
       " 'n_features_',\n",
       " 'n_features_in_',\n",
       " 'n_samples_',\n",
       " 'noise_variance_',\n",
       " 'random_state',\n",
       " 'score',\n",
       " 'score_samples',\n",
       " 'set_params',\n",
       " 'singular_values_',\n",
       " 'svd_solver',\n",
       " 'tol',\n",
       " 'transform',\n",
       " 'whiten']"
      ]
     },
     "execution_count": 27,
     "metadata": {},
     "output_type": "execute_result"
    }
   ],
   "source": [
    "dir(acp)"
   ]
  },
  {
   "cell_type": "code",
   "execution_count": 28,
   "metadata": {},
   "outputs": [
    {
     "ename": "AttributeError",
     "evalue": "'PCA' object has no attribute 'get_feature_names_out'",
     "output_type": "error",
     "traceback": [
      "\u001b[0;31m---------------------------------------------------------------------------\u001b[0m",
      "\u001b[0;31mAttributeError\u001b[0m                            Traceback (most recent call last)",
      "\u001b[0;32m/var/folders/6d/j3n0zwb90td6rbgw123fm2th0000gn/T/ipykernel_3053/1020885369.py\u001b[0m in \u001b[0;36m<module>\u001b[0;34m\u001b[0m\n\u001b[0;32m----> 1\u001b[0;31m \u001b[0macp\u001b[0m\u001b[0;34m.\u001b[0m\u001b[0mget_feature_names_out\u001b[0m\u001b[0;34m(\u001b[0m\u001b[0;34m)\u001b[0m\u001b[0;34m\u001b[0m\u001b[0;34m\u001b[0m\u001b[0m\n\u001b[0m",
      "\u001b[0;31mAttributeError\u001b[0m: 'PCA' object has no attribute 'get_feature_names_out'"
     ]
    }
   ],
   "source": [
    "acp.get_feature_names_out()"
   ]
  },
  {
   "cell_type": "code",
   "execution_count": 29,
   "metadata": {},
   "outputs": [
    {
     "data": {
      "text/plain": [
       "array([1.9023117 , 0.21533536])"
      ]
     },
     "execution_count": 29,
     "metadata": {},
     "output_type": "execute_result"
    }
   ],
   "source": [
    "# explained variance\n",
    "acp.explained_variance_"
   ]
  },
  {
   "cell_type": "code",
   "execution_count": 30,
   "metadata": {},
   "outputs": [
    {
     "data": {
      "text/plain": [
       "array([0.89831386, 0.10168614])"
      ]
     },
     "execution_count": 30,
     "metadata": {},
     "output_type": "execute_result"
    }
   ],
   "source": [
    "# explained variance ratio\n",
    "acp.explained_variance_ratio_"
   ]
  },
  {
   "cell_type": "code",
   "execution_count": 31,
   "metadata": {},
   "outputs": [
    {
     "data": {
      "image/png": "[encoded data removed]",
      "text/plain": [
       "<Figure size 1000x1000 with 1 Axes>"
      ]
     },
     "metadata": {},
     "output_type": "display_data"
    }
   ],
   "source": [
    "# position of the cars in the first factor plan\n",
    "fig, ax = plt.subplots(figsize=(10,10))\n",
    "ax.plot(coord[:,0],coord[:,1],\"ro\")\n",
    "ax.axis([-4,+4,-4,+4])\n",
    "ax.plot([-4,+4],[0,0],color='silver',linestyle='--')\n",
    "ax.plot([0,0],[-4,+4],color='silver',linestyle='--')\n",
    "ax.set_xlabel(\"Comp.1 (89.83%)\")\n",
    "ax.set_ylabel(\"Comp.2 (10.17%)\")\n",
    "\n",
    "# add car labels\n",
    "for i in range(n):\n",
    "    ax.text(coord[i,0],coord[i,1],dfbis.index[i])\n",
    "    \n",
    "# display\n",
    "plt.show()"
   ]
  },
  {
   "cell_type": "code",
   "execution_count": 32,
   "metadata": {},
   "outputs": [
    {
     "name": "stdout",
     "output_type": "stream",
     "text": [
      "[1.79662771 0.20337229]\n"
     ]
    }
   ],
   "source": [
    "# compute the lambdas\n",
    "lambada = np.mean(np.power(coord,2),axis=0)\n",
    "print(lambada)"
   ]
  },
  {
   "cell_type": "markdown",
   "metadata": {},
   "source": [
    "**You may have different results between the two ways of computing the lambdas : why ?**"
   ]
  },
  {
   "cell_type": "code",
   "execution_count": 33,
   "metadata": {},
   "outputs": [
    {
     "data": {
      "text/plain": [
       "array([1.9023117 , 0.21533536])"
      ]
     },
     "execution_count": 33,
     "metadata": {},
     "output_type": "execute_result"
    }
   ],
   "source": [
    "# compare with variance explained\n",
    "lambada*n/(n-1)"
   ]
  },
  {
   "cell_type": "code",
   "execution_count": 34,
   "metadata": {},
   "outputs": [
    {
     "name": "stdout",
     "output_type": "stream",
     "text": [
      "[0.89831386 0.10168614]\n"
     ]
    }
   ],
   "source": [
    "# proportion of variance explained by the axes\n",
    "print(lambada/np.sum(lambada))"
   ]
  },
  {
   "cell_type": "code",
   "execution_count": 35,
   "metadata": {},
   "outputs": [
    {
     "name": "stdout",
     "output_type": "stream",
     "text": [
      "Sum of the lambdas = 2.000000\n"
     ]
    }
   ],
   "source": [
    "# sum of the lambdas = total inertia\n",
    "print(\"Sum of the lambdas = %f\" % (np.sum(lambada)))"
   ]
  },
  {
   "cell_type": "code",
   "execution_count": 36,
   "metadata": {},
   "outputs": [
    {
     "name": "stdout",
     "output_type": "stream",
     "text": [
      "original distance between Toyota Corolla and Citroen GS : 0.06455073567278283\n",
      "distance on the first axis between Toyota Corolla and Citroen GS : 0.06340375071089865\n"
     ]
    }
   ],
   "source": [
    "# data frame of the standardized data\n",
    "df_Z = pd.DataFrame(Z,index=dfbis.index)\n",
    "\n",
    "# data frame of the factor coordinates\n",
    "df_C = pd.DataFrame(coord,index=dfbis.index)\n",
    "\n",
    "# squared euclidean distance between Toyota Corolla and Citroen GS\n",
    "# standardized data\n",
    "print(f\"original distance between Toyota Corolla and Citroen GS : {np.sum((df_Z.loc['Toyota Corolla'] - df_Z.loc['Citroen GS Club'])**2)}\")\n",
    "\n",
    "# squared euclidean distance between Toyota Corolla and Citroen GS, only on the first component \n",
    "print(f\"distance on the first axis between Toyota Corolla and Citroen GS : {np.sum((df_C.loc['Toyota Corolla'][0] - df_C.loc['Citroen GS Club'][0])**2)}\")"
   ]
  },
  {
   "cell_type": "code",
   "execution_count": 37,
   "metadata": {},
   "outputs": [
    {
     "name": "stdout",
     "output_type": "stream",
     "text": [
      "initial distance between Audi 100 and Fiat 132: 0.4310514745298847\n",
      "approximate distance between Audi 100 and Fiat 132: 0.2101060634608986\n"
     ]
    }
   ],
   "source": [
    "# initial distance between Audi 100 and Fiat 132\n",
    "print(f\"initial distance between Audi 100 and Fiat 132: {np.sum((df_Z.loc['Audi 100'] - df_Z.loc['Fiat 132'])**2)}\")\n",
    "\n",
    "# approximate distance (Factor F1)\n",
    "print(f\"approximate distance between Audi 100 and Fiat 132: {np.sum((df_C.loc['Audi 100'][0] - df_C.loc['Fiat 132'][0])**2)}\")"
   ]
  },
  {
   "cell_type": "code",
   "execution_count": 38,
   "metadata": {},
   "outputs": [
    {
     "name": "stdout",
     "output_type": "stream",
     "text": [
      "0.43105147452988485\n"
     ]
    }
   ],
   "source": [
    "# distance when accounting for the two factors (F1, F2)\n",
    "print(np.sum((df_C.loc['Audi 100']- df_C.loc['Fiat 132'])**2))"
   ]
  },
  {
   "cell_type": "markdown",
   "metadata": {},
   "source": [
    "## Analyzing the relationship between (all) variables"
   ]
  },
  {
   "cell_type": "markdown",
   "metadata": {},
   "source": [
    "### Computing the variance-covariance Matrix"
   ]
  },
  {
   "cell_type": "code",
   "execution_count": 39,
   "metadata": {},
   "outputs": [
    {
     "name": "stdout",
     "output_type": "stream",
     "text": [
      "[[132055.56   5732.54   5476.56   1181.78  38159.61   2850.87]\n",
      " [  5732.54    392.13    272.86     53.26   2017.05    197.27]\n",
      " [  5476.56    272.86    461.58     94.22   2482.36    120.64]\n",
      " [  1181.78     53.26     94.22     26.67    492.72     28.81]\n",
      " [ 38159.61   2017.05   2482.36    492.72  17715.36    749.99]\n",
      " [  2850.87    197.27    120.64     28.81    749.99    139.2 ]]\n"
     ]
    }
   ],
   "source": [
    "# create the [X] matrix\n",
    "X = df.values\n",
    "\n",
    "# Compute matrix [X] covariance\n",
    "# rowvar = False means the variables are not the rows but the columns\n",
    "# ddof = 0 means that we do not divide the total sum of squares by n-1 but by n\n",
    "V = np.cov(X,ddof=0,rowvar=False)\n",
    "np.set_printoptions(precision=2,suppress=True)\n",
    "print(V)"
   ]
  },
  {
   "cell_type": "code",
   "execution_count": 40,
   "metadata": {},
   "outputs": [
    {
     "name": "stdout",
     "output_type": "stream",
     "text": [
      "150790.49382716054\n"
     ]
    }
   ],
   "source": [
    "# compute the trace of the V (variance-covariance) matrix\n",
    "trace = V.trace()\n",
    "print(trace)"
   ]
  },
  {
   "cell_type": "code",
   "execution_count": 41,
   "metadata": {},
   "outputs": [
    {
     "name": "stdout",
     "output_type": "stream",
     "text": [
      "150790.4938271605\n"
     ]
    }
   ],
   "source": [
    "# mean vector for the (p = 6) variables (column means)\n",
    "moyennes = np.mean(X,axis=0)\n",
    "\n",
    "# inertia computed from the centroid\n",
    "print(np.mean(np.apply_along_axis(func1d=lambda x: np.sum((x-moyennes)**2),axis=1,arr=X)))"
   ]
  },
  {
   "cell_type": "code",
   "execution_count": 42,
   "metadata": {},
   "outputs": [
    {
     "data": {
      "text/plain": [
       "(                  CYL  PUISS  LONG  LARG  POIDS  VMAX\n",
       " Modele                                               \n",
       " Alfasud TI       1350     79   393   161    870   165\n",
       " Audi 100         1588     85   468   177   1110   160\n",
       " Simca 1300       1294     68   424   168   1050   152\n",
       " Citroen GS Club  1222     59   412   161    930   151\n",
       " Fiat 132         1585     98   439   164   1105   165\n",
       " Lancia Beta      1297     82   429   169   1080   160\n",
       " Peugeot 504      1796     79   449   169   1160   154\n",
       " Renault 16 TL    1565     55   424   163   1010   140\n",
       " Renault 30       2664    128   452   173   1320   180\n",
       " Toyota Corolla   1166     55   399   157    815   140\n",
       " Alfetta 1.66     1570    109   428   162   1060   175\n",
       " Princess 1800    1798     82   445   172   1160   158\n",
       " Datsun 200L      1998    115   469   169   1370   160\n",
       " Taunus 2000      1993     98   438   170   1080   167\n",
       " Rancho           1442     80   431   166   1129   144\n",
       " Mazda 9295       1769     83   440   165   1095   165\n",
       " Opel Rekord      1979    100   459   173   1120   173\n",
       " Lada 1300        1294     68   404   161    955   140,\n",
       " array([1631.67,   84.61,  433.5 ,  166.67, 1078.83,  158.28]))"
      ]
     },
     "execution_count": 42,
     "metadata": {},
     "output_type": "execute_result"
    }
   ],
   "source": [
    "df, moyennes"
   ]
  },
  {
   "cell_type": "code",
   "execution_count": 43,
   "metadata": {},
   "outputs": [
    {
     "data": {
      "text/html": [
       "<div>\n",
       "<style scoped>\n",
       "    .dataframe tbody tr th:only-of-type {\n",
       "        vertical-align: middle;\n",
       "    }\n",
       "\n",
       "    .dataframe tbody tr th {\n",
       "        vertical-align: top;\n",
       "    }\n",
       "\n",
       "    .dataframe thead th {\n",
       "        text-align: right;\n",
       "    }\n",
       "</style>\n",
       "<table border=\"1\" class=\"dataframe\">\n",
       "  <thead>\n",
       "    <tr style=\"text-align: right;\">\n",
       "      <th></th>\n",
       "      <th>CYL</th>\n",
       "      <th>PUISS</th>\n",
       "      <th>LONG</th>\n",
       "      <th>LARG</th>\n",
       "      <th>POIDS</th>\n",
       "      <th>VMAX</th>\n",
       "    </tr>\n",
       "    <tr>\n",
       "      <th>Modele</th>\n",
       "      <th></th>\n",
       "      <th></th>\n",
       "      <th></th>\n",
       "      <th></th>\n",
       "      <th></th>\n",
       "      <th></th>\n",
       "    </tr>\n",
       "  </thead>\n",
       "  <tbody>\n",
       "    <tr>\n",
       "      <th>Alfasud TI</th>\n",
       "      <td>-281.666667</td>\n",
       "      <td>-5.611111</td>\n",
       "      <td>-40.5</td>\n",
       "      <td>-5.666667</td>\n",
       "      <td>-208.833333</td>\n",
       "      <td>6.722222</td>\n",
       "    </tr>\n",
       "    <tr>\n",
       "      <th>Audi 100</th>\n",
       "      <td>-43.666667</td>\n",
       "      <td>0.388889</td>\n",
       "      <td>34.5</td>\n",
       "      <td>10.333333</td>\n",
       "      <td>31.166667</td>\n",
       "      <td>1.722222</td>\n",
       "    </tr>\n",
       "    <tr>\n",
       "      <th>Simca 1300</th>\n",
       "      <td>-337.666667</td>\n",
       "      <td>-16.611111</td>\n",
       "      <td>-9.5</td>\n",
       "      <td>1.333333</td>\n",
       "      <td>-28.833333</td>\n",
       "      <td>-6.277778</td>\n",
       "    </tr>\n",
       "    <tr>\n",
       "      <th>Citroen GS Club</th>\n",
       "      <td>-409.666667</td>\n",
       "      <td>-25.611111</td>\n",
       "      <td>-21.5</td>\n",
       "      <td>-5.666667</td>\n",
       "      <td>-148.833333</td>\n",
       "      <td>-7.277778</td>\n",
       "    </tr>\n",
       "    <tr>\n",
       "      <th>Fiat 132</th>\n",
       "      <td>-46.666667</td>\n",
       "      <td>13.388889</td>\n",
       "      <td>5.5</td>\n",
       "      <td>-2.666667</td>\n",
       "      <td>26.166667</td>\n",
       "      <td>6.722222</td>\n",
       "    </tr>\n",
       "    <tr>\n",
       "      <th>Lancia Beta</th>\n",
       "      <td>-334.666667</td>\n",
       "      <td>-2.611111</td>\n",
       "      <td>-4.5</td>\n",
       "      <td>2.333333</td>\n",
       "      <td>1.166667</td>\n",
       "      <td>1.722222</td>\n",
       "    </tr>\n",
       "    <tr>\n",
       "      <th>Peugeot 504</th>\n",
       "      <td>164.333333</td>\n",
       "      <td>-5.611111</td>\n",
       "      <td>15.5</td>\n",
       "      <td>2.333333</td>\n",
       "      <td>81.166667</td>\n",
       "      <td>-4.277778</td>\n",
       "    </tr>\n",
       "    <tr>\n",
       "      <th>Renault 16 TL</th>\n",
       "      <td>-66.666667</td>\n",
       "      <td>-29.611111</td>\n",
       "      <td>-9.5</td>\n",
       "      <td>-3.666667</td>\n",
       "      <td>-68.833333</td>\n",
       "      <td>-18.277778</td>\n",
       "    </tr>\n",
       "    <tr>\n",
       "      <th>Renault 30</th>\n",
       "      <td>1032.333333</td>\n",
       "      <td>43.388889</td>\n",
       "      <td>18.5</td>\n",
       "      <td>6.333333</td>\n",
       "      <td>241.166667</td>\n",
       "      <td>21.722222</td>\n",
       "    </tr>\n",
       "    <tr>\n",
       "      <th>Toyota Corolla</th>\n",
       "      <td>-465.666667</td>\n",
       "      <td>-29.611111</td>\n",
       "      <td>-34.5</td>\n",
       "      <td>-9.666667</td>\n",
       "      <td>-263.833333</td>\n",
       "      <td>-18.277778</td>\n",
       "    </tr>\n",
       "    <tr>\n",
       "      <th>Alfetta 1.66</th>\n",
       "      <td>-61.666667</td>\n",
       "      <td>24.388889</td>\n",
       "      <td>-5.5</td>\n",
       "      <td>-4.666667</td>\n",
       "      <td>-18.833333</td>\n",
       "      <td>16.722222</td>\n",
       "    </tr>\n",
       "    <tr>\n",
       "      <th>Princess 1800</th>\n",
       "      <td>166.333333</td>\n",
       "      <td>-2.611111</td>\n",
       "      <td>11.5</td>\n",
       "      <td>5.333333</td>\n",
       "      <td>81.166667</td>\n",
       "      <td>-0.277778</td>\n",
       "    </tr>\n",
       "    <tr>\n",
       "      <th>Datsun 200L</th>\n",
       "      <td>366.333333</td>\n",
       "      <td>30.388889</td>\n",
       "      <td>35.5</td>\n",
       "      <td>2.333333</td>\n",
       "      <td>291.166667</td>\n",
       "      <td>1.722222</td>\n",
       "    </tr>\n",
       "    <tr>\n",
       "      <th>Taunus 2000</th>\n",
       "      <td>361.333333</td>\n",
       "      <td>13.388889</td>\n",
       "      <td>4.5</td>\n",
       "      <td>3.333333</td>\n",
       "      <td>1.166667</td>\n",
       "      <td>8.722222</td>\n",
       "    </tr>\n",
       "    <tr>\n",
       "      <th>Rancho</th>\n",
       "      <td>-189.666667</td>\n",
       "      <td>-4.611111</td>\n",
       "      <td>-2.5</td>\n",
       "      <td>-0.666667</td>\n",
       "      <td>50.166667</td>\n",
       "      <td>-14.277778</td>\n",
       "    </tr>\n",
       "    <tr>\n",
       "      <th>Mazda 9295</th>\n",
       "      <td>137.333333</td>\n",
       "      <td>-1.611111</td>\n",
       "      <td>6.5</td>\n",
       "      <td>-1.666667</td>\n",
       "      <td>16.166667</td>\n",
       "      <td>6.722222</td>\n",
       "    </tr>\n",
       "    <tr>\n",
       "      <th>Opel Rekord</th>\n",
       "      <td>347.333333</td>\n",
       "      <td>15.388889</td>\n",
       "      <td>25.5</td>\n",
       "      <td>6.333333</td>\n",
       "      <td>41.166667</td>\n",
       "      <td>14.722222</td>\n",
       "    </tr>\n",
       "    <tr>\n",
       "      <th>Lada 1300</th>\n",
       "      <td>-337.666667</td>\n",
       "      <td>-16.611111</td>\n",
       "      <td>-29.5</td>\n",
       "      <td>-5.666667</td>\n",
       "      <td>-123.833333</td>\n",
       "      <td>-18.277778</td>\n",
       "    </tr>\n",
       "  </tbody>\n",
       "</table>\n",
       "</div>"
      ],
      "text/plain": [
       "                         CYL      PUISS  LONG       LARG       POIDS  \\\n",
       "Modele                                                                 \n",
       "Alfasud TI       -281.666667  -5.611111 -40.5  -5.666667 -208.833333   \n",
       "Audi 100          -43.666667   0.388889  34.5  10.333333   31.166667   \n",
       "Simca 1300       -337.666667 -16.611111  -9.5   1.333333  -28.833333   \n",
       "Citroen GS Club  -409.666667 -25.611111 -21.5  -5.666667 -148.833333   \n",
       "Fiat 132          -46.666667  13.388889   5.5  -2.666667   26.166667   \n",
       "Lancia Beta      -334.666667  -2.611111  -4.5   2.333333    1.166667   \n",
       "Peugeot 504       164.333333  -5.611111  15.5   2.333333   81.166667   \n",
       "Renault 16 TL     -66.666667 -29.611111  -9.5  -3.666667  -68.833333   \n",
       "Renault 30       1032.333333  43.388889  18.5   6.333333  241.166667   \n",
       "Toyota Corolla   -465.666667 -29.611111 -34.5  -9.666667 -263.833333   \n",
       "Alfetta 1.66      -61.666667  24.388889  -5.5  -4.666667  -18.833333   \n",
       "Princess 1800     166.333333  -2.611111  11.5   5.333333   81.166667   \n",
       "Datsun 200L       366.333333  30.388889  35.5   2.333333  291.166667   \n",
       "Taunus 2000       361.333333  13.388889   4.5   3.333333    1.166667   \n",
       "Rancho           -189.666667  -4.611111  -2.5  -0.666667   50.166667   \n",
       "Mazda 9295        137.333333  -1.611111   6.5  -1.666667   16.166667   \n",
       "Opel Rekord       347.333333  15.388889  25.5   6.333333   41.166667   \n",
       "Lada 1300        -337.666667 -16.611111 -29.5  -5.666667 -123.833333   \n",
       "\n",
       "                      VMAX  \n",
       "Modele                      \n",
       "Alfasud TI        6.722222  \n",
       "Audi 100          1.722222  \n",
       "Simca 1300       -6.277778  \n",
       "Citroen GS Club  -7.277778  \n",
       "Fiat 132          6.722222  \n",
       "Lancia Beta       1.722222  \n",
       "Peugeot 504      -4.277778  \n",
       "Renault 16 TL   -18.277778  \n",
       "Renault 30       21.722222  \n",
       "Toyota Corolla  -18.277778  \n",
       "Alfetta 1.66     16.722222  \n",
       "Princess 1800    -0.277778  \n",
       "Datsun 200L       1.722222  \n",
       "Taunus 2000       8.722222  \n",
       "Rancho          -14.277778  \n",
       "Mazda 9295        6.722222  \n",
       "Opel Rekord      14.722222  \n",
       "Lada 1300       -18.277778  "
      ]
     },
     "metadata": {},
     "output_type": "display_data"
    }
   ],
   "source": [
    "# matrix of the centered variables\n",
    "Z = X - moyennes\n",
    "display(pd.DataFrame(Z,index=df.index, columns=df.columns))"
   ]
  },
  {
   "cell_type": "code",
   "execution_count": 44,
   "metadata": {},
   "outputs": [
    {
     "name": "stdout",
     "output_type": "stream",
     "text": [
      "[[132055.56   5732.54   5476.56   1181.78  38159.61   2850.87]\n",
      " [  5732.54    392.13    272.86     53.26   2017.05    197.27]\n",
      " [  5476.56    272.86    461.58     94.22   2482.36    120.64]\n",
      " [  1181.78     53.26     94.22     26.67    492.72     28.81]\n",
      " [ 38159.61   2017.05   2482.36    492.72  17715.36    749.99]\n",
      " [  2850.87    197.27    120.64     28.81    749.99    139.2 ]]\n"
     ]
    }
   ],
   "source": [
    "# (1/n) (Z'Z) - shoud display the variance-covariance matrix\n",
    "print(np.dot(np.transpose(Z),Z)/n)"
   ]
  },
  {
   "cell_type": "code",
   "execution_count": 45,
   "metadata": {},
   "outputs": [
    {
     "name": "stdout",
     "output_type": "stream",
     "text": [
      "[[1.   0.8  0.7  0.63 0.79 0.66]\n",
      " [0.8  1.   0.64 0.52 0.77 0.84]\n",
      " [0.7  0.64 1.   0.85 0.87 0.48]\n",
      " [0.63 0.52 0.85 1.   0.72 0.47]\n",
      " [0.79 0.77 0.87 0.72 1.   0.48]\n",
      " [0.66 0.84 0.48 0.47 0.48 1.  ]]\n"
     ]
    }
   ],
   "source": [
    "# correlations matrix\n",
    "R = np.corrcoef(X,rowvar=False)\n",
    "print(R)"
   ]
  },
  {
   "cell_type": "code",
   "execution_count": 46,
   "metadata": {},
   "outputs": [
    {
     "name": "stdout",
     "output_type": "stream",
     "text": [
      "[[1.   0.8  0.7  0.63 0.79 0.66]\n",
      " [0.8  1.   0.64 0.52 0.77 0.84]\n",
      " [0.7  0.64 1.   0.85 0.87 0.48]\n",
      " [0.63 0.52 0.85 1.   0.72 0.47]\n",
      " [0.79 0.77 0.87 0.72 1.   0.48]\n",
      " [0.66 0.84 0.48 0.47 0.48 1.  ]]\n"
     ]
    }
   ],
   "source": [
    "# standard deviation vector for (p = 6) variables\n",
    "sigmas = np.std(X,axis=0)\n",
    "\n",
    "# standardization\n",
    "Z = (X - moyennes)/sigmas\n",
    "\n",
    "# correspondance : produit matriciel : (1/n) (Z'Z) should display the correlation matrix\n",
    "print(np.dot(np.transpose(Z),Z)/n)"
   ]
  },
  {
   "cell_type": "code",
   "execution_count": 47,
   "metadata": {},
   "outputs": [
    {
     "data": {
      "image/png": "[encoded data removed]",
      "text/plain": [
       "<Figure size 640x480 with 2 Axes>"
      ]
     },
     "metadata": {},
     "output_type": "display_data"
    }
   ],
   "source": [
    "# heatmap to visually identify the strongest correlations\n",
    "sns.heatmap(R,xticklabels=df.columns,yticklabels=df.columns,vmin=-1,vmax=+1,center=0,cmap=\"RdBu\",linewidths=0.5);"
   ]
  },
  {
   "cell_type": "code",
   "execution_count": 48,
   "metadata": {
    "scrolled": true
   },
   "outputs": [
    {
     "ename": "AttributeError",
     "evalue": "'PCA' object has no attribute 'get_feature_names_out'",
     "output_type": "error",
     "traceback": [
      "\u001b[0;31m---------------------------------------------------------------------------\u001b[0m",
      "\u001b[0;31mAttributeError\u001b[0m                            Traceback (most recent call last)",
      "\u001b[0;32m/var/folders/6d/j3n0zwb90td6rbgw123fm2th0000gn/T/ipykernel_3053/1070538490.py\u001b[0m in \u001b[0;36m<module>\u001b[0;34m\u001b[0m\n\u001b[1;32m      6\u001b[0m \u001b[0;34m\u001b[0m\u001b[0m\n\u001b[1;32m      7\u001b[0m \u001b[0;31m# print the new coordinates of the first cars\u001b[0m\u001b[0;34m\u001b[0m\u001b[0;34m\u001b[0m\u001b[0m\n\u001b[0;32m----> 8\u001b[0;31m \u001b[0mdisplay\u001b[0m\u001b[0;34m(\u001b[0m\u001b[0mpd\u001b[0m\u001b[0;34m.\u001b[0m\u001b[0mDataFrame\u001b[0m\u001b[0;34m(\u001b[0m\u001b[0mcoord\u001b[0m\u001b[0;34m,\u001b[0m\u001b[0mindex\u001b[0m\u001b[0;34m=\u001b[0m\u001b[0mdf\u001b[0m\u001b[0;34m.\u001b[0m\u001b[0mindex\u001b[0m\u001b[0;34m,\u001b[0m \u001b[0mcolumns\u001b[0m\u001b[0;34m=\u001b[0m\u001b[0macp\u001b[0m\u001b[0;34m.\u001b[0m\u001b[0mget_feature_names_out\u001b[0m\u001b[0;34m(\u001b[0m\u001b[0;34m)\u001b[0m\u001b[0;34m)\u001b[0m\u001b[0;34m.\u001b[0m\u001b[0mhead\u001b[0m\u001b[0;34m(\u001b[0m\u001b[0;34m)\u001b[0m\u001b[0;34m)\u001b[0m\u001b[0;34m\u001b[0m\u001b[0;34m\u001b[0m\u001b[0m\n\u001b[0m",
      "\u001b[0;31mAttributeError\u001b[0m: 'PCA' object has no attribute 'get_feature_names_out'"
     ]
    }
   ],
   "source": [
    "# PCA on the standardized variables (p = 6 variables)\n",
    "acp = PCA()\n",
    "\n",
    "# factor coordinates\n",
    "coord = acp.fit_transform(Z)\n",
    "\n",
    "# print the new coordinates of the first cars\n",
    "display(pd.DataFrame(coord,index=df.index, columns=acp.get_feature_names_out()).head())"
   ]
  },
  {
   "cell_type": "code",
   "execution_count": 49,
   "metadata": {},
   "outputs": [
    {
     "data": {
      "text/html": [
       "<div>\n",
       "<style scoped>\n",
       "    .dataframe tbody tr th:only-of-type {\n",
       "        vertical-align: middle;\n",
       "    }\n",
       "\n",
       "    .dataframe tbody tr th {\n",
       "        vertical-align: top;\n",
       "    }\n",
       "\n",
       "    .dataframe thead th {\n",
       "        text-align: right;\n",
       "    }\n",
       "</style>\n",
       "<table border=\"1\" class=\"dataframe\">\n",
       "  <thead>\n",
       "    <tr style=\"text-align: right;\">\n",
       "      <th></th>\n",
       "      <th>CYL</th>\n",
       "      <th>PUISS</th>\n",
       "      <th>LONG</th>\n",
       "      <th>LARG</th>\n",
       "      <th>POIDS</th>\n",
       "      <th>VMAX</th>\n",
       "    </tr>\n",
       "    <tr>\n",
       "      <th>Modele</th>\n",
       "      <th></th>\n",
       "      <th></th>\n",
       "      <th></th>\n",
       "      <th></th>\n",
       "      <th></th>\n",
       "      <th></th>\n",
       "    </tr>\n",
       "  </thead>\n",
       "  <tbody>\n",
       "    <tr>\n",
       "      <th>Alfasud TI</th>\n",
       "      <td>-0.775099</td>\n",
       "      <td>-0.283358</td>\n",
       "      <td>-1.885081</td>\n",
       "      <td>-1.097345</td>\n",
       "      <td>-1.569007</td>\n",
       "      <td>0.569760</td>\n",
       "    </tr>\n",
       "    <tr>\n",
       "      <th>Audi 100</th>\n",
       "      <td>-0.120163</td>\n",
       "      <td>0.019639</td>\n",
       "      <td>1.605810</td>\n",
       "      <td>2.001041</td>\n",
       "      <td>0.234161</td>\n",
       "      <td>0.145972</td>\n",
       "    </tr>\n",
       "    <tr>\n",
       "      <th>Simca 1300</th>\n",
       "      <td>-0.929201</td>\n",
       "      <td>-0.838852</td>\n",
       "      <td>-0.442179</td>\n",
       "      <td>0.258199</td>\n",
       "      <td>-0.216631</td>\n",
       "      <td>-0.532090</td>\n",
       "    </tr>\n",
       "    <tr>\n",
       "      <th>Citroen GS Club</th>\n",
       "      <td>-1.127333</td>\n",
       "      <td>-1.293348</td>\n",
       "      <td>-1.000722</td>\n",
       "      <td>-1.097345</td>\n",
       "      <td>-1.118215</td>\n",
       "      <td>-0.616848</td>\n",
       "    </tr>\n",
       "    <tr>\n",
       "      <th>Fiat 132</th>\n",
       "      <td>-0.128419</td>\n",
       "      <td>0.676132</td>\n",
       "      <td>0.255999</td>\n",
       "      <td>-0.516398</td>\n",
       "      <td>0.196595</td>\n",
       "      <td>0.569760</td>\n",
       "    </tr>\n",
       "  </tbody>\n",
       "</table>\n",
       "</div>"
      ],
      "text/plain": [
       "                      CYL     PUISS      LONG      LARG     POIDS      VMAX\n",
       "Modele                                                                     \n",
       "Alfasud TI      -0.775099 -0.283358 -1.885081 -1.097345 -1.569007  0.569760\n",
       "Audi 100        -0.120163  0.019639  1.605810  2.001041  0.234161  0.145972\n",
       "Simca 1300      -0.929201 -0.838852 -0.442179  0.258199 -0.216631 -0.532090\n",
       "Citroen GS Club -1.127333 -1.293348 -1.000722 -1.097345 -1.118215 -0.616848\n",
       "Fiat 132        -0.128419  0.676132  0.255999 -0.516398  0.196595  0.569760"
      ]
     },
     "metadata": {},
     "output_type": "display_data"
    }
   ],
   "source": [
    "# matrix of the centered variables\n",
    "Z = (X - moyennes)/sigmas\n",
    "display(pd.DataFrame(Z,index=df.index, columns=df.columns).head())"
   ]
  },
  {
   "cell_type": "markdown",
   "metadata": {},
   "source": [
    "### Computing the correlations between the axes and the variables"
   ]
  },
  {
   "cell_type": "code",
   "execution_count": 50,
   "metadata": {},
   "outputs": [
    {
     "name": "stdout",
     "output_type": "stream",
     "text": [
      "p=6 \n",
      "\n",
      "[[ 0.89  0.89  0.89  0.81  0.91  0.75]\n",
      " [ 0.11  0.38 -0.38 -0.41 -0.22  0.57]\n",
      " [-0.22 -0.11  0.04  0.37 -0.3   0.3 ]\n",
      " [ 0.37 -0.17 -0.13  0.1  -0.14 -0.03]\n",
      " [ 0.05 -0.09  0.22 -0.15 -0.09  0.06]\n",
      " [-0.01 -0.13 -0.04 -0.02  0.12  0.1 ]]\n"
     ]
    }
   ],
   "source": [
    "# number of variables\n",
    "p = Z.shape[1]\n",
    "print(f\"p={p} \\n\")\n",
    "\n",
    "# correlation between the factors and the variables\n",
    "Mlambda = np.corrcoef(x=coord,y=Z,rowvar=False)[:p,p:]\n",
    "\n",
    "# print correlation : rows = factors, columns = variables\n",
    "print(Mlambda)"
   ]
  },
  {
   "cell_type": "code",
   "execution_count": 51,
   "metadata": {},
   "outputs": [
    {
     "data": {
      "text/plain": [
       "array([[ 1.  , -0.  , -0.  ,  0.  ,  0.  , -0.  ,  0.89,  0.89,  0.89,  0.81,  0.91,  0.75],\n",
       "       [-0.  ,  1.  ,  0.  ,  0.  ,  0.  ,  0.  ,  0.11,  0.38, -0.38, -0.41, -0.22,  0.57],\n",
       "       [-0.  ,  0.  ,  1.  , -0.  , -0.  ,  0.  , -0.22, -0.11,  0.04,  0.37, -0.3 ,  0.3 ],\n",
       "       [ 0.  ,  0.  , -0.  ,  1.  , -0.  ,  0.  ,  0.37, -0.17, -0.13,  0.1 , -0.14, -0.03],\n",
       "       [ 0.  ,  0.  , -0.  , -0.  ,  1.  ,  0.  ,  0.05, -0.09,  0.22, -0.15, -0.09,  0.06],\n",
       "       [-0.  ,  0.  ,  0.  ,  0.  ,  0.  ,  1.  , -0.01, -0.13, -0.04, -0.02,  0.12,  0.1 ],\n",
       "       [ 0.89,  0.11, -0.22,  0.37,  0.05, -0.01,  1.  ,  0.8 ,  0.7 ,  0.63,  0.79,  0.66],\n",
       "       [ 0.89,  0.38, -0.11, -0.17, -0.09, -0.13,  0.8 ,  1.  ,  0.64,  0.52,  0.77,  0.84],\n",
       "       [ 0.89, -0.38,  0.04, -0.13,  0.22, -0.04,  0.7 ,  0.64,  1.  ,  0.85,  0.87,  0.48],\n",
       "       [ 0.81, -0.41,  0.37,  0.1 , -0.15, -0.02,  0.63,  0.52,  0.85,  1.  ,  0.72,  0.47],\n",
       "       [ 0.91, -0.22, -0.3 , -0.14, -0.09,  0.12,  0.79,  0.77,  0.87,  0.72,  1.  ,  0.48],\n",
       "       [ 0.75,  0.57,  0.3 , -0.03,  0.06,  0.1 ,  0.66,  0.84,  0.48,  0.47,  0.48,  1.  ]])"
      ]
     },
     "execution_count": 51,
     "metadata": {},
     "output_type": "execute_result"
    }
   ],
   "source": [
    "np.set_printoptions(linewidth=100)\n",
    "np.corrcoef(x=coord,y=Z,rowvar=False)"
   ]
  },
  {
   "cell_type": "markdown",
   "metadata": {},
   "source": [
    "### Retrieving the lambdas for each axis"
   ]
  },
  {
   "cell_type": "code",
   "execution_count": 52,
   "metadata": {},
   "outputs": [
    {
     "data": {
      "text/plain": [
       "array([[0.8 , 0.79, 0.79, 0.66, 0.82, 0.57],\n",
       "       [0.01, 0.15, 0.15, 0.17, 0.05, 0.33],\n",
       "       [0.05, 0.01, 0.  , 0.14, 0.09, 0.09],\n",
       "       [0.14, 0.03, 0.02, 0.01, 0.02, 0.  ],\n",
       "       [0.  , 0.01, 0.05, 0.02, 0.01, 0.  ],\n",
       "       [0.  , 0.02, 0.  , 0.  , 0.01, 0.01]])"
      ]
     },
     "execution_count": 52,
     "metadata": {},
     "output_type": "execute_result"
    }
   ],
   "source": [
    "Mlambda**2"
   ]
  },
  {
   "cell_type": "code",
   "execution_count": 53,
   "metadata": {},
   "outputs": [
    {
     "name": "stdout",
     "output_type": "stream",
     "text": [
      "[4.42 0.86 0.37 0.21 0.09 0.04]\n"
     ]
    }
   ],
   "source": [
    "# sum of square correlations between variables and factors\n",
    "# i.e. lambda values\n",
    "slambda = np.sum(Mlambda**2,axis=1)\n",
    "print(slambda)"
   ]
  },
  {
   "cell_type": "code",
   "execution_count": 54,
   "metadata": {},
   "outputs": [
    {
     "name": "stdout",
     "output_type": "stream",
     "text": [
      "6.000000000000002\n"
     ]
    }
   ],
   "source": [
    "# sum of = inertia = p since this is a standardized PCA\n",
    "print(np.sum(slambda))"
   ]
  },
  {
   "cell_type": "code",
   "execution_count": 55,
   "metadata": {},
   "outputs": [
    {
     "name": "stdout",
     "output_type": "stream",
     "text": [
      "[4.42 0.86 0.37 0.21 0.09 0.04]\n"
     ]
    }
   ],
   "source": [
    "# to compare with the variable perspective\n",
    "# variance of the factor coordinates\n",
    "print(np.var(coord,axis=0,ddof=0))"
   ]
  },
  {
   "cell_type": "code",
   "execution_count": 56,
   "metadata": {},
   "outputs": [
    {
     "name": "stdout",
     "output_type": "stream",
     "text": [
      "Index(['CYL', 'PUISS', 'LONG', 'LARG', 'POIDS', 'VMAX'], dtype='object')\n"
     ]
    }
   ],
   "source": [
    "# variables list\n",
    "print(df.columns)"
   ]
  },
  {
   "cell_type": "code",
   "execution_count": 57,
   "metadata": {},
   "outputs": [
    {
     "name": "stdout",
     "output_type": "stream",
     "text": [
      "0.7889520283865826\n"
     ]
    }
   ],
   "source": [
    "# correlation between CYL and POIDS\n",
    "print(R[0,4])"
   ]
  },
  {
   "cell_type": "code",
   "execution_count": 58,
   "metadata": {},
   "outputs": [
    {
     "name": "stdout",
     "output_type": "stream",
     "text": [
      "0.8087519932967818\n"
     ]
    }
   ],
   "source": [
    "# approximate correlation on the first factor\n",
    "print(Mlambda[0,0]*Mlambda[0,4])"
   ]
  },
  {
   "cell_type": "code",
   "execution_count": 59,
   "metadata": {},
   "outputs": [
    {
     "name": "stdout",
     "output_type": "stream",
     "text": [
      "0.7829518411637988\n"
     ]
    }
   ],
   "source": [
    "# approximate correlation on the two firs factors\n",
    "print(Mlambda[0,0]*Mlambda[0,4]+Mlambda[1,0]*Mlambda[1,4])"
   ]
  },
  {
   "cell_type": "code",
   "execution_count": 60,
   "metadata": {},
   "outputs": [
    {
     "name": "stdout",
     "output_type": "stream",
     "text": [
      "0.4775955992662051\n"
     ]
    }
   ],
   "source": [
    "# correlation between POIDS and VMAX\n",
    "print(R[4,5])"
   ]
  },
  {
   "cell_type": "code",
   "execution_count": 61,
   "metadata": {},
   "outputs": [
    {
     "name": "stdout",
     "output_type": "stream",
     "text": [
      "0.6831543614480379\n",
      "0.55438062524932\n"
     ]
    }
   ],
   "source": [
    "# approximate correlation on the first factor\n",
    "print(Mlambda[0,4]*Mlambda[0,5])\n",
    "\n",
    "# approximate correlations on the two first factors\n",
    "print(Mlambda[0,4]*Mlambda[0,5]+Mlambda[1,4]*Mlambda[1,5])"
   ]
  },
  {
   "cell_type": "markdown",
   "metadata": {},
   "source": [
    "## Computing details : diagonalisation"
   ]
  },
  {
   "cell_type": "code",
   "execution_count": 62,
   "metadata": {},
   "outputs": [
    {
     "name": "stdout",
     "output_type": "stream",
     "text": [
      "PCA components: \n",
      " [[ 0.42  0.42  0.42  0.39  0.43  0.36]\n",
      " [ 0.12  0.42 -0.41 -0.45 -0.24  0.62]\n",
      " [-0.35 -0.18  0.07  0.6  -0.48  0.49]\n",
      " [ 0.81 -0.36 -0.28  0.21 -0.3  -0.07]\n",
      " [ 0.15 -0.29  0.73 -0.48 -0.3   0.19]\n",
      " [-0.06 -0.63 -0.19 -0.11  0.58  0.46]]\n",
      "first eigenvector: [0.42 0.42 0.42 0.39 0.43 0.36]\n",
      "first eigenvalue:  4.421\n",
      "eigenvector norm: 1.00\n"
     ]
    }
   ],
   "source": [
    "# components\n",
    "print(f\"PCA components: \\n {acp.components_}\")\n",
    "\n",
    "# eigenvalue #1\n",
    "a = acp.components_[0]\n",
    "print(f\"first eigenvector: {a}\")\n",
    "\n",
    "# produit\n",
    "print(f\"first eigenvalue: {np.dot(np.dot(a,R),np.transpose(a)): .3f}\")\n",
    "\n",
    "# eigenvector norm\n",
    "print(f\"eigenvector norm: {np.linalg.norm(a) :.2f}\")"
   ]
  },
  {
   "cell_type": "code",
   "execution_count": 63,
   "metadata": {},
   "outputs": [
    {
     "name": "stdout",
     "output_type": "stream",
     "text": [
      "[[1.   0.8  0.7  0.63 0.79 0.66]\n",
      " [0.8  1.   0.64 0.52 0.77 0.84]\n",
      " [0.7  0.64 1.   0.85 0.87 0.48]\n",
      " [0.63 0.52 0.85 1.   0.72 0.47]\n",
      " [0.79 0.77 0.87 0.72 1.   0.48]\n",
      " [0.66 0.84 0.48 0.47 0.48 1.  ]]\n"
     ]
    },
    {
     "data": {
      "text/plain": [
       "(tuple, 2)"
      ]
     },
     "execution_count": 63,
     "metadata": {},
     "output_type": "execute_result"
    }
   ],
   "source": [
    "# review correlation matrix\n",
    "print(R)\n",
    "\n",
    "# computing eigenvalues and eigenvectors \n",
    "sol = np.linalg.eig(R)\n",
    "type(sol),len(sol)"
   ]
  },
  {
   "cell_type": "code",
   "execution_count": 64,
   "metadata": {},
   "outputs": [
    {
     "name": "stdout",
     "output_type": "stream",
     "text": [
      "[4.42 0.86 0.37 0.21 0.09 0.04]\n"
     ]
    }
   ],
   "source": [
    "# first element of tuple are eigenvalues\n",
    "print(sol[0])"
   ]
  },
  {
   "cell_type": "code",
   "execution_count": 65,
   "metadata": {},
   "outputs": [
    {
     "data": {
      "text/plain": [
       "array([[ 0.42,  0.12,  0.35,  0.81,  0.15, -0.06],\n",
       "       [ 0.42,  0.42,  0.18, -0.36, -0.29, -0.63],\n",
       "       [ 0.42, -0.41, -0.07, -0.28,  0.73, -0.19],\n",
       "       [ 0.39, -0.45, -0.6 ,  0.21, -0.48, -0.11],\n",
       "       [ 0.43, -0.24,  0.48, -0.3 , -0.3 ,  0.58],\n",
       "       [ 0.36,  0.62, -0.49, -0.07,  0.19,  0.46]])"
      ]
     },
     "execution_count": 65,
     "metadata": {},
     "output_type": "execute_result"
    }
   ],
   "source": [
    "# second element of tuple is eigenvectors matrix\n",
    "sol[1]"
   ]
  },
  {
   "cell_type": "code",
   "execution_count": 66,
   "metadata": {},
   "outputs": [
    {
     "name": "stdout",
     "output_type": "stream",
     "text": [
      "[0.42 0.42 0.42 0.39 0.43 0.36]\n"
     ]
    }
   ],
   "source": [
    "# eigenvector for the firs factor\n",
    "print(sol[1][:,0])"
   ]
  },
  {
   "cell_type": "code",
   "execution_count": 67,
   "metadata": {},
   "outputs": [
    {
     "name": "stdout",
     "output_type": "stream",
     "text": [
      "1.0\n"
     ]
    }
   ],
   "source": [
    "# check its norm\n",
    "print(np.linalg.norm(sol[1][:,0]))"
   ]
  },
  {
   "cell_type": "code",
   "execution_count": 68,
   "metadata": {},
   "outputs": [
    {
     "name": "stdout",
     "output_type": "stream",
     "text": [
      "[[ 1.  0. -0. -0.  0. -0.]\n",
      " [ 0.  1.  0.  0.  0. -0.]\n",
      " [-0.  0.  1.  0.  0.  0.]\n",
      " [-0.  0.  0.  1. -0.  0.]\n",
      " [-0.  0.  0. -0.  1.  0.]\n",
      " [-0. -0.  0.  0.  0.  1.]]\n"
     ]
    }
   ],
   "source": [
    "# is the matrix actually orthonormal ?\n",
    "print(np.dot(np.transpose(sol[1]),sol[1]))"
   ]
  },
  {
   "cell_type": "code",
   "execution_count": 69,
   "metadata": {},
   "outputs": [
    {
     "name": "stdout",
     "output_type": "stream",
     "text": [
      "                      F_1\n",
      "Modele                   \n",
      "Alfasud TI      -2.138924\n",
      "Audi 100         1.561459\n",
      "Simca 1300      -1.119385\n",
      "Citroen GS Club -2.573742\n",
      "Fiat 132         0.427855\n",
      "Lancia Beta     -0.304238\n",
      "Peugeot 504      0.683928\n",
      "Renault 16 TL   -1.948493\n",
      "Renault 30       4.409735\n",
      "Toyota Corolla  -3.985782\n",
      "Alfetta 1.66     0.437658\n",
      "Princess 1800    1.018175\n",
      "Datsun 200L      2.941080\n",
      "Taunus 2000      1.314880\n",
      "Rancho          -0.691111\n",
      "Mazda 9295       0.385709\n",
      "Opel Rekord      2.289768\n",
      "Lada 1300       -2.708574\n"
     ]
    }
   ],
   "source": [
    "# factor coordinates on the first factor (n°0)\n",
    "# dot product of the Z matrix on the first coordinate\n",
    "c1 = np.dot(Z,sol[1][:,0])\n",
    "\n",
    "# print coordinates with car labels\n",
    "print(pd.DataFrame(c1,columns=['F_1'],index=df.index))"
   ]
  },
  {
   "cell_type": "code",
   "execution_count": 70,
   "metadata": {},
   "outputs": [
    {
     "name": "stdout",
     "output_type": "stream",
     "text": [
      "[4.42 0.86 0.37 0.21 0.09 0.04]\n"
     ]
    }
   ],
   "source": [
    "# with PCA modules from sklearn\n",
    "print((17/18)*acp.explained_variance_)"
   ]
  },
  {
   "cell_type": "code",
   "execution_count": 71,
   "metadata": {},
   "outputs": [
    {
     "name": "stdout",
     "output_type": "stream",
     "text": [
      "             F1\n",
      "CYL    0.893464\n",
      "PUISS  0.886858\n",
      "LONG   0.886155\n",
      "LARG   0.813536\n",
      "POIDS  0.905187\n",
      "VMAX   0.754710\n"
     ]
    }
   ],
   "source": [
    "# correlations of variables with the first factor (#0)\n",
    "r_1 = np.sqrt(sol[0][0])*sol[1][:,0]\n",
    "\n",
    "#affichage\n",
    "print(pd.DataFrame(r_1,index=df.columns, columns=['F1']))"
   ]
  },
  {
   "cell_type": "markdown",
   "metadata": {},
   "source": [
    "## Computing details : singular value decomposition (SVD)"
   ]
  },
  {
   "cell_type": "code",
   "execution_count": 72,
   "metadata": {},
   "outputs": [],
   "source": [
    "# singular value decomposition\n",
    "U, delta, V = np.linalg.svd(Z)"
   ]
  },
  {
   "cell_type": "code",
   "execution_count": 73,
   "metadata": {},
   "outputs": [
    {
     "name": "stdout",
     "output_type": "stream",
     "text": [
      "delta : [8.92 3.93 2.59 1.96 1.29 0.88]\n",
      "lambdas : [4.42 0.86 0.37 0.21 0.09 0.04]\n"
     ]
    }
   ],
   "source": [
    "# singular values vector\n",
    "print(f\"delta : {delta}\")\n",
    "\n",
    "# infer the lambda_k\n",
    "print(f\"lambdas : {(delta**2)/n}\")"
   ]
  },
  {
   "cell_type": "code",
   "execution_count": 74,
   "metadata": {},
   "outputs": [
    {
     "name": "stdout",
     "output_type": "stream",
     "text": [
      "Matrix V of Z'Z right (input) singular eivenvectors (coordonnées des variables) : \n",
      " [[ 0.42 -0.12  0.35 -0.81 -0.15  0.06]\n",
      " [ 0.42 -0.42  0.18  0.36  0.29  0.63]\n",
      " [ 0.42  0.41 -0.07  0.28 -0.73  0.19]\n",
      " [ 0.39  0.45 -0.6  -0.21  0.48  0.11]\n",
      " [ 0.43  0.24  0.48  0.3   0.3  -0.58]\n",
      " [ 0.36 -0.62 -0.49  0.07 -0.19 -0.46]]\n",
      "Check: \n",
      " [[ 0.42  0.12  0.35  0.81  0.15 -0.06]\n",
      " [ 0.42  0.42  0.18 -0.36 -0.29 -0.63]\n",
      " [ 0.42 -0.41 -0.07 -0.28  0.73 -0.19]\n",
      " [ 0.39 -0.45 -0.6   0.21 -0.48 -0.11]\n",
      " [ 0.43 -0.24  0.48 -0.3  -0.3   0.58]\n",
      " [ 0.36  0.62 -0.49 -0.07  0.19  0.46]]\n"
     ]
    }
   ],
   "source": [
    "# input or right singular vector matrix\n",
    "print(f\"Matrix V of Z'Z right (input) singular eivenvectors (coordonnées des variables) : \\n {np.transpose(V)}\")\n",
    "\n",
    "# check : eigenvalues of (Z'Z) -- OK \n",
    "print(f\"Check: \\n {np.linalg.eig(np.dot(np.transpose(Z),Z))[1]}\")"
   ]
  },
  {
   "cell_type": "code",
   "execution_count": 75,
   "metadata": {},
   "outputs": [
    {
     "name": "stdout",
     "output_type": "stream",
     "text": [
      "Matrix U of output (left) singular eigenvectors ZZ' (coordonnées des individus) :\n",
      " [[-0.24 -0.45 -0.22 -0.1   0.23 -0.06  0.31  0.21  0.17 -0.23 -0.2   0.14  0.4  -0.03 -0.04  0.24\n",
      "   0.17 -0.3 ]\n",
      " [ 0.18  0.39 -0.51  0.11 -0.11  0.37  0.09  0.25  0.42 -0.06 -0.11  0.1  -0.04 -0.06 -0.02  0.19\n",
      "  -0.29  0.05]\n",
      " [-0.13  0.17 -0.18  0.09  0.29 -0.31 -0.16 -0.16  0.43  0.12  0.47 -0.25  0.    0.24 -0.29  0.16\n",
      "   0.17 -0.09]\n",
      " [-0.29 -0.03 -0.06  0.01 -0.18 -0.3  -0.09 -0.17  0.45 -0.2  -0.31  0.21 -0.06  0.26  0.22 -0.45\n",
      "  -0.02  0.24]\n",
      " [ 0.05 -0.18  0.07  0.32 -0.2   0.04  0.08  0.19  0.04  0.15 -0.27  0.11 -0.55  0.27 -0.34  0.12\n",
      "   0.36 -0.15]\n",
      " [-0.03  0.05 -0.26  0.28  0.34 -0.23  0.09  0.33 -0.23  0.51 -0.23 -0.13  0.14  0.1   0.17 -0.15\n",
      "   0.03  0.31]\n",
      " [ 0.08  0.24  0.1  -0.1  -0.16 -0.17  0.89 -0.13  0.03  0.05  0.13 -0.08 -0.02  0.07 -0.01 -0.09\n",
      "   0.04  0.05]\n",
      " [-0.22  0.25  0.24 -0.32 -0.23 -0.12 -0.11  0.76  0.03 -0.08  0.18 -0.06  0.05  0.07 -0.01 -0.09\n",
      "   0.1  -0.04]\n",
      " [ 0.49 -0.27  0.23 -0.43  0.29 -0.05  0.    0.12  0.44  0.25 -0.1  -0.04 -0.19 -0.14  0.06 -0.04\n",
      "  -0.05  0.11]\n",
      " [-0.45 -0.06  0.12 -0.14 -0.22  0.37  0.02 -0.15  0.21  0.68  0.03  0.1   0.15 -0.04  0.04 -0.\n",
      "  -0.02 -0.12]\n",
      " [ 0.05 -0.49 -0.01  0.39 -0.13  0.06  0.1   0.22  0.1  -0.02  0.61  0.18 -0.05 -0.02  0.18 -0.12\n",
      "  -0.18  0.18]\n",
      " [ 0.11  0.21 -0.08 -0.15  0.14 -0.21 -0.05 -0.03 -0.15  0.14  0.16  0.87 -0.    0.01 -0.07  0.05\n",
      "   0.09 -0.02]\n",
      " [ 0.33  0.14  0.48  0.39 -0.04  0.06 -0.05  0.01  0.21 -0.01 -0.13  0.1   0.6   0.16 -0.15 -0.02\n",
      "   0.06  0.  ]\n",
      " [ 0.15 -0.12 -0.11 -0.3   0.05  0.29 -0.01 -0.02 -0.18 -0.02  0.07 -0.02  0.08  0.84  0.08  0.02\n",
      "  -0.13  0.02]\n",
      " [-0.08  0.23  0.24  0.18  0.29  0.14  0.04  0.01  0.1  -0.08  0.03  0.04 -0.21  0.08  0.72  0.21\n",
      "   0.2  -0.26]\n",
      " [ 0.04 -0.09  0.03 -0.05 -0.41 -0.38 -0.09 -0.05  0.    0.11 -0.07 -0.03  0.07  0.06  0.22  0.71\n",
      "  -0.09  0.27]\n",
      " [ 0.26 -0.03 -0.31 -0.12 -0.26  0.18 -0.09 -0.08  0.02  0.    0.12 -0.07  0.17 -0.1   0.19 -0.11\n",
      "   0.76  0.18]\n",
      " [-0.3   0.04  0.22 -0.05  0.3   0.32  0.09 -0.01  0.02 -0.19  0.01  0.08 -0.07 -0.02 -0.21  0.22\n",
      "   0.16  0.7 ]]\n"
     ]
    }
   ],
   "source": [
    "#matrice singulière à gauche (de sortie)\n",
    "print(f\"Matrix U of output (left) singular eigenvectors ZZ' (coordonnées des individus) :\\n {U}\")"
   ]
  },
  {
   "cell_type": "code",
   "execution_count": 76,
   "metadata": {},
   "outputs": [
    {
     "name": "stdout",
     "output_type": "stream",
     "text": [
      "                      F_1\n",
      "Modele                   \n",
      "Alfasud TI      -2.138924\n",
      "Audi 100         1.561459\n",
      "Simca 1300      -1.119385\n",
      "Citroen GS Club -2.573742\n",
      "Fiat 132         0.427855\n",
      "Lancia Beta     -0.304238\n",
      "Peugeot 504      0.683928\n",
      "Renault 16 TL   -1.948493\n",
      "Renault 30       4.409735\n",
      "Toyota Corolla  -3.985782\n",
      "Alfetta 1.66     0.437658\n",
      "Princess 1800    1.018175\n",
      "Datsun 200L      2.941080\n",
      "Taunus 2000      1.314880\n",
      "Rancho          -0.691111\n",
      "Mazda 9295       0.385709\n",
      "Opel Rekord      2.289768\n",
      "Lada 1300       -2.708574\n"
     ]
    }
   ],
   "source": [
    "#coordonnées factorielles - 1er facteur\n",
    "print(pd.DataFrame(U[:,0]*delta[0],columns=['F_1'],index=df.index))"
   ]
  }
 ],
 "metadata": {
  "kernelspec": {
   "display_name": "Python 3 (ipykernel)",
   "language": "python",
   "name": "python3"
  },
  "language_info": {
   "codemirror_mode": {
    "name": "ipython",
    "version": 3
   },
   "file_extension": ".py",
   "mimetype": "text/x-python",
   "name": "python",
   "nbconvert_exporter": "python",
   "pygments_lexer": "ipython3",
   "version": "3.9.13"
  }
 },
 "nbformat": 4,
 "nbformat_minor": 4
}
