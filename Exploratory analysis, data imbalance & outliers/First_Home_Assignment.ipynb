{
 "cells": [
  {
   "cell_type": "markdown",
   "metadata": {},
   "source": [
    "# Python Basics Revision "
   ]
  },
  {
   "cell_type": "code",
   "execution_count": null,
   "metadata": {},
   "outputs": [],
   "source": []
  },
  {
   "cell_type": "code",
   "execution_count": 18,
   "metadata": {},
   "outputs": [],
   "source": [
    "# write a function for the area of a circle?\n",
    "radius = float(input(\"enter the radius of your circle :\"))\n",
    "\n",
    "def area_of_circle(radius):\n",
    "    pi = 3.14159\n",
    "    area = pi * radius ** 2\n",
    "    return area\n",
    "    \n",
    "    print(area_of_circle)"
   ]
  },
  {
   "cell_type": "code",
   "execution_count": 19,
   "metadata": {},
   "outputs": [
    {
     "data": {
      "text/plain": [
       "201.06176"
      ]
     },
     "execution_count": 19,
     "metadata": {},
     "output_type": "execute_result"
    }
   ],
   "source": [
    "area_of_circle(radius)"
   ]
  },
  {
   "cell_type": "code",
   "execution_count": 20,
   "metadata": {},
   "outputs": [],
   "source": [
    "# Create a function that takes two numbers as arguments and returns the greater of the two\n",
    "input1 = float(input(\"enter first argument : \"))\n",
    "input2 = float(input(\"enter second argument : \"))\n",
    "\n",
    "def greater_argument(input1, input2):\n",
    "    return max(input1, input2)"
   ]
  },
  {
   "cell_type": "code",
   "execution_count": 21,
   "metadata": {},
   "outputs": [
    {
     "name": "stdout",
     "output_type": "stream",
     "text": [
      "5.0\n"
     ]
    }
   ],
   "source": [
    "print(greater_argument(input1, input2))"
   ]
  },
  {
   "cell_type": "code",
   "execution_count": 22,
   "metadata": {},
   "outputs": [
    {
     "name": "stdout",
     "output_type": "stream",
     "text": [
      "3.0\n"
     ]
    }
   ],
   "source": [
    "# Define a function max_of_three() that takes three numbers as arguments and\n",
    "# returns the largest of them.\n",
    "input1 = float(input(\"enter first argument : \"))\n",
    "input2 = float(input(\"enter second argument : \"))\n",
    "input3 = float(input(\"enter third argument : \"))\n",
    "\n",
    "def max_of_three(input1, input2, input3):\n",
    "    return max(input1, input2, input3)\n",
    "\n",
    "print(max_of_three(input1, input2, input3))"
   ]
  },
  {
   "cell_type": "code",
   "execution_count": null,
   "metadata": {},
   "outputs": [],
   "source": [
    "# Take two variables and return their product. \n",
    "# If the product is greater than 1000, then return their sum."
   ]
  },
  {
   "cell_type": "code",
   "execution_count": 24,
   "metadata": {},
   "outputs": [
    {
     "name": "stdout",
     "output_type": "stream",
     "text": [
      "407.0\n"
     ]
    }
   ],
   "source": [
    "var1 = float(input(\"enter first variable :\"))\n",
    "var2 = float(input(\"enter second variable :\"))\n",
    "\n",
    "def cond(var1, var2):\n",
    "    if var1 * var2 > 1000:\n",
    "        return var1 + var2\n",
    "    \n",
    "    else:\n",
    "        return var1 * var2\n",
    "print(cond(var1, var2))"
   ]
  },
  {
   "cell_type": "markdown",
   "metadata": {},
   "source": [
    "Write a function called fizz_buzz that takes a number.\n",
    "\n",
    "If the number is divisible by 3, it should return “Fizz”.\n",
    "\n",
    "If it is divisible by 5, it should return “Buzz”.\n",
    "\n",
    "If it is divisible by both 3 and 5, it should return “FizzBuzz”.\n",
    "\n",
    "Otherwise, it should return the same number."
   ]
  },
  {
   "cell_type": "code",
   "execution_count": 31,
   "metadata": {},
   "outputs": [
    {
     "name": "stdout",
     "output_type": "stream",
     "text": [
      "7.0\n"
     ]
    }
   ],
   "source": [
    "number = float(input(\"enter a number :\"))\n",
    "\n",
    "def function(number):\n",
    "    if number % 3 == 0 and number % 5 == 0:\n",
    "        return \"fizzbuzz\"\n",
    "\n",
    "    elif number % 5 == 0:\n",
    "        return \"buzz\"\n",
    "\n",
    "    elif number % 3 == 0:\n",
    "        return \"fizz\"\n",
    "    else:\n",
    "        return number\n",
    "\n",
    "print(function(number))"
   ]
  },
  {
   "cell_type": "markdown",
   "metadata": {},
   "source": [
    "Write a function for checking the speed of drivers.\n",
    "\n",
    "This function should have one parameter: speed.\n",
    "\n",
    "If speed is less than 70, it should print “Ok”.\n",
    "\n",
    "Otherwise, for every 5km above the speed limit (70), it should give the driver one demerit point and print the total number of demerit points.\n",
    "\n",
    "For example, if the speed is 80, it should print: “Points: 2”.\n",
    "\n",
    "If the driver gets more than 12 points, the function should print: “License suspended”"
   ]
  },
  {
   "cell_type": "code",
   "execution_count": 44,
   "metadata": {},
   "outputs": [
    {
     "name": "stdout",
     "output_type": "stream",
     "text": [
      "License suspended\n"
     ]
    }
   ],
   "source": [
    "speed = float(input(\"What is the speed of the driver? \"))\n",
    "\n",
    "def check_speed(speed):\n",
    "    if speed < 70:\n",
    "        return \"OK\"\n",
    "    elif speed > 130:\n",
    "        return \"License suspended\"\n",
    "    else:\n",
    "        demerit_points = (speed - 70) // 5\n",
    "        return f\"Points: {demerit_points}\"\n",
    "\n",
    "print(check_speed(speed))"
   ]
  },
  {
   "cell_type": "code",
   "execution_count": 45,
   "metadata": {},
   "outputs": [
    {
     "ename": "TypeError",
     "evalue": "cannot unpack non-iterable NoneType object",
     "output_type": "error",
     "traceback": [
      "\u001b[0;31m---------------------------------------------------------------------------\u001b[0m",
      "\u001b[0;31mTypeError\u001b[0m                                 Traceback (most recent call last)",
      "\u001b[0;32m/var/folders/6d/j3n0zwb90td6rbgw123fm2th0000gn/T/ipykernel_10891/3660171208.py\u001b[0m in \u001b[0;36m<module>\u001b[0;34m\u001b[0m\n\u001b[1;32m      6\u001b[0m     \u001b[0mp\u001b[0m \u001b[0;34m=\u001b[0m \u001b[0;36m2\u001b[0m \u001b[0;34m*\u001b[0m \u001b[0;34m(\u001b[0m\u001b[0mlength\u001b[0m \u001b[0;34m+\u001b[0m \u001b[0mwidth\u001b[0m\u001b[0;34m)\u001b[0m\u001b[0;34m\u001b[0m\u001b[0;34m\u001b[0m\u001b[0m\n\u001b[1;32m      7\u001b[0m     \u001b[0;32mreturn\u001b[0m\u001b[0;34m\u001b[0m\u001b[0;34m\u001b[0m\u001b[0m\n\u001b[0;32m----> 8\u001b[0;31m \u001b[0marea\u001b[0m\u001b[0;34m,\u001b[0m \u001b[0mperimeter\u001b[0m \u001b[0;34m=\u001b[0m \u001b[0mrectangle\u001b[0m\u001b[0;34m(\u001b[0m\u001b[0;36m20\u001b[0m\u001b[0;34m,\u001b[0m \u001b[0;36m5\u001b[0m\u001b[0;34m)\u001b[0m\u001b[0;34m\u001b[0m\u001b[0;34m\u001b[0m\u001b[0m\n\u001b[0m\u001b[1;32m      9\u001b[0m \u001b[0mprint\u001b[0m\u001b[0;34m(\u001b[0m\u001b[0;34m(\u001b[0m\u001b[0marea\u001b[0m\u001b[0;34m,\u001b[0m \u001b[0mperimeter\u001b[0m\u001b[0;34m)\u001b[0m\u001b[0;34m)\u001b[0m\u001b[0;34m\u001b[0m\u001b[0;34m\u001b[0m\u001b[0m\n\u001b[1;32m     10\u001b[0m \u001b[0;34m\u001b[0m\u001b[0m\n",
      "\u001b[0;31mTypeError\u001b[0m: cannot unpack non-iterable NoneType object"
     ]
    }
   ],
   "source": [
    "# What is the problem in the code \n",
    "def rectangle(length, width):\n",
    "    \"\"\"Returns the area and \n",
    "    perimeter of a rectangle\"\"\"\n",
    "    a = length * width\n",
    "    p = 2 * (length + width)\n",
    "    return \n",
    "area, perimeter = rectangle(20, 5)\n",
    "print((area, perimeter))\n",
    "\n"
   ]
  },
  {
   "cell_type": "markdown",
   "metadata": {},
   "source": [
    "no return parameter"
   ]
  },
  {
   "cell_type": "code",
   "execution_count": 47,
   "metadata": {},
   "outputs": [
    {
     "data": {
      "text/plain": [
       "('3.4000', '5.6780')"
      ]
     },
     "execution_count": 47,
     "metadata": {},
     "output_type": "execute_result"
    }
   ],
   "source": [
    "# complete the code to return the output\n",
    "def add_zeros(string):\n",
    "    \"\"\"Returns a string padded with zeros\n",
    "       to ensure consistent length\"\"\"\n",
    "    updated_string = string + '0'\n",
    "    def add_more():\n",
    "        \"\"\"Adds more zeros if necessary\"\"\"\n",
    "        nonlocal updated_string\n",
    "        updated_string = updated_string + '0'\n",
    "    \n",
    "    while len(updated_string) < 6:\n",
    "        add_more()\n",
    "    return (updated_string)\n",
    "(add_zeros('3.4'), add_zeros('5.678'))"
   ]
  },
  {
   "cell_type": "markdown",
   "metadata": {},
   "source": [
    "Write a Pandas program to add, subtract, multiple and divide two Pandas Series.\n",
    "\n",
    "Sample Series: [2, 4, 6, 8, 10], [1, 3, 5, 7, 9]"
   ]
  },
  {
   "cell_type": "code",
   "execution_count": 51,
   "metadata": {},
   "outputs": [
    {
     "name": "stdout",
     "output_type": "stream",
     "text": [
      "Addition:\n",
      "0     3\n",
      "1     7\n",
      "2    11\n",
      "3    15\n",
      "4    19\n",
      "dtype: int64\n",
      "\n",
      "Subtraction:\n",
      "0    1\n",
      "1    1\n",
      "2    1\n",
      "3    1\n",
      "4    1\n",
      "dtype: int64\n",
      "\n",
      "Multiplication:\n",
      "0     2\n",
      "1    12\n",
      "2    30\n",
      "3    56\n",
      "4    90\n",
      "dtype: int64\n",
      "\n",
      "Division:\n",
      "0    2.000000\n",
      "1    1.333333\n",
      "2    1.200000\n",
      "3    1.142857\n",
      "4    1.111111\n",
      "dtype: float64\n"
     ]
    }
   ],
   "source": [
    "import pandas as pd\n",
    "\n",
    "s1 = pd.Series([2, 4, 6, 8, 10])\n",
    "s2 = pd.Series([1, 3, 5, 7, 9])\n",
    "\n",
    "addition = s1 + s2\n",
    "print(\"Addition:\")\n",
    "print(addition)\n",
    "\n",
    "subtraction = s1 - s2\n",
    "print(\"\\nSubtraction:\")\n",
    "print(subtraction)\n",
    "\n",
    "multiplication = s1 * s2\n",
    "print(\"\\nMultiplication:\")\n",
    "print(multiplication)\n",
    "\n",
    "division = s1 / s2\n",
    "print(\"\\nDivision:\")\n",
    "print(division)"
   ]
  },
  {
   "cell_type": "markdown",
   "metadata": {},
   "source": [
    "# Python Data Analysis\n",
    "\n",
    "Open the \"dirtydata.csv\" file\n",
    "\n",
    "The data set contains some empty cells (\"Date\" in row 22, and \"Calories\" in row 18 and 28).\n",
    "\n",
    "The data set contains wrong format (\"Date\" in row 26).\n",
    "\n",
    "The data set contains wrong data (\"Duration\" in row 7).\n",
    "\n",
    "The data set contains duplicates (row 11 and 12)."
   ]
  },
  {
   "cell_type": "code",
   "execution_count": null,
   "metadata": {},
   "outputs": [],
   "source": [
    "# What is the number of observations (rows and columns) in the dataset?\n",
    "# write the code\n",
    "\n"
   ]
  },
  {
   "cell_type": "code",
   "execution_count": null,
   "metadata": {},
   "outputs": [],
   "source": [
    "# Print the name of all the columns\n",
    "\n"
   ]
  },
  {
   "cell_type": "code",
   "execution_count": null,
   "metadata": {},
   "outputs": [],
   "source": [
    "# Return a new Data Frame with no empty cells (Delete the Empty cells):\n",
    "# Write the code \n",
    "\n",
    "\n"
   ]
  },
  {
   "cell_type": "code",
   "execution_count": null,
   "metadata": {},
   "outputs": [],
   "source": []
  },
  {
   "cell_type": "code",
   "execution_count": null,
   "metadata": {},
   "outputs": [],
   "source": [
    "# Cleaning the wrong date format\n",
    "# In our Data Frame, we have a cell with the wrong format. \n",
    "# Check out row 26, the 'Date' column should be a string that represents a date:\n",
    "# write the code\n",
    "\n",
    "\n",
    "\n"
   ]
  },
  {
   "cell_type": "code",
   "execution_count": null,
   "metadata": {},
   "outputs": [],
   "source": []
  },
  {
   "cell_type": "code",
   "execution_count": null,
   "metadata": {},
   "outputs": [],
   "source": [
    "# Replace the wrong values with something else.\n",
    "\n",
    "# Replace the \"450\" with \"45\" in row 7 in \"Duration\" column:\n",
    "# write the code\n",
    "\n",
    "\n",
    "\n"
   ]
  },
  {
   "cell_type": "code",
   "execution_count": null,
   "metadata": {},
   "outputs": [],
   "source": []
  },
  {
   "cell_type": "code",
   "execution_count": null,
   "metadata": {},
   "outputs": [],
   "source": [
    "# Identifying and removing the \"Duplicate\" rows from the dataset\n",
    "# Row 11 and 12 are duplicates in our dataset."
   ]
  },
  {
   "cell_type": "code",
   "execution_count": null,
   "metadata": {},
   "outputs": [],
   "source": [
    "# identidy the duplicate rows in the dataset\n",
    "# write the code\n",
    "\n",
    "\n"
   ]
  },
  {
   "cell_type": "code",
   "execution_count": null,
   "metadata": {},
   "outputs": [],
   "source": []
  },
  {
   "cell_type": "code",
   "execution_count": null,
   "metadata": {},
   "outputs": [],
   "source": [
    "# Removing the duplicates\n",
    "# write the code\n",
    "\n",
    "\n",
    "\n"
   ]
  },
  {
   "cell_type": "code",
   "execution_count": null,
   "metadata": {},
   "outputs": [],
   "source": []
  }
 ],
 "metadata": {
  "kernelspec": {
   "display_name": "Python 3",
   "language": "python",
   "name": "python3"
  },
  "language_info": {
   "codemirror_mode": {
    "name": "ipython",
    "version": 3
   },
   "file_extension": ".py",
   "mimetype": "text/x-python",
   "name": "python",
   "nbconvert_exporter": "python",
   "pygments_lexer": "ipython3",
   "version": "3.9.13"
  }
 },
 "nbformat": 4,
 "nbformat_minor": 2
}
