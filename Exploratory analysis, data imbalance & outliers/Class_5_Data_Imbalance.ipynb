{
 "cells": [
  {
   "cell_type": "code",
   "execution_count": 1,
   "id": "589e9366",
   "metadata": {},
   "outputs": [],
   "source": [
    "import pandas as pd\n",
    "import seaborn as sns\n",
    "import matplotlib.pyplot as plt"
   ]
  },
  {
   "cell_type": "code",
   "execution_count": 2,
   "id": "00dd00a1",
   "metadata": {},
   "outputs": [],
   "source": [
    "df = pd.read_csv(\"bank_marketing.csv\")"
   ]
  },
  {
   "cell_type": "code",
   "execution_count": 3,
   "id": "bfe254dc",
   "metadata": {},
   "outputs": [
    {
     "data": {
      "text/plain": [
       "(45211, 14)"
      ]
     },
     "execution_count": 3,
     "metadata": {},
     "output_type": "execute_result"
    }
   ],
   "source": [
    "df.shape"
   ]
  },
  {
   "cell_type": "code",
   "execution_count": 4,
   "id": "7d737828",
   "metadata": {},
   "outputs": [],
   "source": [
    "df1= df.head(5000)"
   ]
  },
  {
   "cell_type": "code",
   "execution_count": 5,
   "id": "5a870c58",
   "metadata": {},
   "outputs": [
    {
     "data": {
      "text/plain": [
       "(5000, 14)"
      ]
     },
     "execution_count": 5,
     "metadata": {},
     "output_type": "execute_result"
    }
   ],
   "source": [
    "df1.shape"
   ]
  },
  {
   "cell_type": "code",
   "execution_count": 6,
   "id": "cf8a5ad1",
   "metadata": {},
   "outputs": [
    {
     "data": {
      "text/plain": [
       "Index(['age', 'job', 'marital', 'education', 'default', 'balance', 'housing',\n",
       "       'loan', 'contact', 'month', 'duration', 'campaign', 'pdays', 'y'],\n",
       "      dtype='object')"
      ]
     },
     "execution_count": 6,
     "metadata": {},
     "output_type": "execute_result"
    }
   ],
   "source": [
    "df1.columns"
   ]
  },
  {
   "cell_type": "code",
   "execution_count": 7,
   "id": "23ebd32a",
   "metadata": {},
   "outputs": [
    {
     "data": {
      "text/plain": [
       "0    4849\n",
       "1     151\n",
       "Name: y, dtype: int64"
      ]
     },
     "execution_count": 7,
     "metadata": {},
     "output_type": "execute_result"
    }
   ],
   "source": [
    "df1[\"y\"].value_counts()\n",
    "#  0 -> non valuable\n",
    "#  1 -> valuable"
   ]
  },
  {
   "cell_type": "code",
   "execution_count": 8,
   "id": "a7dfa4d8",
   "metadata": {},
   "outputs": [
    {
     "data": {
      "text/plain": [
       "<AxesSubplot:xlabel='y', ylabel='count'>"
      ]
     },
     "execution_count": 8,
     "metadata": {},
     "output_type": "execute_result"
    },
    {
     "data": {
      "image/png": "[encoded data removed]",
      "text/plain": [
       "<Figure size 432x288 with 1 Axes>"
      ]
     },
     "metadata": {
      "needs_background": "light"
     },
     "output_type": "display_data"
    }
   ],
   "source": [
    "# visualize the target variable\n",
    "sns.countplot(x= \"y\", data=df1)\n",
    "#g= sns.countplot(x= \"y\", data=df)\n",
    "#g.set_xticklabels(['Not Fraud','Fraud'])"
   ]
  },
  {
   "cell_type": "markdown",
   "id": "c3f118da",
   "metadata": {},
   "source": [
    "You can clearly see that there is a huge difference between the data set. 39922 non- valuable and 492 valuable. This is the \"data imbalance\" problem."
   ]
  },
  {
   "cell_type": "code",
   "execution_count": 9,
   "id": "14af56cb",
   "metadata": {},
   "outputs": [
    {
     "data": {
      "text/plain": [
       "age          0\n",
       "job          0\n",
       "marital      0\n",
       "education    0\n",
       "default      0\n",
       "balance      0\n",
       "housing      0\n",
       "loan         0\n",
       "contact      0\n",
       "month        0\n",
       "duration     0\n",
       "campaign     0\n",
       "pdays        0\n",
       "y            0\n",
       "dtype: int64"
      ]
     },
     "execution_count": 9,
     "metadata": {},
     "output_type": "execute_result"
    }
   ],
   "source": [
    "# Checking the NULL values \n",
    "df1.isnull().sum()"
   ]
  },
  {
   "cell_type": "markdown",
   "id": "effd0cb4",
   "metadata": {},
   "source": [
    "# Building the Support Vector Machine Model"
   ]
  },
  {
   "cell_type": "markdown",
   "id": "088f74a7",
   "metadata": {},
   "source": [
    "Creating Training Data and Test Data\n",
    "\n",
    "Next, it's time to split our titatnic_data into \"training data\" and \"test data\". As before, we will use built-in functionality from \"scikit-learn\" to do this.\n",
    "\n",
    "First, we need to divide our data into x values (the data we will be using to make predictions) and y values (the data we are attempting to predict). The following code handles this:"
   ]
  },
  {
   "cell_type": "code",
   "execution_count": 10,
   "id": "a73d411f",
   "metadata": {},
   "outputs": [],
   "source": [
    "y_data = df1['y']\n",
    "\n",
    "x_data = df1.drop('y', axis = 1)"
   ]
  },
  {
   "cell_type": "markdown",
   "id": "8153fed6",
   "metadata": {},
   "source": [
    "Next, we need to import the \"train_test_split\" function from scikit-learn. The following code executes this import:"
   ]
  },
  {
   "cell_type": "code",
   "execution_count": 11,
   "id": "ce6c84f5",
   "metadata": {},
   "outputs": [],
   "source": [
    "from sklearn.model_selection import train_test_split"
   ]
  },
  {
   "cell_type": "markdown",
   "id": "18022454",
   "metadata": {},
   "source": [
    "Lastly, we can use the train_test_split function combined with list unpacking to generate our training data and test data:"
   ]
  },
  {
   "cell_type": "code",
   "execution_count": 12,
   "id": "c8d4dfd2",
   "metadata": {},
   "outputs": [],
   "source": [
    "x_training_data, x_test_data, y_training_data, y_test_data = train_test_split(x_data, y_data, test_size = 0.3,random_state=0)"
   ]
  },
  {
   "cell_type": "code",
   "execution_count": 13,
   "id": "e5de411e",
   "metadata": {},
   "outputs": [],
   "source": [
    "#Import svm model\n",
    "from sklearn import svm\n",
    "\n",
    "#Create a svm Classifier\n",
    "clf = svm.SVC(kernel='linear') # Linear Kernel\n",
    "\n",
    "#Train the model using the training sets\n",
    "clf.fit(x_training_data, y_training_data)\n",
    "\n",
    "#Predict the response for test dataset\n",
    "predictions = clf.predict(x_test_data)"
   ]
  },
  {
   "cell_type": "markdown",
   "id": "e0404c09",
   "metadata": {},
   "source": [
    "Measuring the Performance of a SVM Machine Learning Model\n",
    "\n",
    "\"scikit-learn\" has an excellent built-in module called \"classification_report\" that makes it easy to measure the performance of a classification machine learning model. We will use this module to measure the performance of the model that we just created.\n",
    "\n",
    "First, let's import the module:"
   ]
  },
  {
   "cell_type": "code",
   "execution_count": 14,
   "id": "ae929ca7",
   "metadata": {},
   "outputs": [],
   "source": [
    "from sklearn.metrics import classification_report"
   ]
  },
  {
   "cell_type": "markdown",
   "id": "151c169d",
   "metadata": {},
   "source": [
    "Next, let's use the module to calculate the performance metrics for our SVM machine learning module:"
   ]
  },
  {
   "cell_type": "code",
   "execution_count": 15,
   "id": "b0d42a24",
   "metadata": {},
   "outputs": [
    {
     "name": "stdout",
     "output_type": "stream",
     "text": [
      "              precision    recall  f1-score   support\n",
      "\n",
      "           0       0.97      0.99      0.98      1455\n",
      "           1       0.35      0.18      0.24        45\n",
      "\n",
      "    accuracy                           0.97      1500\n",
      "   macro avg       0.66      0.58      0.61      1500\n",
      "weighted avg       0.96      0.97      0.96      1500\n",
      "\n"
     ]
    }
   ],
   "source": [
    "print(classification_report(y_test_data, predictions))"
   ]
  },
  {
   "cell_type": "markdown",
   "id": "1bab4481",
   "metadata": {},
   "source": [
    "If you're interested in seeing the raw confusion matrix and calculating the performance metrics manually, you can do this with the following code:"
   ]
  },
  {
   "cell_type": "code",
   "execution_count": 16,
   "id": "8b581565",
   "metadata": {},
   "outputs": [
    {
     "name": "stdout",
     "output_type": "stream",
     "text": [
      "[[1440   15]\n",
      " [  37    8]]\n"
     ]
    }
   ],
   "source": [
    "from sklearn.metrics import confusion_matrix\n",
    "\n",
    "print(confusion_matrix(y_test_data, predictions))"
   ]
  },
  {
   "cell_type": "code",
   "execution_count": null,
   "id": "2f2826b8",
   "metadata": {},
   "outputs": [],
   "source": []
  },
  {
   "cell_type": "markdown",
   "id": "33496e7e",
   "metadata": {},
   "source": [
    "If you see the \"recall\" of \"majority class instances-1\" in the classification report-\n",
    "The main issue over here we have a very poor recall rate for the majority class when the original imbalanced data is used for training the model.Wchic is 0.18 for 1- category"
   ]
  },
  {
   "attachments": {
    "image.png": {
     "image/png": "[encoded data removed]"
    }
   },
   "cell_type": "markdown",
   "id": "a0ced9c7",
   "metadata": {},
   "source": [
    "The cases in which the dataset did not has \"potential or valuable\" customer and our model also predicted as not having it is called the \"True Negatives\". For our matrix, True Negative = 1440\n",
    "\n",
    "\n",
    "The cases in which the dataset has \"potential or valuable\" customer and our model also predicted as having it are called the \"True Positives\". For our matrix, True Positives = 8\n",
    "\n",
    "\n",
    "However, there are are some cases where the dataset has not any \"potential or valuable\" customer, but our model has predicted that they do. This kind of error is the Type I Error and we call the values as \"False Positives\". For our matrix, False Positives = 15\n",
    "\n",
    "\n",
    "Similarly, there are are some cases where the dataset has \"potential or valuable\" customer, but our model has predicted that it doesn’t. This kind of error is the Type II Error and we call the values as \"False Negatives\".  For our matrix, False Negatives = 37\n",
    "\n",
    "\n",
    "\n",
    "What is Recall?\n",
    "The recall is the measure of our model correctly identifying \"True Positives\". Thus, for all the instances who actually are \"potential or valuable\" customer, recall tells us how many we correctly identified as \"potential or valuable\" customer. Mathematically:\n",
    "![image.png](attachment:image.png)"
   ]
  },
  {
   "cell_type": "markdown",
   "id": "738196ae",
   "metadata": {},
   "source": [
    "# Solving Imbalance Problem using SMOTE Techniques "
   ]
  },
  {
   "cell_type": "code",
   "execution_count": 18,
   "id": "9a89da4d",
   "metadata": {},
   "outputs": [
    {
     "name": "stdout",
     "output_type": "stream",
     "text": [
      "Collecting imblearn\n",
      "  Downloading imblearn-0.0-py2.py3-none-any.whl (1.9 kB)\n",
      "Collecting imbalanced-learn\n",
      "  Downloading imbalanced_learn-0.8.1-py3-none-any.whl (189 kB)\n",
      "Requirement already satisfied: numpy>=1.13.3 in c:\\users\\ajay\\anaconda3\\lib\\site-packages (from imbalanced-learn->imblearn) (1.20.1)\n",
      "Requirement already satisfied: scipy>=0.19.1 in c:\\users\\ajay\\anaconda3\\lib\\site-packages (from imbalanced-learn->imblearn) (1.6.2)\n",
      "Requirement already satisfied: scikit-learn>=0.24 in c:\\users\\ajay\\anaconda3\\lib\\site-packages (from imbalanced-learn->imblearn) (0.24.1)\n",
      "Requirement already satisfied: joblib>=0.11 in c:\\users\\ajay\\anaconda3\\lib\\site-packages (from imbalanced-learn->imblearn) (1.0.1)\n",
      "Requirement already satisfied: threadpoolctl>=2.0.0 in c:\\users\\ajay\\anaconda3\\lib\\site-packages (from scikit-learn>=0.24->imbalanced-learn->imblearn) (2.1.0)\n",
      "Installing collected packages: imbalanced-learn, imblearn\n",
      "Successfully installed imbalanced-learn-0.8.1 imblearn-0.0\n",
      "Note: you may need to restart the kernel to use updated packages.\n"
     ]
    }
   ],
   "source": [
    "pip install imblearn"
   ]
  },
  {
   "cell_type": "code",
   "execution_count": 19,
   "id": "1f276129",
   "metadata": {},
   "outputs": [],
   "source": [
    "from imblearn.over_sampling import SMOTE\n",
    "sm = SMOTE(random_state=42)\n",
    "X_res, y_res = sm.fit_resample(x_training_data, y_training_data)"
   ]
  },
  {
   "cell_type": "code",
   "execution_count": 20,
   "id": "b899033d",
   "metadata": {},
   "outputs": [],
   "source": [
    "#Train the model using the training sets\n",
    "clf.fit(X_res, y_res)\n",
    "\n",
    "#Predict the response for test dataset\n",
    "predictions = clf.predict(x_test_data)"
   ]
  },
  {
   "cell_type": "code",
   "execution_count": 21,
   "id": "921c434e",
   "metadata": {},
   "outputs": [
    {
     "name": "stdout",
     "output_type": "stream",
     "text": [
      "              precision    recall  f1-score   support\n",
      "\n",
      "           0       1.00      0.91      0.95      1455\n",
      "           1       0.25      0.93      0.40        45\n",
      "\n",
      "    accuracy                           0.92      1500\n",
      "   macro avg       0.63      0.92      0.68      1500\n",
      "weighted avg       0.98      0.92      0.94      1500\n",
      "\n"
     ]
    }
   ],
   "source": [
    "print(classification_report(y_test_data, predictions))"
   ]
  },
  {
   "cell_type": "markdown",
   "id": "186e7ca9",
   "metadata": {},
   "source": [
    "We can see directly, the recall has improved from .18 to .93. Such is the power and beauty of the three lines code.\n",
    "\n",
    "SMOTE works by selecting pair of minority class observations and then creating a synthetic point that lies on the line connecting these two. It is pretty liberal about selecting the minority points and may end up picking up minority points that are outliers."
   ]
  },
  {
   "cell_type": "code",
   "execution_count": null,
   "id": "8cebe844",
   "metadata": {},
   "outputs": [],
   "source": []
  },
  {
   "cell_type": "code",
   "execution_count": null,
   "id": "055e2ceb",
   "metadata": {},
   "outputs": [],
   "source": []
  },
  {
   "cell_type": "code",
   "execution_count": null,
   "id": "ef4eae1c",
   "metadata": {},
   "outputs": [],
   "source": []
  }
 ],
 "metadata": {
  "kernelspec": {
   "display_name": "Python 3",
   "language": "python",
   "name": "python3"
  },
  "language_info": {
   "codemirror_mode": {
    "name": "ipython",
    "version": 3
   },
   "file_extension": ".py",
   "mimetype": "text/x-python",
   "name": "python",
   "nbconvert_exporter": "python",
   "pygments_lexer": "ipython3",
   "version": "3.8.8"
  }
 },
 "nbformat": 4,
 "nbformat_minor": 5
}
