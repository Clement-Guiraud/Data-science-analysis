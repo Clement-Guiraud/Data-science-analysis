{
 "cells": [
  {
   "cell_type": "code",
   "execution_count": 1,
   "metadata": {},
   "outputs": [],
   "source": [
    "import pandas\n",
    "import pandas as pd\n",
    "import numpy\n",
    "import numpy as np\n",
    "import os\n",
    "np.set_printoptions(linewidth=200)"
   ]
  },
  {
   "cell_type": "code",
   "execution_count": 2,
   "metadata": {},
   "outputs": [
    {
     "data": {
      "text/plain": [
       "'F:\\\\Dropbox\\\\EM Lyon\\\\5A2F14_Advanced_Statistics\\\\Multiple_Correspondance_Analysis\\\\notebooks'"
      ]
     },
     "execution_count": 2,
     "metadata": {},
     "output_type": "execute_result"
    }
   ],
   "source": [
    "os.getcwd()"
   ]
  },
  {
   "cell_type": "code",
   "execution_count": 3,
   "metadata": {},
   "outputs": [
    {
     "data": {
      "text/plain": [
       "'F:\\\\Dropbox\\\\EM Lyon\\\\5A2F14_Advanced_Statistics\\\\Multiple_Correspondance_Analysis\\\\data'"
      ]
     },
     "execution_count": 3,
     "metadata": {},
     "output_type": "execute_result"
    }
   ],
   "source": [
    "# change working directory\n",
    "os.chdir('../data')\n",
    "os.getcwd()"
   ]
  },
  {
   "cell_type": "code",
   "execution_count": 4,
   "metadata": {},
   "outputs": [
    {
     "name": "stdout",
     "output_type": "stream",
     "text": [
      "<class 'pandas.core.frame.DataFrame'>\n",
      "Index: 8 entries, Beauceron to Labrador\n",
      "Data columns (total 5 columns):\n",
      " #   Column     Non-Null Count  Dtype  \n",
      "---  ------     --------------  -----  \n",
      " 0   Taille     8 non-null      object \n",
      " 1   Velocite   8 non-null      object \n",
      " 2   Affection  8 non-null      object \n",
      " 3   Cote       8 non-null      float64\n",
      " 4   Fonction   8 non-null      object \n",
      "dtypes: float64(1), object(4)\n",
      "memory usage: 384.0+ bytes\n",
      "None\n"
     ]
    },
    {
     "data": {
      "text/html": [
       "<div>\n",
       "<style scoped>\n",
       "    .dataframe tbody tr th:only-of-type {\n",
       "        vertical-align: middle;\n",
       "    }\n",
       "\n",
       "    .dataframe tbody tr th {\n",
       "        vertical-align: top;\n",
       "    }\n",
       "\n",
       "    .dataframe thead th {\n",
       "        text-align: right;\n",
       "    }\n",
       "</style>\n",
       "<table border=\"1\" class=\"dataframe\">\n",
       "  <thead>\n",
       "    <tr style=\"text-align: right;\">\n",
       "      <th></th>\n",
       "      <th>Taille</th>\n",
       "      <th>Velocite</th>\n",
       "      <th>Affection</th>\n",
       "    </tr>\n",
       "    <tr>\n",
       "      <th>Chien</th>\n",
       "      <th></th>\n",
       "      <th></th>\n",
       "      <th></th>\n",
       "    </tr>\n",
       "  </thead>\n",
       "  <tbody>\n",
       "    <tr>\n",
       "      <th>Beauceron</th>\n",
       "      <td>Taille++</td>\n",
       "      <td>Veloc++</td>\n",
       "      <td>Affec+</td>\n",
       "    </tr>\n",
       "    <tr>\n",
       "      <th>Basset</th>\n",
       "      <td>Taill-</td>\n",
       "      <td>Velo-</td>\n",
       "      <td>Affe-</td>\n",
       "    </tr>\n",
       "    <tr>\n",
       "      <th>Berger All</th>\n",
       "      <td>Taille++</td>\n",
       "      <td>Veloc++</td>\n",
       "      <td>Affec+</td>\n",
       "    </tr>\n",
       "    <tr>\n",
       "      <th>Boxer</th>\n",
       "      <td>Taille+</td>\n",
       "      <td>Veloc+</td>\n",
       "      <td>Affec+</td>\n",
       "    </tr>\n",
       "    <tr>\n",
       "      <th>Bull-Dog</th>\n",
       "      <td>Taill-</td>\n",
       "      <td>Velo-</td>\n",
       "      <td>Affec+</td>\n",
       "    </tr>\n",
       "    <tr>\n",
       "      <th>Bull-Mastif</th>\n",
       "      <td>Taille++</td>\n",
       "      <td>Velo-</td>\n",
       "      <td>Affe-</td>\n",
       "    </tr>\n",
       "    <tr>\n",
       "      <th>Caniche</th>\n",
       "      <td>Taill-</td>\n",
       "      <td>Veloc+</td>\n",
       "      <td>Affec+</td>\n",
       "    </tr>\n",
       "    <tr>\n",
       "      <th>Labrador</th>\n",
       "      <td>Taille+</td>\n",
       "      <td>Veloc+</td>\n",
       "      <td>Affec+</td>\n",
       "    </tr>\n",
       "  </tbody>\n",
       "</table>\n",
       "</div>"
      ],
      "text/plain": [
       "               Taille Velocite Affection\n",
       "Chien                                   \n",
       "Beauceron    Taille++  Veloc++    Affec+\n",
       "Basset         Taill-    Velo-     Affe-\n",
       "Berger All   Taille++  Veloc++    Affec+\n",
       "Boxer         Taille+   Veloc+    Affec+\n",
       "Bull-Dog       Taill-    Velo-    Affec+\n",
       "Bull-Mastif  Taille++    Velo-     Affe-\n",
       "Caniche        Taill-   Veloc+    Affec+\n",
       "Labrador      Taille+   Veloc+    Affec+"
      ]
     },
     "metadata": {},
     "output_type": "display_data"
    }
   ],
   "source": [
    "# load data - index_col = 0 means columns n°0 is a label\n",
    "D = pandas.read_excel(\"Data_Methodes_Factorielles.xlsx\",sheet_name=\"ACM_CANINES\",index_col=0)\n",
    "\n",
    "# print data\n",
    "print(D.info())\n",
    "\n",
    "# select only active variables\n",
    "DActives = D[['Taille','Velocite','Affection']]\n",
    "display(DActives)\n",
    "\n",
    "# define the number of (active) variables\n",
    "p = DActives.shape[1]\n",
    "\n",
    "# define the number of observations\n",
    "n = DActives.shape[0]"
   ]
  },
  {
   "cell_type": "code",
   "execution_count": 5,
   "metadata": {},
   "outputs": [
    {
     "name": "stdout",
     "output_type": "stream",
     "text": [
      "             Taill-  Taille+  Taille++  Velo-  Veloc+  Veloc++  Affe-  Affec+\n",
      "Chien                                                                        \n",
      "Beauceron         0        0         1      0       0        1      0       1\n",
      "Basset            1        0         0      1       0        0      1       0\n",
      "Berger All        0        0         1      0       0        1      0       1\n",
      "Boxer             0        1         0      0       1        0      0       1\n",
      "Bull-Dog          1        0         0      1       0        0      0       1\n",
      "Bull-Mastif       0        0         1      1       0        0      1       0\n",
      "Caniche           1        0         0      0       1        0      0       1\n",
      "Labrador          0        1         0      0       1        0      0       1\n"
     ]
    }
   ],
   "source": [
    "# dummy coding (one hot encoding)\n",
    "X = pandas.get_dummies(DActives,prefix='',prefix_sep='')\n",
    "print(X)"
   ]
  },
  {
   "cell_type": "code",
   "execution_count": 6,
   "metadata": {},
   "outputs": [
    {
     "name": "stdout",
     "output_type": "stream",
     "text": [
      "[0.125      0.08333333 0.125      0.125      0.125      0.08333333\n",
      " 0.08333333 0.25      ]\n"
     ]
    }
   ],
   "source": [
    "# average individuals profile (centroid)\n",
    "ind_moy = numpy.sum(X.values,axis=0)/(n*p)\n",
    "print(ind_moy)"
   ]
  },
  {
   "cell_type": "code",
   "execution_count": 7,
   "metadata": {},
   "outputs": [
    {
     "name": "stdout",
     "output_type": "stream",
     "text": [
      "5.777777777777777\n",
      "3.5555555555555554\n"
     ]
    }
   ],
   "source": [
    "# Chi² distance between beauceron (n°0) and basset (n°1)\n",
    "print(numpy.sum(1/ind_moy*(X.values[0,:]/p-X.values[1,:]/p)**2))\n",
    "\n",
    "# Chi² square distance between basset(n°1) and caniche(n°6)\n",
    "print(numpy.sum(1/ind_moy*(X.values[1,:]/p-X.values[6,:]/p)**2))"
   ]
  },
  {
   "cell_type": "code",
   "execution_count": 8,
   "metadata": {},
   "outputs": [
    {
     "name": "stdout",
     "output_type": "stream",
     "text": [
      "2.1111111111111107\n",
      "1.2222222222222219\n"
     ]
    }
   ],
   "source": [
    "# distance from origin (centroid) of basset (n°1)\n",
    "print(numpy.sum(1/ind_moy*(X.values[1,:]/p-ind_moy)**2))\n",
    "\n",
    "# distance from origin (centroid) of caniche (n°6)\n",
    "print(numpy.sum(1/ind_moy*(X.values[6,:]/p-ind_moy)**2))"
   ]
  },
  {
   "cell_type": "code",
   "execution_count": 9,
   "metadata": {},
   "outputs": [
    {
     "name": "stdout",
     "output_type": "stream",
     "text": [
      "             weight  distance   inertia\n",
      "Chien                                  \n",
      "Beauceron     0.125  1.666667  0.208333\n",
      "Basset        0.125  2.111111  0.263889\n",
      "Berger All    0.125  1.666667  0.208333\n",
      "Boxer         0.125  1.666667  0.208333\n",
      "Bull-Dog      0.125  1.222222  0.152778\n",
      "Bull-Mastif   0.125  2.111111  0.263889\n",
      "Caniche       0.125  1.222222  0.152778\n",
      "Labrador      0.125  1.666667  0.208333\n"
     ]
    }
   ],
   "source": [
    "# individuals distance from origin\n",
    "disto_ind = numpy.apply_along_axis(arr=X.values,axis=1,func1d=lambda x:numpy.sum(1/ind_moy*(x/p-ind_moy)**2))\n",
    "\n",
    "# weights of the observations\n",
    "poids_ind = numpy.ones(X.shape[0])/n\n",
    "\n",
    "# inertia\n",
    "inertie_ind = poids_ind*disto_ind\n",
    "\n",
    "# print\n",
    "print(pandas.DataFrame(numpy.transpose([poids_ind,disto_ind,inertie_ind]),index=D.index, columns=['weight','distance','inertia']))"
   ]
  },
  {
   "cell_type": "code",
   "execution_count": 10,
   "metadata": {},
   "outputs": [
    {
     "name": "stdout",
     "output_type": "stream",
     "text": [
      "Total inertia (individuals) : 1.6666666666666665\n"
     ]
    }
   ],
   "source": [
    "# total inertia\n",
    "inertie_tot_ind = numpy.sum(inertie_ind)\n",
    "print(f\"Total inertia (individuals) : {inertie_tot_ind}\")"
   ]
  },
  {
   "cell_type": "code",
   "execution_count": 11,
   "metadata": {
    "scrolled": true
   },
   "outputs": [
    {
     "data": {
      "text/plain": [
       "['__class__',\n",
       " '__delattr__',\n",
       " '__dict__',\n",
       " '__dir__',\n",
       " '__doc__',\n",
       " '__eq__',\n",
       " '__format__',\n",
       " '__ge__',\n",
       " '__getattribute__',\n",
       " '__getstate__',\n",
       " '__gt__',\n",
       " '__hash__',\n",
       " '__init__',\n",
       " '__init_subclass__',\n",
       " '__le__',\n",
       " '__lt__',\n",
       " '__module__',\n",
       " '__ne__',\n",
       " '__new__',\n",
       " '__reduce__',\n",
       " '__reduce_ex__',\n",
       " '__repr__',\n",
       " '__setattr__',\n",
       " '__setstate__',\n",
       " '__sizeof__',\n",
       " '__str__',\n",
       " '__subclasshook__',\n",
       " '__weakref__',\n",
       " '_binarization',\n",
       " '_check_feature_names',\n",
       " '_check_n_features',\n",
       " '_compute_stats',\n",
       " '_compute_svd',\n",
       " '_get_param_names',\n",
       " '_get_tags',\n",
       " '_more_tags',\n",
       " '_repr_html_',\n",
       " '_repr_html_inner',\n",
       " '_repr_mimebundle_',\n",
       " '_validate_data',\n",
       " 'c_',\n",
       " 'col_contrib_',\n",
       " 'col_coord_',\n",
       " 'col_cos2_',\n",
       " 'col_labels',\n",
       " 'col_labels_',\n",
       " 'col_labels_short_',\n",
       " 'col_labels_short_temp_',\n",
       " 'col_labels_temp_',\n",
       " 'col_topandas',\n",
       " 'eig_',\n",
       " 'fit',\n",
       " 'fit_transform',\n",
       " 'get_params',\n",
       " 'mapping',\n",
       " 'mapping_col',\n",
       " 'mapping_row',\n",
       " 'model_',\n",
       " 'n_',\n",
       " 'n_categories_',\n",
       " 'n_components',\n",
       " 'n_components_',\n",
       " 'n_vars_',\n",
       " 'plot_col_contrib',\n",
       " 'plot_col_cos2',\n",
       " 'plot_eigenvalues',\n",
       " 'plot_row_contrib',\n",
       " 'plot_row_cos2',\n",
       " 'prefixes_',\n",
       " 'r_',\n",
       " 'row_contrib_',\n",
       " 'row_coord_',\n",
       " 'row_cos2_',\n",
       " 'row_labels',\n",
       " 'row_labels_',\n",
       " 'row_topandas',\n",
       " 'set_params',\n",
       " 'stats',\n",
       " 'transform',\n",
       " 'var_labels']"
      ]
     },
     "execution_count": 11,
     "metadata": {},
     "output_type": "execute_result"
    }
   ],
   "source": [
    "# MCA with fanalysis\n",
    "from fanalysis.mca import MCA\n",
    "\n",
    "# instanciation\n",
    "acm = MCA(row_labels=DActives.index,var_labels=DActives.columns)\n",
    "acm.fit(DActives.values)\n",
    "\n",
    "# examine attributes and methods\n",
    "dir(acm)"
   ]
  },
  {
   "cell_type": "code",
   "execution_count": 12,
   "metadata": {},
   "outputs": [
    {
     "name": "stdout",
     "output_type": "stream",
     "text": [
      "[0.70803126 0.59148936 0.26199182 0.06974652 0.03540771]\n"
     ]
    }
   ],
   "source": [
    "# eigenvalues\n",
    "print(acm.eig_[0])"
   ]
  },
  {
   "cell_type": "code",
   "execution_count": 15,
   "metadata": {},
   "outputs": [
    {
     "data": {
      "image/png": "[encoded data removed]",
      "text/plain": [
       "<Figure size 504x504 with 1 Axes>"
      ]
     },
     "metadata": {
      "needs_background": "light"
     },
     "output_type": "display_data"
    }
   ],
   "source": [
    "# plot in the first factor plane\n",
    "acm.mapping(num_x_axis=1,num_y_axis=2, figsize=(7,7))"
   ]
  },
  {
   "cell_type": "code",
   "execution_count": 18,
   "metadata": {},
   "outputs": [
    {
     "name": "stdout",
     "output_type": "stream",
     "text": [
      "                       F1\n",
      "Chien                    \n",
      "Beauceron    2.378066e-15\n",
      "Basset       1.150779e+00\n",
      "Berger All   2.510181e-15\n",
      "Boxer       -1.150779e+00\n",
      "Bull-Dog     4.284137e-01\n",
      "Bull-Mastif  1.150779e+00\n",
      "Caniche     -4.284137e-01\n",
      "Labrador    -1.150779e+00\n"
     ]
    }
   ],
   "source": [
    "# coordinates on the first factor\n",
    "print(pandas.DataFrame(acm.row_coord_[:,0],index=DActives.index, columns=['F1']))"
   ]
  },
  {
   "cell_type": "code",
   "execution_count": 19,
   "metadata": {},
   "outputs": [
    {
     "name": "stdout",
     "output_type": "stream",
     "text": [
      "inertia of the first factor: 0.7080312581410025\n"
     ]
    }
   ],
   "source": [
    "# inertia of the first factor\n",
    "lambda_1_ind = numpy.mean(acm.row_coord_[:,0]**2)\n",
    "print(f\"inertia of the first factor: {lambda_1_ind}\")"
   ]
  },
  {
   "cell_type": "code",
   "execution_count": 20,
   "metadata": {},
   "outputs": [
    {
     "name": "stdout",
     "output_type": "stream",
     "text": [
      "proportion of variance explained by the first factor : 0.4248187548846016\n"
     ]
    }
   ],
   "source": [
    "# proportion of variance explained by the first factor\n",
    "print(f\"proportion of variance explained by the first factor : {lambda_1_ind/inertie_tot_ind}\")"
   ]
  },
  {
   "cell_type": "code",
   "execution_count": 21,
   "metadata": {},
   "outputs": [
    {
     "name": "stdout",
     "output_type": "stream",
     "text": [
      "[3 2 3 3 3 2 2 6]\n"
     ]
    }
   ],
   "source": [
    "# somme en colonne (n_k)\n",
    "somme_col = numpy.sum(X.values,axis=0)\n",
    "print(somme_col)"
   ]
  },
  {
   "cell_type": "code",
   "execution_count": 22,
   "metadata": {},
   "outputs": [
    {
     "name": "stdout",
     "output_type": "stream",
     "text": [
      "1.3333333333333335\n",
      "3.5555555555555554\n"
     ]
    }
   ],
   "source": [
    "# distance between taille- (2) and velocite- (5)\n",
    "print(numpy.sum(n*((X.values[:,2]/somme_col[2]-X.values[:,5]/somme_col[5])**2)))\n",
    "\n",
    "# distance between taille- (2) and velocite+ (3)\n",
    "print(numpy.sum(n*((X.values[:,2]/somme_col[2]-X.values[:,3]/somme_col[3])**2)))"
   ]
  },
  {
   "cell_type": "code",
   "execution_count": 23,
   "metadata": {},
   "outputs": [
    {
     "name": "stdout",
     "output_type": "stream",
     "text": [
      "1.6666666666666665\n",
      "3.0\n"
     ]
    }
   ],
   "source": [
    "# average profiles (centroid) of the variables modalities (p/np)\n",
    "moda_moy = numpy.ones(X.shape[0])/n\n",
    "\n",
    "# distance to the origin of taille-\n",
    "print(numpy.sum(n*((X.values[:,0]/somme_col[0]-moda_moy)**2)))\n",
    "\n",
    "#distance to the origin of taille+\n",
    "print(numpy.sum(n*((X.values[:,1]/somme_col[1]-moda_moy)**2)))"
   ]
  },
  {
   "cell_type": "code",
   "execution_count": 24,
   "metadata": {},
   "outputs": [
    {
     "name": "stdout",
     "output_type": "stream",
     "text": [
      "            weight  distance   inertia\n",
      "Taill-    0.125000  1.666667  0.208333\n",
      "Taille+   0.083333  3.000000  0.250000\n",
      "Taille++  0.125000  1.666667  0.208333\n",
      "Velo-     0.125000  1.666667  0.208333\n",
      "Veloc+    0.125000  1.666667  0.208333\n",
      "Veloc++   0.083333  3.000000  0.250000\n",
      "Affe-     0.083333  3.000000  0.250000\n",
      "Affec+    0.250000  0.333333  0.083333\n"
     ]
    }
   ],
   "source": [
    "# weight of the modality variables (modality points)\n",
    "poids_moda = somme_col/(n*p)\n",
    "\n",
    "# distance to origin of the modality points\n",
    "disto_moda = numpy.apply_along_axis(arr=X.values/somme_col,axis=0,func1d=lambda x:numpy.sum(n*(x-moda_moy)**2))\n",
    "\n",
    "# inertia\n",
    "inertie_moda = poids_moda * disto_moda\n",
    "\n",
    "# print results\n",
    "print(pandas.DataFrame(numpy.transpose([poids_moda,disto_moda,inertie_moda]),index=X.columns,\n",
    "                       columns=['weight','distance','inertia']))"
   ]
  },
  {
   "cell_type": "code",
   "execution_count": 25,
   "metadata": {},
   "outputs": [
    {
     "name": "stdout",
     "output_type": "stream",
     "text": [
      "total inertia of the modality points : 1.6666666666666665\n"
     ]
    }
   ],
   "source": [
    "# total inertia of the modality points\n",
    "inertie_tot_moda = numpy.sum(inertie_moda)\n",
    "print(f\"total inertia of the modality points : {inertie_tot_moda}\")"
   ]
  },
  {
   "cell_type": "code",
   "execution_count": 26,
   "metadata": {},
   "outputs": [
    {
     "name": "stdout",
     "output_type": "stream",
     "text": [
      "[1.66666667 3.         1.66666667 1.66666667 1.66666667 3.\n",
      " 3.         0.33333333]\n"
     ]
    }
   ],
   "source": [
    "# distance to origin, written differently\n",
    "print(n/somme_col-1)"
   ]
  },
  {
   "cell_type": "code",
   "execution_count": 27,
   "metadata": {},
   "outputs": [
    {
     "name": "stdout",
     "output_type": "stream",
     "text": [
      "                    F1\n",
      "Taill-    4.558738e-01\n",
      "Taille+  -1.367621e+00\n",
      "Taille++  4.558738e-01\n",
      "Velo-     1.081461e+00\n",
      "Veloc+   -1.081461e+00\n",
      "Veloc++   2.265297e-15\n",
      "Affe-     1.367621e+00\n",
      "Affec+   -4.558738e-01\n"
     ]
    }
   ],
   "source": [
    "# coordinates of the modalities on the first factor\n",
    "print(pandas.DataFrame(acm.col_coord_[:,0],index=X.columns, columns=['F1']))"
   ]
  },
  {
   "cell_type": "code",
   "execution_count": 28,
   "metadata": {},
   "outputs": [
    {
     "name": "stdout",
     "output_type": "stream",
     "text": [
      "inertie du premier facteur : 0.7080312581410027\n"
     ]
    }
   ],
   "source": [
    "# inertia of the first factor\n",
    "lambda_1_moda = numpy.sum(poids_moda*acm.col_coord_[:,0]**2)\n",
    "print(f\"inertie du premier facteur : {lambda_1_moda}\")"
   ]
  },
  {
   "cell_type": "code",
   "execution_count": 29,
   "metadata": {},
   "outputs": [
    {
     "name": "stdout",
     "output_type": "stream",
     "text": [
      "6.938893903907228e-18\n",
      "7.413759447673034e-18\n",
      "0.0\n"
     ]
    }
   ],
   "source": [
    "# means of the modalities of Taille\n",
    "print(numpy.mean(poids_moda[:3]*acm.col_coord_[:3,0]))\n",
    "\n",
    "# means of the modalities of Velocite\n",
    "print(numpy.mean(poids_moda[3:6]*acm.col_coord_[3:6,0]))\n",
    "\n",
    "# means of the modalities of Affec\n",
    "print(numpy.mean(poids_moda[6:]*acm.col_coord_[6:,0]))"
   ]
  },
  {
   "cell_type": "code",
   "execution_count": 31,
   "metadata": {},
   "outputs": [
    {
     "name": "stdout",
     "output_type": "stream",
     "text": [
      "0.6234627599261643\n",
      "0.8771682545706795\n",
      "0.623462759926164\n"
     ]
    }
   ],
   "source": [
    "# correlation ratio for Taille\n",
    "rc_Taille = numpy.sum(somme_col[:3]/n*acm.col_coord_[:3,0]**2)\n",
    "print(rc_Taille)\n",
    "\n",
    "# correlation ratio for Velocite\n",
    "rc_Velocite = numpy.sum(somme_col[3:6]/n*acm.col_coord_[3:6,0]**2)\n",
    "print(rc_Velocite)\n",
    "\n",
    "# correlation ratio for Affec\n",
    "rc_Affection = numpy.sum(somme_col[6:]/n*acm.col_coord_[6:,0]**2)\n",
    "print(rc_Affection)"
   ]
  },
  {
   "cell_type": "code",
   "execution_count": 32,
   "metadata": {},
   "outputs": [
    {
     "name": "stdout",
     "output_type": "stream",
     "text": [
      "0.7080312581410025\n"
     ]
    }
   ],
   "source": [
    "# average of the correlation ratios on the first axis (should be equal to the inertia)\n",
    "print(1/p*numpy.sum(numpy.array([rc_Taille,rc_Velocite,rc_Affection])))"
   ]
  },
  {
   "cell_type": "markdown",
   "metadata": {},
   "source": [
    "## Different ways of approaching MCA"
   ]
  },
  {
   "cell_type": "markdown",
   "metadata": {},
   "source": [
    "### MCA as a special case of FCA"
   ]
  },
  {
   "cell_type": "code",
   "execution_count": 33,
   "metadata": {},
   "outputs": [
    {
     "name": "stdout",
     "output_type": "stream",
     "text": [
      "          Val.P             %   Cumsum(%)\n",
      "1  7.080313e-01  4.248188e+01   42.481875\n",
      "2  5.914894e-01  3.548936e+01   77.971237\n",
      "3  2.619918e-01  1.571951e+01   93.690746\n",
      "4  6.974652e-02  4.184791e+00   97.875538\n",
      "5  3.540771e-02  2.124462e+00  100.000000\n",
      "6  8.562190e-33  5.137314e-31  100.000000\n",
      "7  1.092968e-33  6.557809e-32  100.000000\n"
     ]
    }
   ],
   "source": [
    "#** MCA through FCA on the dummy coded (onehot encoded) variables **\n",
    "from fanalysis.ca import CA\n",
    "afc_1 = CA(row_labels=X.index,col_labels=X.columns)\n",
    "afc_1.fit(X.values)\n",
    "\n",
    "# eigenvalues\n",
    "print(pandas.DataFrame(numpy.transpose(afc_1.eig_),index=range(1,8),columns=['Val.P','%','Cumsum(%)']))"
   ]
  },
  {
   "cell_type": "code",
   "execution_count": 34,
   "metadata": {},
   "outputs": [
    {
     "name": "stdout",
     "output_type": "stream",
     "text": [
      "                   Fact.1    Fact.2\n",
      "Chien                              \n",
      "Beauceron    2.378066e-15 -1.279924\n",
      "Basset       1.150779e+00  0.799057\n",
      "Berger All   2.510181e-15 -1.279924\n",
      "Boxer       -1.150779e+00  0.385124\n",
      "Bull-Dog     4.284137e-01  0.509675\n",
      "Bull-Mastif  1.150779e+00 -0.028809\n",
      "Caniche     -4.284137e-01  0.509675\n",
      "Labrador    -1.150779e+00  0.385124\n"
     ]
    }
   ],
   "source": [
    "# factor coordinates of the individuals (first factorial plane)\n",
    "print(pandas.DataFrame(afc_1.row_coord_[:,:2],index=X.index,columns=['Fact.1','Fact.2']))"
   ]
  },
  {
   "cell_type": "code",
   "execution_count": 35,
   "metadata": {},
   "outputs": [
    {
     "name": "stdout",
     "output_type": "stream",
     "text": [
      "                Fact.1    Fact.2\n",
      "Taill-    4.558738e-01  0.788128\n",
      "Taille+  -1.367621e+00  0.500758\n",
      "Taille++  4.558738e-01 -1.121966\n",
      "Velo-     1.081461e+00  0.554740\n",
      "Veloc+   -1.081461e+00  0.554740\n",
      "Veloc++   2.265297e-15 -1.664220\n",
      "Affe-     1.367621e+00  0.500758\n",
      "Affec+   -4.558738e-01 -0.166919\n"
     ]
    }
   ],
   "source": [
    "# factor coordinates of the modalities (first factorial plane)\n",
    "print(pandas.DataFrame(afc_1.col_coord_[:,:2],index=X.columns,columns=['Fact.1','Fact.2']))"
   ]
  },
  {
   "cell_type": "markdown",
   "metadata": {},
   "source": [
    "### MCA through Burt's Table"
   ]
  },
  {
   "cell_type": "code",
   "execution_count": 36,
   "metadata": {},
   "outputs": [
    {
     "name": "stdout",
     "output_type": "stream",
     "text": [
      "[[3 0 0 2 1 0 1 2]\n",
      " [0 2 0 0 2 0 0 2]\n",
      " [0 0 3 1 0 2 1 2]\n",
      " [2 0 1 3 0 0 2 1]\n",
      " [1 2 0 0 3 0 0 3]\n",
      " [0 0 2 0 0 2 0 2]\n",
      " [1 0 1 2 0 0 2 0]\n",
      " [2 2 2 1 3 2 0 6]]\n"
     ]
    }
   ],
   "source": [
    "# Burt's table\n",
    "burt = numpy.dot(numpy.transpose(X.values),X.values)\n",
    "print(burt)"
   ]
  },
  {
   "cell_type": "code",
   "execution_count": 37,
   "metadata": {},
   "outputs": [
    {
     "name": "stdout",
     "output_type": "stream",
     "text": [
      "[7.08031258e-01 5.91489364e-01 2.61991819e-01 6.97465196e-02\n",
      " 3.54077063e-02 4.54895485e-17 2.79359078e-17]\n"
     ]
    }
   ],
   "source": [
    "# FCA on Burt's table\n",
    "afc_2 = CA(row_labels=X.columns,col_labels=X.columns)\n",
    "afc_2.fit(burt)\n",
    "\n",
    "# corrected eigenvalues\n",
    "print(numpy.sqrt(afc_2.eig_[0]))"
   ]
  },
  {
   "cell_type": "code",
   "execution_count": 38,
   "metadata": {},
   "outputs": [
    {
     "name": "stdout",
     "output_type": "stream",
     "text": [
      "                Fact.1    Fact.2\n",
      "Taill-   -4.558738e-01  0.788128\n",
      "Taille+   1.367621e+00  0.500758\n",
      "Taille++ -4.558738e-01 -1.121966\n",
      "Velo-    -1.081461e+00  0.554740\n",
      "Veloc+    1.081461e+00  0.554740\n",
      "Veloc++   3.074331e-15 -1.664220\n",
      "Affe-    -1.367621e+00  0.500758\n",
      "Affec+    4.558738e-01 -0.166919\n"
     ]
    }
   ],
   "source": [
    "# factor coordinates of the modality points\n",
    "temp = afc_2.col_coord_[:,:2]/numpy.sqrt(numpy.sqrt(afc_2.eig_[0][:2])) \n",
    "print(pandas.DataFrame(temp,index=X.columns,columns=['Fact.1','Fact.2']))"
   ]
  },
  {
   "cell_type": "markdown",
   "metadata": {},
   "source": [
    "### MCA via PCA on the table of profiles"
   ]
  },
  {
   "cell_type": "code",
   "execution_count": 40,
   "metadata": {},
   "outputs": [
    {
     "data": {
      "text/html": [
       "<div>\n",
       "<style scoped>\n",
       "    .dataframe tbody tr th:only-of-type {\n",
       "        vertical-align: middle;\n",
       "    }\n",
       "\n",
       "    .dataframe tbody tr th {\n",
       "        vertical-align: top;\n",
       "    }\n",
       "\n",
       "    .dataframe thead th {\n",
       "        text-align: right;\n",
       "    }\n",
       "</style>\n",
       "<table border=\"1\" class=\"dataframe\">\n",
       "  <thead>\n",
       "    <tr style=\"text-align: right;\">\n",
       "      <th></th>\n",
       "      <th>Taill-</th>\n",
       "      <th>Taille+</th>\n",
       "      <th>Taille++</th>\n",
       "      <th>Velo-</th>\n",
       "      <th>Veloc+</th>\n",
       "      <th>Veloc++</th>\n",
       "      <th>Affe-</th>\n",
       "      <th>Affec+</th>\n",
       "    </tr>\n",
       "    <tr>\n",
       "      <th>Chien</th>\n",
       "      <th></th>\n",
       "      <th></th>\n",
       "      <th></th>\n",
       "      <th></th>\n",
       "      <th></th>\n",
       "      <th></th>\n",
       "      <th></th>\n",
       "      <th></th>\n",
       "    </tr>\n",
       "  </thead>\n",
       "  <tbody>\n",
       "    <tr>\n",
       "      <th>Beauceron</th>\n",
       "      <td>0.000000</td>\n",
       "      <td>0.000000</td>\n",
       "      <td>0.333333</td>\n",
       "      <td>0.000000</td>\n",
       "      <td>0.000000</td>\n",
       "      <td>0.333333</td>\n",
       "      <td>0.000000</td>\n",
       "      <td>0.333333</td>\n",
       "    </tr>\n",
       "    <tr>\n",
       "      <th>Basset</th>\n",
       "      <td>0.333333</td>\n",
       "      <td>0.000000</td>\n",
       "      <td>0.000000</td>\n",
       "      <td>0.333333</td>\n",
       "      <td>0.000000</td>\n",
       "      <td>0.000000</td>\n",
       "      <td>0.333333</td>\n",
       "      <td>0.000000</td>\n",
       "    </tr>\n",
       "    <tr>\n",
       "      <th>Berger All</th>\n",
       "      <td>0.000000</td>\n",
       "      <td>0.000000</td>\n",
       "      <td>0.333333</td>\n",
       "      <td>0.000000</td>\n",
       "      <td>0.000000</td>\n",
       "      <td>0.333333</td>\n",
       "      <td>0.000000</td>\n",
       "      <td>0.333333</td>\n",
       "    </tr>\n",
       "    <tr>\n",
       "      <th>Boxer</th>\n",
       "      <td>0.000000</td>\n",
       "      <td>0.333333</td>\n",
       "      <td>0.000000</td>\n",
       "      <td>0.000000</td>\n",
       "      <td>0.333333</td>\n",
       "      <td>0.000000</td>\n",
       "      <td>0.000000</td>\n",
       "      <td>0.333333</td>\n",
       "    </tr>\n",
       "    <tr>\n",
       "      <th>Bull-Dog</th>\n",
       "      <td>0.333333</td>\n",
       "      <td>0.000000</td>\n",
       "      <td>0.000000</td>\n",
       "      <td>0.333333</td>\n",
       "      <td>0.000000</td>\n",
       "      <td>0.000000</td>\n",
       "      <td>0.000000</td>\n",
       "      <td>0.333333</td>\n",
       "    </tr>\n",
       "    <tr>\n",
       "      <th>Bull-Mastif</th>\n",
       "      <td>0.000000</td>\n",
       "      <td>0.000000</td>\n",
       "      <td>0.333333</td>\n",
       "      <td>0.333333</td>\n",
       "      <td>0.000000</td>\n",
       "      <td>0.000000</td>\n",
       "      <td>0.333333</td>\n",
       "      <td>0.000000</td>\n",
       "    </tr>\n",
       "    <tr>\n",
       "      <th>Caniche</th>\n",
       "      <td>0.333333</td>\n",
       "      <td>0.000000</td>\n",
       "      <td>0.000000</td>\n",
       "      <td>0.000000</td>\n",
       "      <td>0.333333</td>\n",
       "      <td>0.000000</td>\n",
       "      <td>0.000000</td>\n",
       "      <td>0.333333</td>\n",
       "    </tr>\n",
       "    <tr>\n",
       "      <th>Labrador</th>\n",
       "      <td>0.000000</td>\n",
       "      <td>0.333333</td>\n",
       "      <td>0.000000</td>\n",
       "      <td>0.000000</td>\n",
       "      <td>0.333333</td>\n",
       "      <td>0.000000</td>\n",
       "      <td>0.000000</td>\n",
       "      <td>0.333333</td>\n",
       "    </tr>\n",
       "  </tbody>\n",
       "</table>\n",
       "</div>"
      ],
      "text/plain": [
       "               Taill-   Taille+  Taille++     Velo-    Veloc+   Veloc++  \\\n",
       "Chien                                                                     \n",
       "Beauceron    0.000000  0.000000  0.333333  0.000000  0.000000  0.333333   \n",
       "Basset       0.333333  0.000000  0.000000  0.333333  0.000000  0.000000   \n",
       "Berger All   0.000000  0.000000  0.333333  0.000000  0.000000  0.333333   \n",
       "Boxer        0.000000  0.333333  0.000000  0.000000  0.333333  0.000000   \n",
       "Bull-Dog     0.333333  0.000000  0.000000  0.333333  0.000000  0.000000   \n",
       "Bull-Mastif  0.000000  0.000000  0.333333  0.333333  0.000000  0.000000   \n",
       "Caniche      0.333333  0.000000  0.000000  0.000000  0.333333  0.000000   \n",
       "Labrador     0.000000  0.333333  0.000000  0.000000  0.333333  0.000000   \n",
       "\n",
       "                Affe-    Affec+  \n",
       "Chien                            \n",
       "Beauceron    0.000000  0.333333  \n",
       "Basset       0.333333  0.000000  \n",
       "Berger All   0.000000  0.333333  \n",
       "Boxer        0.000000  0.333333  \n",
       "Bull-Dog     0.000000  0.333333  \n",
       "Bull-Mastif  0.333333  0.000000  \n",
       "Caniche      0.000000  0.333333  \n",
       "Labrador     0.000000  0.333333  "
      ]
     },
     "execution_count": 40,
     "metadata": {},
     "output_type": "execute_result"
    }
   ],
   "source": [
    "# table of the row profiles\n",
    "profil = numpy.apply_along_axis(arr=X.values,axis=1,func1d=lambda x:x/numpy.sum(x))\n",
    "pandas.DataFrame(profil,index=X.index,columns=X.columns)"
   ]
  },
  {
   "cell_type": "code",
   "execution_count": 44,
   "metadata": {},
   "outputs": [
    {
     "name": "stdout",
     "output_type": "stream",
     "text": [
      "[[0.         0.         2.06559112 0.         0.         2.30940108 0.         2.30940108]\n",
      " [2.06559112 0.         0.         2.06559112 0.         0.         2.30940108 0.        ]\n",
      " [0.         0.         2.06559112 0.         0.         2.30940108 0.         2.30940108]\n",
      " [0.         2.30940108 0.         0.         2.06559112 0.         0.         2.30940108]\n",
      " [2.06559112 0.         0.         2.06559112 0.         0.         0.         2.30940108]\n",
      " [0.         0.         2.06559112 2.06559112 0.         0.         2.30940108 0.        ]\n",
      " [2.06559112 0.         0.         0.         2.06559112 0.         0.         2.30940108]\n",
      " [0.         2.30940108 0.         0.         2.06559112 0.         0.         2.30940108]]\n"
     ]
    }
   ],
   "source": [
    "# normalize the profiles\n",
    "profil = profil/numpy.std(profil,axis=0,ddof=0)\n",
    "print(profil)"
   ]
  },
  {
   "cell_type": "code",
   "execution_count": 45,
   "metadata": {},
   "outputs": [
    {
     "name": "stdout",
     "output_type": "stream",
     "text": [
      "[0.20833333 0.25       0.20833333 0.20833333 0.20833333 0.25       0.25       0.08333333]\n"
     ]
    }
   ],
   "source": [
    "# weights of the modalities\n",
    "pond_moda = (n-somme_col)/(n*p)\n",
    "print(pond_moda)"
   ]
  },
  {
   "cell_type": "code",
   "execution_count": 46,
   "metadata": {},
   "outputs": [
    {
     "name": "stdout",
     "output_type": "stream",
     "text": [
      "[[0.         0.         0.94280904 0.         0.         1.15470054 0.         0.66666667]\n",
      " [0.94280904 0.         0.         0.94280904 0.         0.         1.15470054 0.        ]\n",
      " [0.         0.         0.94280904 0.         0.         1.15470054 0.         0.66666667]\n",
      " [0.         1.15470054 0.         0.         0.94280904 0.         0.         0.66666667]\n",
      " [0.94280904 0.         0.         0.94280904 0.         0.         0.         0.66666667]\n",
      " [0.         0.         0.94280904 0.94280904 0.         0.         1.15470054 0.        ]\n",
      " [0.94280904 0.         0.         0.         0.94280904 0.         0.         0.66666667]\n",
      " [0.         1.15470054 0.         0.         0.94280904 0.         0.         0.66666667]]\n"
     ]
    }
   ],
   "source": [
    "# weighing the profiles\n",
    "profil = profil*numpy.sqrt(pond_moda)\n",
    "print(profil)"
   ]
  },
  {
   "cell_type": "code",
   "execution_count": 47,
   "metadata": {},
   "outputs": [
    {
     "name": "stdout",
     "output_type": "stream",
     "text": [
      "[7.08031258e-01 5.91489364e-01 2.61991819e-01 6.97465196e-02 3.54077063e-02 5.91388964e-33 2.83481373e-33 2.00427590e-34]\n"
     ]
    }
   ],
   "source": [
    "# launch a PCA\n",
    "from fanalysis.pca import PCA\n",
    "acp = PCA(std_unit=False,row_labels=X.index,col_labels=X.columns)\n",
    "acp.fit(profil)\n",
    "\n",
    "# eigenvalues\n",
    "print(acp.eig_[0])"
   ]
  },
  {
   "cell_type": "code",
   "execution_count": 49,
   "metadata": {},
   "outputs": [
    {
     "name": "stdout",
     "output_type": "stream",
     "text": [
      "                   Fact.1    Fact.2\n",
      "Chien                              \n",
      "Beauceron    1.056918e-15 -1.279924\n",
      "Basset       1.150779e+00  0.799057\n",
      "Berger All   1.717492e-15 -1.279924\n",
      "Boxer       -1.150779e+00  0.385124\n",
      "Bull-Dog     4.284137e-01  0.509675\n",
      "Bull-Mastif  1.150779e+00 -0.028809\n",
      "Caniche     -4.284137e-01  0.509675\n",
      "Labrador    -1.150779e+00  0.385124\n"
     ]
    }
   ],
   "source": [
    "# factor coordinates of the individuals (first factor plane)\n",
    "print(pandas.DataFrame(acp.row_coord_[:,:2],index=X.index,columns=['Fact.1','Fact.2']))"
   ]
  },
  {
   "cell_type": "code",
   "execution_count": null,
   "metadata": {},
   "outputs": [],
   "source": []
  }
 ],
 "metadata": {
  "kernelspec": {
   "display_name": "Python 3 (ipykernel)",
   "language": "python",
   "name": "python3"
  },
  "language_info": {
   "codemirror_mode": {
    "name": "ipython",
    "version": 3
   },
   "file_extension": ".py",
   "mimetype": "text/x-python",
   "name": "python",
   "nbconvert_exporter": "python",
   "pygments_lexer": "ipython3",
   "version": "3.9.13"
  }
 },
 "nbformat": 4,
 "nbformat_minor": 4
}
