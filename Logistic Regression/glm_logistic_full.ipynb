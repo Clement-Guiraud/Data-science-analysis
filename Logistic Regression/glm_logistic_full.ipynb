{
 "cells": [
  {
   "cell_type": "code",
   "execution_count": 36,
   "id": "bbc3cba8",
   "metadata": {},
   "outputs": [],
   "source": [
    "# import all modules required for the analyses\n",
    "import os\n",
    "import pandas as pd\n",
    "import numpy as np\n",
    "import statsmodels.api as sm\n",
    "from statsmodels.api import GLM\n",
    "from statsmodels.formula.api import ols\n",
    "from statsmodels.formula.api import glm\n",
    "from statsmodels.stats.api import anova_lm\n",
    "import statsmodels.formula.api as smf\n",
    "\n",
    "from sklearn.metrics import roc_curve, auc\n",
    "from sklearn.metrics import confusion_matrix\n",
    "from sklearn.metrics import classification_report\n",
    "\n",
    "import matplotlib.pyplot as plt\n",
    "import seaborn as sns\n",
    "%matplotlib inline"
   ]
  },
  {
   "cell_type": "code",
   "execution_count": 3,
   "id": "46a9dd14",
   "metadata": {},
   "outputs": [],
   "source": [
    "try :\n",
    "    dir_path = r\"F:\\Dropbox\\EM Lyon\\5A2F14_Advanced_Statistics\\Generalized Linear Models\\data\"\n",
    "    os.chdir(dir_path)\n",
    "except :\n",
    "    dir_path = r\"D:\\Dropbox\\EM Lyon\\5A2F14_Advanced_Statistics\\Generalized Linear Models\\data\"\n",
    "    os.chdir(dir_path)    "
   ]
  },
  {
   "cell_type": "code",
   "execution_count": 4,
   "id": "645665a3",
   "metadata": {},
   "outputs": [
    {
     "data": {
      "text/plain": [
       "'D:\\\\Dropbox\\\\EM Lyon\\\\5A2F14_Advanced_Statistics\\\\Generalized Linear Models\\\\data'"
      ]
     },
     "execution_count": 4,
     "metadata": {},
     "output_type": "execute_result"
    }
   ],
   "source": [
    "# change working directory\n",
    "os.chdir(dir_path)\n",
    "os.getcwd()"
   ]
  },
  {
   "cell_type": "code",
   "execution_count": 5,
   "id": "68a4a24c",
   "metadata": {},
   "outputs": [
    {
     "name": "stdout",
     "output_type": "stream",
     "text": [
      "<class 'pandas.core.frame.DataFrame'>\n",
      "RangeIndex: 20 entries, 0 to 19\n",
      "Data columns (total 4 columns):\n",
      " #   Column    Non-Null Count  Dtype \n",
      "---  ------    --------------  ----- \n",
      " 0   age       20 non-null     int64 \n",
      " 1   max_rate  20 non-null     int64 \n",
      " 2   angina    20 non-null     object\n",
      " 3   heart     20 non-null     object\n",
      "dtypes: int64(2), object(2)\n",
      "memory usage: 768.0+ bytes\n"
     ]
    },
    {
     "data": {
      "text/html": [
       "<div>\n",
       "<style scoped>\n",
       "    .dataframe tbody tr th:only-of-type {\n",
       "        vertical-align: middle;\n",
       "    }\n",
       "\n",
       "    .dataframe tbody tr th {\n",
       "        vertical-align: top;\n",
       "    }\n",
       "\n",
       "    .dataframe thead th {\n",
       "        text-align: right;\n",
       "    }\n",
       "</style>\n",
       "<table border=\"1\" class=\"dataframe\">\n",
       "  <thead>\n",
       "    <tr style=\"text-align: right;\">\n",
       "      <th></th>\n",
       "      <th>age</th>\n",
       "      <th>max_rate</th>\n",
       "      <th>angina</th>\n",
       "      <th>heart</th>\n",
       "    </tr>\n",
       "  </thead>\n",
       "  <tbody>\n",
       "    <tr>\n",
       "      <th>0</th>\n",
       "      <td>50</td>\n",
       "      <td>126</td>\n",
       "      <td>Yes</td>\n",
       "      <td>presence</td>\n",
       "    </tr>\n",
       "    <tr>\n",
       "      <th>1</th>\n",
       "      <td>49</td>\n",
       "      <td>126</td>\n",
       "      <td>No</td>\n",
       "      <td>presence</td>\n",
       "    </tr>\n",
       "    <tr>\n",
       "      <th>2</th>\n",
       "      <td>46</td>\n",
       "      <td>144</td>\n",
       "      <td>No</td>\n",
       "      <td>presence</td>\n",
       "    </tr>\n",
       "    <tr>\n",
       "      <th>3</th>\n",
       "      <td>49</td>\n",
       "      <td>139</td>\n",
       "      <td>No</td>\n",
       "      <td>presence</td>\n",
       "    </tr>\n",
       "    <tr>\n",
       "      <th>4</th>\n",
       "      <td>62</td>\n",
       "      <td>154</td>\n",
       "      <td>Yes</td>\n",
       "      <td>presence</td>\n",
       "    </tr>\n",
       "  </tbody>\n",
       "</table>\n",
       "</div>"
      ],
      "text/plain": [
       "   age  max_rate angina     heart\n",
       "0   50       126    Yes  presence\n",
       "1   49       126     No  presence\n",
       "2   46       144     No  presence\n",
       "3   49       139     No  presence\n",
       "4   62       154    Yes  presence"
      ]
     },
     "execution_count": 5,
     "metadata": {},
     "output_type": "execute_result"
    }
   ],
   "source": [
    "# read the heart data\n",
    "df = pd.read_excel(\"heart_data.xlsx\")\n",
    "df.info()\n",
    "df.head()"
   ]
  },
  {
   "cell_type": "code",
   "execution_count": 6,
   "id": "665c3382",
   "metadata": {},
   "outputs": [],
   "source": [
    "df[\"angina\"] = df[\"angina\"].replace({\"Yes\":1, \"No\":0}).astype('category')\n",
    "df[\"heart\"] = df[\"heart\"].replace({\"presence\":1, \"absence\":0}).astype('category')"
   ]
  },
  {
   "cell_type": "code",
   "execution_count": 7,
   "id": "92f84d24",
   "metadata": {},
   "outputs": [
    {
     "data": {
      "text/plain": [
       "0    15\n",
       "1     5\n",
       "Name: angina, dtype: int64"
      ]
     },
     "execution_count": 7,
     "metadata": {},
     "output_type": "execute_result"
    }
   ],
   "source": [
    "df[\"angina\"].value_counts()"
   ]
  },
  {
   "cell_type": "code",
   "execution_count": 8,
   "id": "5d2542dc",
   "metadata": {},
   "outputs": [
    {
     "data": {
      "text/plain": [
       "0    14\n",
       "1     6\n",
       "Name: heart, dtype: int64"
      ]
     },
     "execution_count": 8,
     "metadata": {},
     "output_type": "execute_result"
    }
   ],
   "source": [
    "df[\"heart\"].value_counts()"
   ]
  },
  {
   "cell_type": "markdown",
   "id": "5932ca19",
   "metadata": {},
   "source": [
    "## Model 1 : `angina` the only predictor of heart condition"
   ]
  },
  {
   "cell_type": "code",
   "execution_count": 18,
   "id": "00043e7f",
   "metadata": {},
   "outputs": [],
   "source": [
    "y = df[\"heart\"]\n",
    "X = sm.add_constant(df[\"angina\"])"
   ]
  },
  {
   "cell_type": "code",
   "execution_count": 19,
   "id": "f96d571d",
   "metadata": {},
   "outputs": [],
   "source": [
    "# simple model with one categorical (binary predictor)\n",
    "logit_1 = GLM(y, X, family=sm.families.Binomial())\n",
    "res_1 = logit_1.fit()"
   ]
  },
  {
   "cell_type": "code",
   "execution_count": 20,
   "id": "3a44e1a9",
   "metadata": {},
   "outputs": [
    {
     "data": {
      "text/html": [
       "<table class=\"simpletable\">\n",
       "<caption>Generalized Linear Model Regression Results</caption>\n",
       "<tr>\n",
       "  <th>Dep. Variable:</th>         <td>heart</td>      <th>  No. Observations:  </th>  <td>    20</td> \n",
       "</tr>\n",
       "<tr>\n",
       "  <th>Model:</th>                  <td>GLM</td>       <th>  Df Residuals:      </th>  <td>    18</td> \n",
       "</tr>\n",
       "<tr>\n",
       "  <th>Model Family:</th>        <td>Binomial</td>     <th>  Df Model:          </th>  <td>     1</td> \n",
       "</tr>\n",
       "<tr>\n",
       "  <th>Link Function:</th>         <td>Logit</td>      <th>  Scale:             </th> <td>  1.0000</td>\n",
       "</tr>\n",
       "<tr>\n",
       "  <th>Method:</th>                <td>IRLS</td>       <th>  Log-Likelihood:    </th> <td> -10.871</td>\n",
       "</tr>\n",
       "<tr>\n",
       "  <th>Date:</th>            <td>Wed, 22 Feb 2023</td> <th>  Deviance:          </th> <td>  21.742</td>\n",
       "</tr>\n",
       "<tr>\n",
       "  <th>Time:</th>                <td>17:37:25</td>     <th>  Pearson chi2:      </th>  <td>  20.0</td> \n",
       "</tr>\n",
       "<tr>\n",
       "  <th>No. Iterations:</th>          <td>4</td>        <th>  Pseudo R-squ. (CS):</th>  <td>0.1260</td> \n",
       "</tr>\n",
       "<tr>\n",
       "  <th>Covariance Type:</th>     <td>nonrobust</td>    <th>                     </th>     <td> </td>   \n",
       "</tr>\n",
       "</table>\n",
       "<table class=\"simpletable\">\n",
       "<tr>\n",
       "     <td></td>       <th>coef</th>     <th>std err</th>      <th>z</th>      <th>P>|z|</th>  <th>[0.025</th>    <th>0.975]</th>  \n",
       "</tr>\n",
       "<tr>\n",
       "  <th>const</th>  <td>   -1.3863</td> <td>    0.645</td> <td>   -2.148</td> <td> 0.032</td> <td>   -2.651</td> <td>   -0.121</td>\n",
       "</tr>\n",
       "<tr>\n",
       "  <th>angina</th> <td>    1.7918</td> <td>    1.118</td> <td>    1.603</td> <td> 0.109</td> <td>   -0.400</td> <td>    3.983</td>\n",
       "</tr>\n",
       "</table>"
      ],
      "text/plain": [
       "<class 'statsmodels.iolib.summary.Summary'>\n",
       "\"\"\"\n",
       "                 Generalized Linear Model Regression Results                  \n",
       "==============================================================================\n",
       "Dep. Variable:                  heart   No. Observations:                   20\n",
       "Model:                            GLM   Df Residuals:                       18\n",
       "Model Family:                Binomial   Df Model:                            1\n",
       "Link Function:                  Logit   Scale:                          1.0000\n",
       "Method:                          IRLS   Log-Likelihood:                -10.871\n",
       "Date:                Wed, 22 Feb 2023   Deviance:                       21.742\n",
       "Time:                        17:37:25   Pearson chi2:                     20.0\n",
       "No. Iterations:                     4   Pseudo R-squ. (CS):             0.1260\n",
       "Covariance Type:            nonrobust                                         \n",
       "==============================================================================\n",
       "                 coef    std err          z      P>|z|      [0.025      0.975]\n",
       "------------------------------------------------------------------------------\n",
       "const         -1.3863      0.645     -2.148      0.032      -2.651      -0.121\n",
       "angina         1.7918      1.118      1.603      0.109      -0.400       3.983\n",
       "==============================================================================\n",
       "\"\"\""
      ]
     },
     "execution_count": 20,
     "metadata": {},
     "output_type": "execute_result"
    }
   ],
   "source": [
    "# print a first summary type\n",
    "res_1.summary()"
   ]
  },
  {
   "cell_type": "code",
   "execution_count": 23,
   "id": "c2bfe7ca",
   "metadata": {},
   "outputs": [
    {
     "data": {
      "text/html": [
       "<table class=\"simpletable\">\n",
       "<tr>\n",
       "        <td>Model:</td>               <td>GLM</td>            <td>AIC:</td>        <td>25.7422</td>\n",
       "</tr>\n",
       "<tr>\n",
       "    <td>Link Function:</td>          <td>Logit</td>           <td>BIC:</td>       <td>-32.1810</td>\n",
       "</tr>\n",
       "<tr>\n",
       "  <td>Dependent Variable:</td>       <td>heart</td>      <td>Log-Likelihood:</td>  <td>-10.871</td>\n",
       "</tr>\n",
       "<tr>\n",
       "         <td>Date:</td>        <td>2023-02-22 17:38</td>    <td>LL-Null:</td>      <td>-12.217</td>\n",
       "</tr>\n",
       "<tr>\n",
       "   <td>No. Observations:</td>         <td>20</td>           <td>Deviance:</td>     <td>21.742</td> \n",
       "</tr>\n",
       "<tr>\n",
       "       <td>Df Model:</td>              <td>1</td>         <td>Pearson chi2:</td>    <td>20.0</td>  \n",
       "</tr>\n",
       "<tr>\n",
       "     <td>Df Residuals:</td>           <td>18</td>            <td>Scale:</td>       <td>1.0000</td> \n",
       "</tr>\n",
       "<tr>\n",
       "        <td>Method:</td>             <td>IRLS</td>              <td></td>             <td></td>    \n",
       "</tr>\n",
       "</table>\n",
       "<table class=\"simpletable\">\n",
       "<tr>\n",
       "     <td></td>     <th>Coef.</th>  <th>Std.Err.</th>    <th>z</th>     <th>P>|z|</th> <th>[0.025</th>  <th>0.975]</th> \n",
       "</tr>\n",
       "<tr>\n",
       "  <th>const</th>  <td>-1.3863</td>  <td>0.6455</td>  <td>-2.1476</td> <td>0.0317</td> <td>-2.6514</td> <td>-0.1211</td>\n",
       "</tr>\n",
       "<tr>\n",
       "  <th>angina</th> <td>1.7918</td>   <td>1.1180</td>  <td>1.6026</td>  <td>0.1090</td> <td>-0.3995</td> <td>3.9831</td> \n",
       "</tr>\n",
       "</table>"
      ],
      "text/plain": [
       "<class 'statsmodels.iolib.summary2.Summary'>\n",
       "\"\"\"\n",
       "              Results: Generalized linear model\n",
       "=============================================================\n",
       "Model:              GLM              AIC:            25.7422 \n",
       "Link Function:      Logit            BIC:            -32.1810\n",
       "Dependent Variable: heart            Log-Likelihood: -10.871 \n",
       "Date:               2023-02-22 17:38 LL-Null:        -12.217 \n",
       "No. Observations:   20               Deviance:       21.742  \n",
       "Df Model:           1                Pearson chi2:   20.0    \n",
       "Df Residuals:       18               Scale:          1.0000  \n",
       "Method:             IRLS                                     \n",
       "--------------------------------------------------------------\n",
       "           Coef.   Std.Err.     z     P>|z|    [0.025   0.975]\n",
       "--------------------------------------------------------------\n",
       "const     -1.3863    0.6455  -2.1476  0.0317  -2.6514  -0.1211\n",
       "angina     1.7918    1.1180   1.6026  0.1090  -0.3995   3.9831\n",
       "=============================================================\n",
       "\n",
       "\"\"\""
      ]
     },
     "execution_count": 23,
     "metadata": {},
     "output_type": "execute_result"
    }
   ],
   "source": [
    "# print a second type of summary\n",
    "res_1.summary2()"
   ]
  },
  {
   "cell_type": "code",
   "execution_count": 24,
   "id": "862e0cf4",
   "metadata": {},
   "outputs": [
    {
     "data": {
      "text/html": [
       "<div>\n",
       "<style scoped>\n",
       "    .dataframe tbody tr th:only-of-type {\n",
       "        vertical-align: middle;\n",
       "    }\n",
       "\n",
       "    .dataframe tbody tr th {\n",
       "        vertical-align: top;\n",
       "    }\n",
       "\n",
       "    .dataframe thead th {\n",
       "        text-align: right;\n",
       "    }\n",
       "</style>\n",
       "<table border=\"1\" class=\"dataframe\">\n",
       "  <thead>\n",
       "    <tr style=\"text-align: right;\">\n",
       "      <th></th>\n",
       "      <th>Coef.</th>\n",
       "      <th>Std.Err.</th>\n",
       "      <th>z</th>\n",
       "      <th>P&gt;|z|</th>\n",
       "      <th>[0.025</th>\n",
       "      <th>0.975]</th>\n",
       "    </tr>\n",
       "  </thead>\n",
       "  <tbody>\n",
       "    <tr>\n",
       "      <th>const</th>\n",
       "      <td>-1.386294</td>\n",
       "      <td>0.645497</td>\n",
       "      <td>-2.147639</td>\n",
       "      <td>0.031742</td>\n",
       "      <td>-2.651445</td>\n",
       "      <td>-0.121143</td>\n",
       "    </tr>\n",
       "    <tr>\n",
       "      <th>angina</th>\n",
       "      <td>1.791759</td>\n",
       "      <td>1.118034</td>\n",
       "      <td>1.602599</td>\n",
       "      <td>0.109023</td>\n",
       "      <td>-0.399547</td>\n",
       "      <td>3.983066</td>\n",
       "    </tr>\n",
       "  </tbody>\n",
       "</table>\n",
       "</div>"
      ],
      "text/plain": [
       "           Coef.  Std.Err.         z     P>|z|    [0.025    0.975]\n",
       "const  -1.386294  0.645497 -2.147639  0.031742 -2.651445 -0.121143\n",
       "angina  1.791759  1.118034  1.602599  0.109023 -0.399547  3.983066"
      ]
     },
     "execution_count": 24,
     "metadata": {},
     "output_type": "execute_result"
    }
   ],
   "source": [
    "res_1.summary2().tables[1]"
   ]
  },
  {
   "cell_type": "code",
   "execution_count": 25,
   "id": "32ee33b6",
   "metadata": {},
   "outputs": [
    {
     "data": {
      "text/html": [
       "<div>\n",
       "<style scoped>\n",
       "    .dataframe tbody tr th:only-of-type {\n",
       "        vertical-align: middle;\n",
       "    }\n",
       "\n",
       "    .dataframe tbody tr th {\n",
       "        vertical-align: top;\n",
       "    }\n",
       "\n",
       "    .dataframe thead th {\n",
       "        text-align: right;\n",
       "    }\n",
       "</style>\n",
       "<table border=\"1\" class=\"dataframe\">\n",
       "  <thead>\n",
       "    <tr style=\"text-align: right;\">\n",
       "      <th></th>\n",
       "      <th>Coef.</th>\n",
       "      <th>Std.Err.</th>\n",
       "      <th>z</th>\n",
       "      <th>P&gt;|z|</th>\n",
       "      <th>[0.025</th>\n",
       "      <th>0.975]</th>\n",
       "      <th>Odds Ratio</th>\n",
       "    </tr>\n",
       "  </thead>\n",
       "  <tbody>\n",
       "    <tr>\n",
       "      <th>const</th>\n",
       "      <td>-1.386294</td>\n",
       "      <td>0.645497</td>\n",
       "      <td>-2.147639</td>\n",
       "      <td>0.031742</td>\n",
       "      <td>-2.651445</td>\n",
       "      <td>-0.121143</td>\n",
       "      <td>0.25</td>\n",
       "    </tr>\n",
       "    <tr>\n",
       "      <th>angina</th>\n",
       "      <td>1.791759</td>\n",
       "      <td>1.118034</td>\n",
       "      <td>1.602599</td>\n",
       "      <td>0.109023</td>\n",
       "      <td>-0.399547</td>\n",
       "      <td>3.983066</td>\n",
       "      <td>6.00</td>\n",
       "    </tr>\n",
       "  </tbody>\n",
       "</table>\n",
       "</div>"
      ],
      "text/plain": [
       "           Coef.  Std.Err.         z     P>|z|    [0.025    0.975]  Odds Ratio\n",
       "const  -1.386294  0.645497 -2.147639  0.031742 -2.651445 -0.121143        0.25\n",
       "angina  1.791759  1.118034  1.602599  0.109023 -0.399547  3.983066        6.00"
      ]
     },
     "execution_count": 25,
     "metadata": {},
     "output_type": "execute_result"
    }
   ],
   "source": [
    "res_1_df = pd.DataFrame(res_1.summary2().tables[1])\n",
    "res_1_df[\"Odds Ratio\"] = np.exp(res_1_df[\"Coef.\"])\n",
    "res_1_df"
   ]
  },
  {
   "cell_type": "code",
   "execution_count": 26,
   "id": "08ef1b7a",
   "metadata": {
    "scrolled": true
   },
   "outputs": [
    {
     "data": {
      "text/plain": [
       "['__class__',\n",
       " '__delattr__',\n",
       " '__dict__',\n",
       " '__dir__',\n",
       " '__doc__',\n",
       " '__eq__',\n",
       " '__format__',\n",
       " '__ge__',\n",
       " '__getattribute__',\n",
       " '__gt__',\n",
       " '__hash__',\n",
       " '__init__',\n",
       " '__init_subclass__',\n",
       " '__le__',\n",
       " '__lt__',\n",
       " '__module__',\n",
       " '__ne__',\n",
       " '__new__',\n",
       " '__reduce__',\n",
       " '__reduce_ex__',\n",
       " '__repr__',\n",
       " '__setattr__',\n",
       " '__sizeof__',\n",
       " '__str__',\n",
       " '__subclasshook__',\n",
       " '__weakref__',\n",
       " '_cache',\n",
       " '_data_attr',\n",
       " '_data_attr_model',\n",
       " '_data_in_cache',\n",
       " '_endog',\n",
       " '_freq_weights',\n",
       " '_get_robustcov_results',\n",
       " '_iweights',\n",
       " '_n_trials',\n",
       " '_use_t',\n",
       " '_var_weights',\n",
       " 'aic',\n",
       " 'bic',\n",
       " 'bic_deviance',\n",
       " 'bic_llf',\n",
       " 'bse',\n",
       " 'conf_int',\n",
       " 'converged',\n",
       " 'cov_kwds',\n",
       " 'cov_params',\n",
       " 'cov_type',\n",
       " 'deviance',\n",
       " 'df_model',\n",
       " 'df_resid',\n",
       " 'f_test',\n",
       " 'family',\n",
       " 'fit_history',\n",
       " 'fittedvalues',\n",
       " 'get_hat_matrix_diag',\n",
       " 'get_influence',\n",
       " 'get_prediction',\n",
       " 'info_criteria',\n",
       " 'initialize',\n",
       " 'k_constant',\n",
       " 'llf',\n",
       " 'llf_scaled',\n",
       " 'llnull',\n",
       " 'load',\n",
       " 'method',\n",
       " 'mle_settings',\n",
       " 'model',\n",
       " 'mu',\n",
       " 'nobs',\n",
       " 'normalized_cov_params',\n",
       " 'null',\n",
       " 'null_deviance',\n",
       " 'params',\n",
       " 'pearson_chi2',\n",
       " 'plot_added_variable',\n",
       " 'plot_ceres_residuals',\n",
       " 'plot_partial_residuals',\n",
       " 'predict',\n",
       " 'pseudo_rsquared',\n",
       " 'pvalues',\n",
       " 'remove_data',\n",
       " 'resid_anscombe',\n",
       " 'resid_anscombe_scaled',\n",
       " 'resid_anscombe_unscaled',\n",
       " 'resid_deviance',\n",
       " 'resid_pearson',\n",
       " 'resid_response',\n",
       " 'resid_working',\n",
       " 'save',\n",
       " 'scale',\n",
       " 'summary',\n",
       " 'summary2',\n",
       " 't_test',\n",
       " 't_test_pairwise',\n",
       " 'tvalues',\n",
       " 'use_t',\n",
       " 'wald_test',\n",
       " 'wald_test_terms']"
      ]
     },
     "execution_count": 26,
     "metadata": {},
     "output_type": "execute_result"
    }
   ],
   "source": [
    "dir(res_1)"
   ]
  },
  {
   "cell_type": "code",
   "execution_count": 31,
   "id": "5c131280",
   "metadata": {
    "scrolled": true
   },
   "outputs": [
    {
     "data": {
      "text/plain": [
       "0     0.6\n",
       "1     0.2\n",
       "2     0.2\n",
       "3     0.2\n",
       "4     0.6\n",
       "5     0.6\n",
       "6     0.2\n",
       "7     0.2\n",
       "8     0.2\n",
       "9     0.2\n",
       "10    0.6\n",
       "11    0.2\n",
       "12    0.2\n",
       "13    0.2\n",
       "14    0.2\n",
       "15    0.2\n",
       "16    0.6\n",
       "17    0.2\n",
       "18    0.2\n",
       "19    0.2\n",
       "dtype: float64"
      ]
     },
     "execution_count": 31,
     "metadata": {},
     "output_type": "execute_result"
    }
   ],
   "source": [
    "pred_proba_1 = res_1.predict(sm.add_constant(df['angina']))\n",
    "pred_proba_1"
   ]
  },
  {
   "cell_type": "code",
   "execution_count": 32,
   "id": "cbc7a99e",
   "metadata": {},
   "outputs": [],
   "source": [
    "pred_proba_1_prim = res_1.get_prediction().predicted_mean"
   ]
  },
  {
   "cell_type": "code",
   "execution_count": 33,
   "id": "9a42f924",
   "metadata": {},
   "outputs": [
    {
     "data": {
      "text/plain": [
       "1.0"
      ]
     },
     "execution_count": 33,
     "metadata": {},
     "output_type": "execute_result"
    }
   ],
   "source": [
    "(pred_proba_1.values == pred_proba_1_prim).mean()"
   ]
  },
  {
   "cell_type": "code",
   "execution_count": 37,
   "id": "da1b9c78",
   "metadata": {},
   "outputs": [
    {
     "data": {
      "image/png": "[encoded data removed]",
      "text/plain": [
       "<Figure size 700x700 with 1 Axes>"
      ]
     },
     "metadata": {},
     "output_type": "display_data"
    }
   ],
   "source": [
    "# Calculate the True Positive Rate and False Positive Rate for different thresholds\n",
    "fpr, tpr, thresholds = roc_curve(df['heart'], pred_proba_1)\n",
    "\n",
    "# Plot the ROC curve\n",
    "plt.figure(figsize=(7,7))\n",
    "plt.plot(fpr, tpr, label='ROC curve (area = %0.3f)' % auc(fpr, tpr))\n",
    "plt.plot([0, 1], [0, 1], linestyle='--', label='y=x')\n",
    "plt.xlim([0.0, 1.0])\n",
    "plt.ylim([0.0, 1.05])\n",
    "plt.xlabel('False Positive Rate')\n",
    "plt.ylabel('True Positive Rate')\n",
    "plt.title('Receiver Operating Characteristic')\n",
    "plt.legend(loc=\"lower right\")\n",
    "plt.show()"
   ]
  },
  {
   "cell_type": "code",
   "execution_count": 40,
   "id": "afec887d",
   "metadata": {},
   "outputs": [
    {
     "data": {
      "text/plain": [
       "array([1, 0, 0, 0, 1, 1, 0, 0, 0, 0, 1, 0, 0, 0, 0, 0, 1, 0, 0, 0])"
      ]
     },
     "execution_count": 40,
     "metadata": {},
     "output_type": "execute_result"
    }
   ],
   "source": [
    "threshold = 0.5\n",
    "pred_1 = np.where(pred_proba_1 > threshold, 1, 0)\n",
    "pred_1"
   ]
  },
  {
   "cell_type": "code",
   "execution_count": 41,
   "id": "7d4625bb",
   "metadata": {},
   "outputs": [
    {
     "data": {
      "text/plain": [
       "array([[12,  2],\n",
       "       [ 3,  3]], dtype=int64)"
      ]
     },
     "execution_count": 41,
     "metadata": {},
     "output_type": "execute_result"
    }
   ],
   "source": [
    "confusion_matrix(df['heart'], pred_1)"
   ]
  },
  {
   "cell_type": "code",
   "execution_count": 72,
   "id": "75ac0c67",
   "metadata": {},
   "outputs": [],
   "source": [
    "df_confusion_1 = pd.DataFrame(confusion_matrix(df['heart'], pred_1), \n",
    "                            index=['actual negative', 'actual positive'], columns=['predicted negative', 'predicted positive'])\n",
    "df_confusion_1['column margin']=df_confusion_1.sum(axis=1)\n",
    "df_confusion_1.loc['row margin'] = df_confusion_1.sum(axis=0)"
   ]
  },
  {
   "cell_type": "code",
   "execution_count": 73,
   "id": "6bcff464",
   "metadata": {},
   "outputs": [
    {
     "data": {
      "text/html": [
       "<div>\n",
       "<style scoped>\n",
       "    .dataframe tbody tr th:only-of-type {\n",
       "        vertical-align: middle;\n",
       "    }\n",
       "\n",
       "    .dataframe tbody tr th {\n",
       "        vertical-align: top;\n",
       "    }\n",
       "\n",
       "    .dataframe thead th {\n",
       "        text-align: right;\n",
       "    }\n",
       "</style>\n",
       "<table border=\"1\" class=\"dataframe\">\n",
       "  <thead>\n",
       "    <tr style=\"text-align: right;\">\n",
       "      <th></th>\n",
       "      <th>predicted negative</th>\n",
       "      <th>predicted positive</th>\n",
       "      <th>column margin</th>\n",
       "    </tr>\n",
       "  </thead>\n",
       "  <tbody>\n",
       "    <tr>\n",
       "      <th>actual negative</th>\n",
       "      <td>12</td>\n",
       "      <td>2</td>\n",
       "      <td>14</td>\n",
       "    </tr>\n",
       "    <tr>\n",
       "      <th>actual positive</th>\n",
       "      <td>3</td>\n",
       "      <td>3</td>\n",
       "      <td>6</td>\n",
       "    </tr>\n",
       "    <tr>\n",
       "      <th>row margin</th>\n",
       "      <td>15</td>\n",
       "      <td>5</td>\n",
       "      <td>20</td>\n",
       "    </tr>\n",
       "  </tbody>\n",
       "</table>\n",
       "</div>"
      ],
      "text/plain": [
       "                 predicted negative  predicted positive  column margin\n",
       "actual negative                  12                   2             14\n",
       "actual positive                   3                   3              6\n",
       "row margin                       15                   5             20"
      ]
     },
     "execution_count": 73,
     "metadata": {},
     "output_type": "execute_result"
    }
   ],
   "source": [
    "df_confusion_1"
   ]
  },
  {
   "cell_type": "code",
   "execution_count": 44,
   "id": "ea54fad3",
   "metadata": {},
   "outputs": [
    {
     "name": "stdout",
     "output_type": "stream",
     "text": [
      "              precision    recall  f1-score   support\n",
      "\n",
      "           0       0.80      0.86      0.83        14\n",
      "           1       0.60      0.50      0.55         6\n",
      "\n",
      "    accuracy                           0.75        20\n",
      "   macro avg       0.70      0.68      0.69        20\n",
      "weighted avg       0.74      0.75      0.74        20\n",
      "\n"
     ]
    }
   ],
   "source": [
    "print(classification_report(df['heart'], pred_1))"
   ]
  },
  {
   "cell_type": "markdown",
   "id": "aa689500",
   "metadata": {},
   "source": [
    "## Model 2 : `all variables` predictors of hear condition"
   ]
  },
  {
   "cell_type": "code",
   "execution_count": 45,
   "id": "6370bde4",
   "metadata": {},
   "outputs": [],
   "source": [
    "y = df[\"heart\"]\n",
    "X = sm.add_constant(df.drop(columns=[\"heart\"]))"
   ]
  },
  {
   "cell_type": "code",
   "execution_count": 46,
   "id": "db9dfe28",
   "metadata": {},
   "outputs": [],
   "source": [
    "# simple model with one categorical (binary predictor)\n",
    "logit_2 = GLM(y, X, family=sm.families.Binomial())\n",
    "res_2 = logit_2.fit()"
   ]
  },
  {
   "cell_type": "code",
   "execution_count": 47,
   "id": "75abdac4",
   "metadata": {},
   "outputs": [
    {
     "data": {
      "text/html": [
       "<table class=\"simpletable\">\n",
       "<caption>Generalized Linear Model Regression Results</caption>\n",
       "<tr>\n",
       "  <th>Dep. Variable:</th>         <td>heart</td>      <th>  No. Observations:  </th>  <td>    20</td> \n",
       "</tr>\n",
       "<tr>\n",
       "  <th>Model:</th>                  <td>GLM</td>       <th>  Df Residuals:      </th>  <td>    16</td> \n",
       "</tr>\n",
       "<tr>\n",
       "  <th>Model Family:</th>        <td>Binomial</td>     <th>  Df Model:          </th>  <td>     3</td> \n",
       "</tr>\n",
       "<tr>\n",
       "  <th>Link Function:</th>         <td>Logit</td>      <th>  Scale:             </th> <td>  1.0000</td>\n",
       "</tr>\n",
       "<tr>\n",
       "  <th>Method:</th>                <td>IRLS</td>       <th>  Log-Likelihood:    </th> <td> -8.3088</td>\n",
       "</tr>\n",
       "<tr>\n",
       "  <th>Date:</th>            <td>Wed, 22 Feb 2023</td> <th>  Deviance:          </th> <td>  16.618</td>\n",
       "</tr>\n",
       "<tr>\n",
       "  <th>Time:</th>                <td>18:16:40</td>     <th>  Pearson chi2:      </th>  <td>  16.4</td> \n",
       "</tr>\n",
       "<tr>\n",
       "  <th>No. Iterations:</th>          <td>5</td>        <th>  Pseudo R-squ. (CS):</th>  <td>0.3235</td> \n",
       "</tr>\n",
       "<tr>\n",
       "  <th>Covariance Type:</th>     <td>nonrobust</td>    <th>                     </th>     <td> </td>   \n",
       "</tr>\n",
       "</table>\n",
       "<table class=\"simpletable\">\n",
       "<tr>\n",
       "      <td></td>        <th>coef</th>     <th>std err</th>      <th>z</th>      <th>P>|z|</th>  <th>[0.025</th>    <th>0.975]</th>  \n",
       "</tr>\n",
       "<tr>\n",
       "  <th>const</th>    <td>   14.4938</td> <td>    7.955</td> <td>    1.822</td> <td> 0.068</td> <td>   -1.097</td> <td>   30.085</td>\n",
       "</tr>\n",
       "<tr>\n",
       "  <th>age</th>      <td>   -0.1256</td> <td>    0.094</td> <td>   -1.339</td> <td> 0.180</td> <td>   -0.309</td> <td>    0.058</td>\n",
       "</tr>\n",
       "<tr>\n",
       "  <th>max_rate</th> <td>   -0.0636</td> <td>    0.040</td> <td>   -1.572</td> <td> 0.116</td> <td>   -0.143</td> <td>    0.016</td>\n",
       "</tr>\n",
       "<tr>\n",
       "  <th>angina</th>   <td>    1.7790</td> <td>    1.504</td> <td>    1.182</td> <td> 0.237</td> <td>   -1.170</td> <td>    4.728</td>\n",
       "</tr>\n",
       "</table>"
      ],
      "text/plain": [
       "<class 'statsmodels.iolib.summary.Summary'>\n",
       "\"\"\"\n",
       "                 Generalized Linear Model Regression Results                  \n",
       "==============================================================================\n",
       "Dep. Variable:                  heart   No. Observations:                   20\n",
       "Model:                            GLM   Df Residuals:                       16\n",
       "Model Family:                Binomial   Df Model:                            3\n",
       "Link Function:                  Logit   Scale:                          1.0000\n",
       "Method:                          IRLS   Log-Likelihood:                -8.3088\n",
       "Date:                Wed, 22 Feb 2023   Deviance:                       16.618\n",
       "Time:                        18:16:40   Pearson chi2:                     16.4\n",
       "No. Iterations:                     5   Pseudo R-squ. (CS):             0.3235\n",
       "Covariance Type:            nonrobust                                         \n",
       "==============================================================================\n",
       "                 coef    std err          z      P>|z|      [0.025      0.975]\n",
       "------------------------------------------------------------------------------\n",
       "const         14.4938      7.955      1.822      0.068      -1.097      30.085\n",
       "age           -0.1256      0.094     -1.339      0.180      -0.309       0.058\n",
       "max_rate      -0.0636      0.040     -1.572      0.116      -0.143       0.016\n",
       "angina         1.7790      1.504      1.182      0.237      -1.170       4.728\n",
       "==============================================================================\n",
       "\"\"\""
      ]
     },
     "execution_count": 47,
     "metadata": {},
     "output_type": "execute_result"
    }
   ],
   "source": [
    "# print a first summary type\n",
    "res_2.summary()"
   ]
  },
  {
   "cell_type": "code",
   "execution_count": 48,
   "id": "8d82f7e5",
   "metadata": {},
   "outputs": [
    {
     "data": {
      "text/html": [
       "<table class=\"simpletable\">\n",
       "<tr>\n",
       "        <td>Model:</td>               <td>GLM</td>            <td>AIC:</td>        <td>24.6177</td>\n",
       "</tr>\n",
       "<tr>\n",
       "    <td>Link Function:</td>          <td>Logit</td>           <td>BIC:</td>       <td>-31.3140</td>\n",
       "</tr>\n",
       "<tr>\n",
       "  <td>Dependent Variable:</td>       <td>heart</td>      <td>Log-Likelihood:</td>  <td>-8.3088</td>\n",
       "</tr>\n",
       "<tr>\n",
       "         <td>Date:</td>        <td>2023-02-22 18:16</td>    <td>LL-Null:</td>      <td>-12.217</td>\n",
       "</tr>\n",
       "<tr>\n",
       "   <td>No. Observations:</td>         <td>20</td>           <td>Deviance:</td>     <td>16.618</td> \n",
       "</tr>\n",
       "<tr>\n",
       "       <td>Df Model:</td>              <td>3</td>         <td>Pearson chi2:</td>    <td>16.4</td>  \n",
       "</tr>\n",
       "<tr>\n",
       "     <td>Df Residuals:</td>           <td>16</td>            <td>Scale:</td>       <td>1.0000</td> \n",
       "</tr>\n",
       "<tr>\n",
       "        <td>Method:</td>             <td>IRLS</td>              <td></td>             <td></td>    \n",
       "</tr>\n",
       "</table>\n",
       "<table class=\"simpletable\">\n",
       "<tr>\n",
       "      <td></td>      <th>Coef.</th>  <th>Std.Err.</th>    <th>z</th>     <th>P>|z|</th> <th>[0.025</th>  <th>0.975]</th> \n",
       "</tr>\n",
       "<tr>\n",
       "  <th>const</th>    <td>14.4938</td>  <td>7.9546</td>  <td>1.8221</td>  <td>0.0684</td> <td>-1.0970</td> <td>30.0846</td>\n",
       "</tr>\n",
       "<tr>\n",
       "  <th>age</th>      <td>-0.1256</td>  <td>0.0938</td>  <td>-1.3393</td> <td>0.1805</td> <td>-0.3095</td> <td>0.0582</td> \n",
       "</tr>\n",
       "<tr>\n",
       "  <th>max_rate</th> <td>-0.0636</td>  <td>0.0404</td>  <td>-1.5715</td> <td>0.1161</td> <td>-0.1428</td> <td>0.0157</td> \n",
       "</tr>\n",
       "<tr>\n",
       "  <th>angina</th>   <td>1.7790</td>   <td>1.5045</td>  <td>1.1825</td>  <td>0.2370</td> <td>-1.1697</td> <td>4.7278</td> \n",
       "</tr>\n",
       "</table>"
      ],
      "text/plain": [
       "<class 'statsmodels.iolib.summary2.Summary'>\n",
       "\"\"\"\n",
       "              Results: Generalized linear model\n",
       "=============================================================\n",
       "Model:              GLM              AIC:            24.6177 \n",
       "Link Function:      Logit            BIC:            -31.3140\n",
       "Dependent Variable: heart            Log-Likelihood: -8.3088 \n",
       "Date:               2023-02-22 18:16 LL-Null:        -12.217 \n",
       "No. Observations:   20               Deviance:       16.618  \n",
       "Df Model:           3                Pearson chi2:   16.4    \n",
       "Df Residuals:       16               Scale:          1.0000  \n",
       "Method:             IRLS                                     \n",
       "--------------------------------------------------------------\n",
       "           Coef.   Std.Err.     z     P>|z|    [0.025   0.975]\n",
       "--------------------------------------------------------------\n",
       "const     14.4938    7.9546   1.8221  0.0684  -1.0970  30.0846\n",
       "age       -0.1256    0.0938  -1.3393  0.1805  -0.3095   0.0582\n",
       "max_rate  -0.0636    0.0404  -1.5715  0.1161  -0.1428   0.0157\n",
       "angina     1.7790    1.5045   1.1825  0.2370  -1.1697   4.7278\n",
       "=============================================================\n",
       "\n",
       "\"\"\""
      ]
     },
     "execution_count": 48,
     "metadata": {},
     "output_type": "execute_result"
    }
   ],
   "source": [
    "# print a second type of summary\n",
    "res_2.summary2()"
   ]
  },
  {
   "cell_type": "code",
   "execution_count": 49,
   "id": "765715c4",
   "metadata": {},
   "outputs": [
    {
     "data": {
      "text/html": [
       "<div>\n",
       "<style scoped>\n",
       "    .dataframe tbody tr th:only-of-type {\n",
       "        vertical-align: middle;\n",
       "    }\n",
       "\n",
       "    .dataframe tbody tr th {\n",
       "        vertical-align: top;\n",
       "    }\n",
       "\n",
       "    .dataframe thead th {\n",
       "        text-align: right;\n",
       "    }\n",
       "</style>\n",
       "<table border=\"1\" class=\"dataframe\">\n",
       "  <thead>\n",
       "    <tr style=\"text-align: right;\">\n",
       "      <th></th>\n",
       "      <th>Coef.</th>\n",
       "      <th>Std.Err.</th>\n",
       "      <th>z</th>\n",
       "      <th>P&gt;|z|</th>\n",
       "      <th>[0.025</th>\n",
       "      <th>0.975]</th>\n",
       "    </tr>\n",
       "  </thead>\n",
       "  <tbody>\n",
       "    <tr>\n",
       "      <th>const</th>\n",
       "      <td>14.493791</td>\n",
       "      <td>7.954644</td>\n",
       "      <td>1.822054</td>\n",
       "      <td>0.068447</td>\n",
       "      <td>-1.097024</td>\n",
       "      <td>30.084605</td>\n",
       "    </tr>\n",
       "    <tr>\n",
       "      <th>age</th>\n",
       "      <td>-0.125634</td>\n",
       "      <td>0.093803</td>\n",
       "      <td>-1.339344</td>\n",
       "      <td>0.180459</td>\n",
       "      <td>-0.309484</td>\n",
       "      <td>0.058216</td>\n",
       "    </tr>\n",
       "    <tr>\n",
       "      <th>max_rate</th>\n",
       "      <td>-0.063560</td>\n",
       "      <td>0.040446</td>\n",
       "      <td>-1.571500</td>\n",
       "      <td>0.116066</td>\n",
       "      <td>-0.142832</td>\n",
       "      <td>0.015712</td>\n",
       "    </tr>\n",
       "    <tr>\n",
       "      <th>angina</th>\n",
       "      <td>1.779013</td>\n",
       "      <td>1.504491</td>\n",
       "      <td>1.182468</td>\n",
       "      <td>0.237020</td>\n",
       "      <td>-1.169735</td>\n",
       "      <td>4.727761</td>\n",
       "    </tr>\n",
       "  </tbody>\n",
       "</table>\n",
       "</div>"
      ],
      "text/plain": [
       "              Coef.  Std.Err.         z     P>|z|    [0.025     0.975]\n",
       "const     14.493791  7.954644  1.822054  0.068447 -1.097024  30.084605\n",
       "age       -0.125634  0.093803 -1.339344  0.180459 -0.309484   0.058216\n",
       "max_rate  -0.063560  0.040446 -1.571500  0.116066 -0.142832   0.015712\n",
       "angina     1.779013  1.504491  1.182468  0.237020 -1.169735   4.727761"
      ]
     },
     "execution_count": 49,
     "metadata": {},
     "output_type": "execute_result"
    }
   ],
   "source": [
    "res_2.summary2().tables[1]"
   ]
  },
  {
   "cell_type": "code",
   "execution_count": 52,
   "id": "09b3af72",
   "metadata": {},
   "outputs": [
    {
     "data": {
      "text/html": [
       "<div>\n",
       "<style scoped>\n",
       "    .dataframe tbody tr th:only-of-type {\n",
       "        vertical-align: middle;\n",
       "    }\n",
       "\n",
       "    .dataframe tbody tr th {\n",
       "        vertical-align: top;\n",
       "    }\n",
       "\n",
       "    .dataframe thead th {\n",
       "        text-align: right;\n",
       "    }\n",
       "</style>\n",
       "<table border=\"1\" class=\"dataframe\">\n",
       "  <thead>\n",
       "    <tr style=\"text-align: right;\">\n",
       "      <th></th>\n",
       "      <th>Coef.</th>\n",
       "      <th>Std.Err.</th>\n",
       "      <th>z</th>\n",
       "      <th>P&gt;|z|</th>\n",
       "      <th>[0.025</th>\n",
       "      <th>0.975]</th>\n",
       "      <th>Odds Ratio</th>\n",
       "    </tr>\n",
       "  </thead>\n",
       "  <tbody>\n",
       "    <tr>\n",
       "      <th>const</th>\n",
       "      <td>14.493791</td>\n",
       "      <td>7.954644</td>\n",
       "      <td>1.822054</td>\n",
       "      <td>0.068447</td>\n",
       "      <td>-1.097024</td>\n",
       "      <td>30.084605</td>\n",
       "      <td>1.970485e+06</td>\n",
       "    </tr>\n",
       "    <tr>\n",
       "      <th>age</th>\n",
       "      <td>-0.125634</td>\n",
       "      <td>0.093803</td>\n",
       "      <td>-1.339344</td>\n",
       "      <td>0.180459</td>\n",
       "      <td>-0.309484</td>\n",
       "      <td>0.058216</td>\n",
       "      <td>8.819375e-01</td>\n",
       "    </tr>\n",
       "    <tr>\n",
       "      <th>max_rate</th>\n",
       "      <td>-0.063560</td>\n",
       "      <td>0.040446</td>\n",
       "      <td>-1.571500</td>\n",
       "      <td>0.116066</td>\n",
       "      <td>-0.142832</td>\n",
       "      <td>0.015712</td>\n",
       "      <td>9.384175e-01</td>\n",
       "    </tr>\n",
       "    <tr>\n",
       "      <th>angina</th>\n",
       "      <td>1.779013</td>\n",
       "      <td>1.504491</td>\n",
       "      <td>1.182468</td>\n",
       "      <td>0.237020</td>\n",
       "      <td>-1.169735</td>\n",
       "      <td>4.727761</td>\n",
       "      <td>5.924006e+00</td>\n",
       "    </tr>\n",
       "  </tbody>\n",
       "</table>\n",
       "</div>"
      ],
      "text/plain": [
       "              Coef.  Std.Err.         z     P>|z|    [0.025     0.975]  \\\n",
       "const     14.493791  7.954644  1.822054  0.068447 -1.097024  30.084605   \n",
       "age       -0.125634  0.093803 -1.339344  0.180459 -0.309484   0.058216   \n",
       "max_rate  -0.063560  0.040446 -1.571500  0.116066 -0.142832   0.015712   \n",
       "angina     1.779013  1.504491  1.182468  0.237020 -1.169735   4.727761   \n",
       "\n",
       "            Odds Ratio  \n",
       "const     1.970485e+06  \n",
       "age       8.819375e-01  \n",
       "max_rate  9.384175e-01  \n",
       "angina    5.924006e+00  "
      ]
     },
     "execution_count": 52,
     "metadata": {},
     "output_type": "execute_result"
    }
   ],
   "source": [
    "res_2_df = pd.DataFrame(res_2.summary2().tables[1])\n",
    "res_2_df[\"Odds Ratio\"] = np.exp(res_2_df[\"Coef.\"])\n",
    "res_2_df"
   ]
  },
  {
   "cell_type": "code",
   "execution_count": 55,
   "id": "06955c82",
   "metadata": {
    "scrolled": true
   },
   "outputs": [
    {
     "data": {
      "text/plain": [
       "0     0.878947\n",
       "1     0.581545\n",
       "2     0.392203\n",
       "3     0.378208\n",
       "4     0.213359\n",
       "5     0.876555\n",
       "6     0.016410\n",
       "7     0.071037\n",
       "8     0.377509\n",
       "9     0.036248\n",
       "10    0.858419\n",
       "11    0.105754\n",
       "12    0.103664\n",
       "13    0.405660\n",
       "14    0.124377\n",
       "15    0.058366\n",
       "16    0.172720\n",
       "17    0.138185\n",
       "18    0.137127\n",
       "19    0.073707\n",
       "dtype: float64"
      ]
     },
     "execution_count": 55,
     "metadata": {},
     "output_type": "execute_result"
    }
   ],
   "source": [
    "pred_proba_2 = res_2.predict(sm.add_constant(df.drop(columns=[\"heart\"])))\n",
    "pred_proba_2"
   ]
  },
  {
   "cell_type": "code",
   "execution_count": 56,
   "id": "880c9acc",
   "metadata": {},
   "outputs": [],
   "source": [
    "pred_proba_2_prim = res_2.get_prediction().predicted_mean"
   ]
  },
  {
   "cell_type": "code",
   "execution_count": 57,
   "id": "fab4fa2d",
   "metadata": {},
   "outputs": [
    {
     "data": {
      "text/plain": [
       "1.0"
      ]
     },
     "execution_count": 57,
     "metadata": {},
     "output_type": "execute_result"
    }
   ],
   "source": [
    "(pred_proba_2.values == pred_proba_2_prim).mean()"
   ]
  },
  {
   "cell_type": "code",
   "execution_count": 58,
   "id": "26dca91b",
   "metadata": {},
   "outputs": [
    {
     "data": {
      "image/png": "[encoded data removed]",
      "text/plain": [
       "<Figure size 700x700 with 1 Axes>"
      ]
     },
     "metadata": {},
     "output_type": "display_data"
    }
   ],
   "source": [
    "# Calculate the True Positive Rate and False Positive Rate for different thresholds\n",
    "fpr, tpr, thresholds = roc_curve(df['heart'], pred_proba_2)\n",
    "\n",
    "# Plot the ROC curve\n",
    "plt.figure(figsize=(7,7))\n",
    "plt.plot(fpr, tpr, label='ROC curve (area = %0.3f)' % auc(fpr, tpr))\n",
    "plt.plot([0, 1], [0, 1], linestyle='--', label='y=x')\n",
    "plt.xlim([0.0, 1.0])\n",
    "plt.ylim([0.0, 1.05])\n",
    "plt.xlabel('False Positive Rate')\n",
    "plt.ylabel('True Positive Rate')\n",
    "plt.title('Receiver Operating Characteristic')\n",
    "plt.legend(loc=\"lower right\")\n",
    "plt.show()"
   ]
  },
  {
   "cell_type": "code",
   "execution_count": 59,
   "id": "88f0b431",
   "metadata": {},
   "outputs": [
    {
     "data": {
      "text/plain": [
       "array([1, 1, 0, 0, 0, 1, 0, 0, 0, 0, 1, 0, 0, 0, 0, 0, 0, 0, 0, 0])"
      ]
     },
     "execution_count": 59,
     "metadata": {},
     "output_type": "execute_result"
    }
   ],
   "source": [
    "threshold = 0.5\n",
    "pred_2 = np.where(pred_proba_2 > threshold, 1, 0)\n",
    "pred_2"
   ]
  },
  {
   "cell_type": "code",
   "execution_count": 68,
   "id": "e6381cb9",
   "metadata": {},
   "outputs": [],
   "source": [
    "df_confusion = pd.DataFrame(confusion_matrix(df['heart'], pred_2), \n",
    "                            index=['actual negative', 'actual positive'], columns=['predicted negative', 'predicted positive'])\n",
    "df_confusion['column margin']=df_confusion.sum(axis=1)\n",
    "df_confusion.loc['row margin'] = df_confusion.sum(axis=0)"
   ]
  },
  {
   "cell_type": "code",
   "execution_count": 69,
   "id": "b4251194",
   "metadata": {},
   "outputs": [
    {
     "data": {
      "text/html": [
       "<div>\n",
       "<style scoped>\n",
       "    .dataframe tbody tr th:only-of-type {\n",
       "        vertical-align: middle;\n",
       "    }\n",
       "\n",
       "    .dataframe tbody tr th {\n",
       "        vertical-align: top;\n",
       "    }\n",
       "\n",
       "    .dataframe thead th {\n",
       "        text-align: right;\n",
       "    }\n",
       "</style>\n",
       "<table border=\"1\" class=\"dataframe\">\n",
       "  <thead>\n",
       "    <tr style=\"text-align: right;\">\n",
       "      <th></th>\n",
       "      <th>predicted negative</th>\n",
       "      <th>predicted positive</th>\n",
       "      <th>column margin</th>\n",
       "    </tr>\n",
       "  </thead>\n",
       "  <tbody>\n",
       "    <tr>\n",
       "      <th>actual negative</th>\n",
       "      <td>13</td>\n",
       "      <td>1</td>\n",
       "      <td>14</td>\n",
       "    </tr>\n",
       "    <tr>\n",
       "      <th>actual positive</th>\n",
       "      <td>3</td>\n",
       "      <td>3</td>\n",
       "      <td>6</td>\n",
       "    </tr>\n",
       "    <tr>\n",
       "      <th>row margin</th>\n",
       "      <td>16</td>\n",
       "      <td>4</td>\n",
       "      <td>20</td>\n",
       "    </tr>\n",
       "  </tbody>\n",
       "</table>\n",
       "</div>"
      ],
      "text/plain": [
       "                 predicted negative  predicted positive  column margin\n",
       "actual negative                  13                   1             14\n",
       "actual positive                   3                   3              6\n",
       "row margin                       16                   4             20"
      ]
     },
     "execution_count": 69,
     "metadata": {},
     "output_type": "execute_result"
    }
   ],
   "source": [
    "df_confusion"
   ]
  },
  {
   "cell_type": "code",
   "execution_count": 61,
   "id": "93236c1c",
   "metadata": {
    "scrolled": true
   },
   "outputs": [
    {
     "name": "stdout",
     "output_type": "stream",
     "text": [
      "              precision    recall  f1-score   support\n",
      "\n",
      "           0       0.81      0.93      0.87        14\n",
      "           1       0.75      0.50      0.60         6\n",
      "\n",
      "    accuracy                           0.80        20\n",
      "   macro avg       0.78      0.71      0.73        20\n",
      "weighted avg       0.79      0.80      0.79        20\n",
      "\n"
     ]
    }
   ],
   "source": [
    "print(classification_report(df['heart'], pred_2))"
   ]
  }
 ],
 "metadata": {
  "kernelspec": {
   "display_name": "Python 3 (ipykernel)",
   "language": "python",
   "name": "python3"
  },
  "language_info": {
   "codemirror_mode": {
    "name": "ipython",
    "version": 3
   },
   "file_extension": ".py",
   "mimetype": "text/x-python",
   "name": "python",
   "nbconvert_exporter": "python",
   "pygments_lexer": "ipython3",
   "version": "3.9.13"
  }
 },
 "nbformat": 4,
 "nbformat_minor": 5
}
